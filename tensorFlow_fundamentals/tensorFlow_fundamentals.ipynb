{
 "cells": [
  {
   "cell_type": "markdown",
   "metadata": {},
   "source": [
    "# **TensorFlow Fundamentals**"
   ]
  },
  {
   "cell_type": "markdown",
   "metadata": {},
   "source": [
    "### Part 1: Theoretical Questions\n",
    "\n",
    "#### Tc: What are the different data structures used in TensorFlow? Give some examples.\n",
    "\n",
    "TensorFlow uses several data structures to represent and manipulate data:\n",
    "\n",
    "1. **Tensors**: The primary data structure, representing n-dimensional arrays. \n",
    "   - Example: `tf.constant([1, 2, 3])` creates a 1D tensor.\n",
    "\n",
    "2. **Variables**: Mutable tensors used for storing and updating parameters during training.\n",
    "   - Example: `tf.Variable([1, 2, 3])` creates a variable.\n",
    "\n",
    "3. **Datasets**: Represent sequences of data, usually used for input pipelines.\n",
    "   - Example: `tf.data.Dataset.from_tensor_slices([1, 2, 3])` creates a dataset.\n",
    "\n",
    "4. **Sparse Tensors**: Efficiently represent tensors with a majority of elements being zero.\n",
    "   - Example: `tf.sparse.SparseTensor(indices=[[0, 1]], values=[1], dense_shape=[3, 4])`.\n",
    "\n",
    "5. **Ragged Tensors**: Handle tensors with varying shapes across one dimension.\n",
    "   - Example: `tf.ragged.constant([[1, 2, 3], [4, 5], [6]])`.\n"
   ]
  },
  {
   "cell_type": "markdown",
   "metadata": {},
   "source": [
    "#### Cc: How does the TensorFlow constant differ from a TensorFlow variable? Explain with an example.\n",
    "\n",
    "- **TensorFlow Constant**: Immutable once defined, used for storing fixed values.\n",
    "\n",
    "- **TensorFlow Variable**: Mutable, used for parameters that need to change during training (e.g., weights in a neural network).\n"
   ]
  },
  {
   "cell_type": "code",
   "execution_count": 1,
   "metadata": {},
   "outputs": [
    {
     "name": "stderr",
     "output_type": "stream",
     "text": [
      "2024-08-04 09:19:48.833593: E external/local_xla/xla/stream_executor/cuda/cuda_fft.cc:485] Unable to register cuFFT factory: Attempting to register factory for plugin cuFFT when one has already been registered\n",
      "2024-08-04 09:19:49.012897: E external/local_xla/xla/stream_executor/cuda/cuda_dnn.cc:8454] Unable to register cuDNN factory: Attempting to register factory for plugin cuDNN when one has already been registered\n",
      "2024-08-04 09:19:49.067664: E external/local_xla/xla/stream_executor/cuda/cuda_blas.cc:1452] Unable to register cuBLAS factory: Attempting to register factory for plugin cuBLAS when one has already been registered\n",
      "2024-08-04 09:19:49.397437: I tensorflow/core/platform/cpu_feature_guard.cc:210] This TensorFlow binary is optimized to use available CPU instructions in performance-critical operations.\n",
      "To enable the following instructions: AVX2 FMA, in other operations, rebuild TensorFlow with the appropriate compiler flags.\n",
      "2024-08-04 09:19:52.097008: W tensorflow/compiler/tf2tensorrt/utils/py_utils.cc:38] TF-TRT Warning: Could not find TensorRT\n"
     ]
    },
    {
     "name": "stdout",
     "output_type": "stream",
     "text": [
      "tf.Tensor([1 2 3], shape=(3,), dtype=int32)\n"
     ]
    },
    {
     "name": "stderr",
     "output_type": "stream",
     "text": [
      "WARNING: All log messages before absl::InitializeLog() is called are written to STDERR\n",
      "I0000 00:00:1722743397.047661    6014 cuda_executor.cc:1001] could not open file to read NUMA node: /sys/bus/pci/devices/0000:01:00.0/numa_node\n",
      "Your kernel may have been built without NUMA support.\n",
      "I0000 00:00:1722743397.472539    6014 cuda_executor.cc:1001] could not open file to read NUMA node: /sys/bus/pci/devices/0000:01:00.0/numa_node\n",
      "Your kernel may have been built without NUMA support.\n",
      "I0000 00:00:1722743397.472608    6014 cuda_executor.cc:1001] could not open file to read NUMA node: /sys/bus/pci/devices/0000:01:00.0/numa_node\n",
      "Your kernel may have been built without NUMA support.\n",
      "I0000 00:00:1722743397.479730    6014 cuda_executor.cc:1001] could not open file to read NUMA node: /sys/bus/pci/devices/0000:01:00.0/numa_node\n",
      "Your kernel may have been built without NUMA support.\n",
      "I0000 00:00:1722743397.479808    6014 cuda_executor.cc:1001] could not open file to read NUMA node: /sys/bus/pci/devices/0000:01:00.0/numa_node\n",
      "Your kernel may have been built without NUMA support.\n",
      "I0000 00:00:1722743397.479840    6014 cuda_executor.cc:1001] could not open file to read NUMA node: /sys/bus/pci/devices/0000:01:00.0/numa_node\n",
      "Your kernel may have been built without NUMA support.\n",
      "I0000 00:00:1722743398.361081    6014 cuda_executor.cc:1001] could not open file to read NUMA node: /sys/bus/pci/devices/0000:01:00.0/numa_node\n",
      "Your kernel may have been built without NUMA support.\n",
      "I0000 00:00:1722743398.361179    6014 cuda_executor.cc:1001] could not open file to read NUMA node: /sys/bus/pci/devices/0000:01:00.0/numa_node\n",
      "Your kernel may have been built without NUMA support.\n",
      "2024-08-04 09:19:58.361191: I tensorflow/core/common_runtime/gpu/gpu_device.cc:2112] Could not identify NUMA node of platform GPU id 0, defaulting to 0.  Your kernel may not have been built with NUMA support.\n",
      "I0000 00:00:1722743398.361253    6014 cuda_executor.cc:1001] could not open file to read NUMA node: /sys/bus/pci/devices/0000:01:00.0/numa_node\n",
      "Your kernel may have been built without NUMA support.\n",
      "2024-08-04 09:19:58.362072: I tensorflow/core/common_runtime/gpu/gpu_device.cc:2021] Created device /job:localhost/replica:0/task:0/device:GPU:0 with 1767 MB memory:  -> device: 0, name: NVIDIA GeForce RTX 3"
     ]
    },
    {
     "name": "stderr",
     "output_type": "stream",
     "text": [
      "050 Laptop GPU, pci bus id: 0000:01:00.0, compute capability: 8.6\n"
     ]
    }
   ],
   "source": [
    "import tensorflow as tf\n",
    "const = tf.constant([1, 2, 3])\n",
    "print(const)"
   ]
  },
  {
   "cell_type": "code",
   "execution_count": 4,
   "metadata": {},
   "outputs": [
    {
     "name": "stdout",
     "output_type": "stream",
     "text": [
      "<tf.Variable 'Variable:0' shape=(3,) dtype=int32, numpy=array([4, 5, 6], dtype=int32)>\n"
     ]
    }
   ],
   "source": [
    "var = tf.Variable([1, 2, 3])\n",
    "var.assign([4, 5, 6])\n",
    "print(var)"
   ]
  },
  {
   "cell_type": "markdown",
   "metadata": {},
   "source": [
    "#### =c: Describe the process of matrix addition, multiplication, and element-wise operations in TensorFlow.\n",
    "\n",
    "- **Matrix Addition**: Adds corresponding elements of two matrices.\n",
    "- **Matrix Multiplication**: Performs dot product of two matrices.\n",
    "- **Element-wise Operations**: Operations are applied to corresponding elements."
   ]
  },
  {
   "cell_type": "code",
   "execution_count": 5,
   "metadata": {},
   "outputs": [],
   "source": [
    "matrix1 = tf.constant([[1, 2], [3, 4]])\n",
    "matrix2 = tf.constant([[5, 6], [7, 8]])\n",
    "addition_result = tf.add(matrix1, matrix2)"
   ]
  },
  {
   "cell_type": "code",
   "execution_count": 6,
   "metadata": {},
   "outputs": [],
   "source": [
    "multiplication_result = tf.matmul(matrix1, matrix2)"
   ]
  },
  {
   "cell_type": "code",
   "execution_count": 7,
   "metadata": {},
   "outputs": [],
   "source": [
    "elementwise_product = tf.multiply(matrix1, matrix2)"
   ]
  },
  {
   "cell_type": "markdown",
   "metadata": {},
   "source": [
    "### Part 2: Practical Implementation"
   ]
  },
  {
   "cell_type": "markdown",
   "metadata": {},
   "source": [
    "#### Task 1: Creating and Manipulating Matrices\n",
    "\n",
    "1. **Create a normal matrix A with dimensions 2x2 using TensorFlow's random_normal function. Display the values of matrix A.**\n"
   ]
  },
  {
   "cell_type": "code",
   "execution_count": 8,
   "metadata": {},
   "outputs": [
    {
     "name": "stdout",
     "output_type": "stream",
     "text": [
      "tf.Tensor(\n",
      "[[-0.21590132  1.5015147 ]\n",
      " [ 0.75708866  0.6191991 ]], shape=(2, 2), dtype=float32)\n"
     ]
    }
   ],
   "source": [
    "import tensorflow as tf\n",
    "A = tf.random.normal([2, 2])\n",
    "print(A)"
   ]
  },
  {
   "cell_type": "markdown",
   "metadata": {},
   "source": [
    "2. **Create a Gaussian matrix B with dimensions 2x2 using TensorFlow's truncated_normal function. Display the values of matrix B.**"
   ]
  },
  {
   "cell_type": "code",
   "execution_count": 9,
   "metadata": {},
   "outputs": [
    {
     "name": "stdout",
     "output_type": "stream",
     "text": [
      "tf.Tensor(\n",
      "[[-0.2074246  0.7127538]\n",
      " [ 0.898074   0.8731665]], shape=(2, 2), dtype=float32)\n"
     ]
    }
   ],
   "source": [
    "B = tf.random.truncated_normal([2, 2])\n",
    "print(B)"
   ]
  },
  {
   "cell_type": "markdown",
   "metadata": {},
   "source": [
    "3. **Create a matrix C with dimensions 2x2, where the values are drawn from a normal distribution with a mean of 2 and a standard deviation of 0.5, using TensorFlow's random.normal function. Display the values of matrix C.**"
   ]
  },
  {
   "cell_type": "code",
   "execution_count": 10,
   "metadata": {},
   "outputs": [
    {
     "name": "stdout",
     "output_type": "stream",
     "text": [
      "tf.Tensor(\n",
      "[[1.3236707 1.8106565]\n",
      " [2.18122   2.136609 ]], shape=(2, 2), dtype=float32)\n"
     ]
    }
   ],
   "source": [
    "C = tf.random.normal([2, 2], mean=2, stddev=0.5)\n",
    "print(C)"
   ]
  },
  {
   "cell_type": "markdown",
   "metadata": {},
   "source": [
    "4. **Perform matrix addition between matrix A and matrix B, and store the result in matrix D.**"
   ]
  },
  {
   "cell_type": "code",
   "execution_count": 11,
   "metadata": {},
   "outputs": [
    {
     "name": "stdout",
     "output_type": "stream",
     "text": [
      "tf.Tensor(\n",
      "[[-0.4233259  2.2142684]\n",
      " [ 1.6551626  1.4923656]], shape=(2, 2), dtype=float32)\n"
     ]
    }
   ],
   "source": [
    "D = tf.add(A, B)\n",
    "print(D)"
   ]
  },
  {
   "cell_type": "markdown",
   "metadata": {},
   "source": [
    "5. **Perform matrix multiplication between matrix C and matrix D, and store the result in matrix E.**"
   ]
  },
  {
   "cell_type": "code",
   "execution_count": 12,
   "metadata": {},
   "outputs": [
    {
     "name": "stdout",
     "output_type": "stream",
     "text": [
      "tf.Tensor(\n",
      "[[2.4365869 5.633124 ]\n",
      " [2.6130683 8.018409 ]], shape=(2, 2), dtype=float32)\n"
     ]
    }
   ],
   "source": [
    "E = tf.matmul(C, D)\n",
    "print(E)"
   ]
  },
  {
   "cell_type": "markdown",
   "metadata": {},
   "source": [
    "#### Task 2: Performing Additional Matrix Operations"
   ]
  },
  {
   "cell_type": "markdown",
   "metadata": {},
   "source": [
    "1. **Create a matrix F with dimensions 2x2, initialized with random values using TensorFlow's random_uniform function.**"
   ]
  },
  {
   "cell_type": "code",
   "execution_count": 13,
   "metadata": {},
   "outputs": [
    {
     "name": "stdout",
     "output_type": "stream",
     "text": [
      "tf.Tensor(\n",
      "[[0.5133691  0.51927435]\n",
      " [0.55514944 0.64095414]], shape=(2, 2), dtype=float32)\n"
     ]
    }
   ],
   "source": [
    "F = tf.random.uniform([2, 2])\n",
    "print(F)"
   ]
  },
  {
   "cell_type": "markdown",
   "metadata": {},
   "source": [
    "2. **Calculate the transpose of matrix F and store the result in matrix G.**"
   ]
  },
  {
   "cell_type": "code",
   "execution_count": 14,
   "metadata": {},
   "outputs": [
    {
     "name": "stdout",
     "output_type": "stream",
     "text": [
      "tf.Tensor(\n",
      "[[0.5133691  0.55514944]\n",
      " [0.51927435 0.64095414]], shape=(2, 2), dtype=float32)\n"
     ]
    }
   ],
   "source": [
    "G = tf.transpose(F)\n",
    "print(G)"
   ]
  },
  {
   "cell_type": "markdown",
   "metadata": {},
   "source": [
    "3. **Calculate the element-wise exponential of matrix F and store the result in matrix H.**"
   ]
  },
  {
   "cell_type": "code",
   "execution_count": 15,
   "metadata": {},
   "outputs": [
    {
     "name": "stdout",
     "output_type": "stream",
     "text": [
      "tf.Tensor(\n",
      "[[1.6709112 1.6808075]\n",
      " [1.7422013 1.8982912]], shape=(2, 2), dtype=float32)\n"
     ]
    }
   ],
   "source": [
    "H = tf.math.exp(F)\n",
    "print(H)"
   ]
  },
  {
   "cell_type": "markdown",
   "metadata": {},
   "source": [
    "4. **Create a matrix I by concatenating matrix F and matrix G horizontally.**"
   ]
  },
  {
   "cell_type": "code",
   "execution_count": 16,
   "metadata": {},
   "outputs": [
    {
     "name": "stdout",
     "output_type": "stream",
     "text": [
      "tf.Tensor(\n",
      "[[0.5133691  0.51927435 0.5133691  0.55514944]\n",
      " [0.55514944 0.64095414 0.51927435 0.64095414]], shape=(2, 4), dtype=float32)\n"
     ]
    }
   ],
   "source": [
    "I = tf.concat([F, G], axis=1)\n",
    "print(I)"
   ]
  },
  {
   "cell_type": "markdown",
   "metadata": {},
   "source": [
    "5. **Create a matrix J by concatenating matrix F and matrix H vertically.**"
   ]
  },
  {
   "cell_type": "code",
   "execution_count": 17,
   "metadata": {},
   "outputs": [
    {
     "name": "stdout",
     "output_type": "stream",
     "text": [
      "tf.Tensor(\n",
      "[[0.5133691  0.51927435]\n",
      " [0.55514944 0.64095414]\n",
      " [1.6709112  1.6808075 ]\n",
      " [1.7422013  1.8982912 ]], shape=(4, 2), dtype=float32)\n"
     ]
    }
   ],
   "source": [
    "J = tf.concat([F, H], axis=0)\n",
    "print(J)"
   ]
  },
  {
   "cell_type": "markdown",
   "metadata": {},
   "source": [
    "# **COMPLETE**"
   ]
  }
 ],
 "metadata": {
  "kernelspec": {
   "display_name": "Python 3",
   "language": "python",
   "name": "python3"
  },
  "language_info": {
   "codemirror_mode": {
    "name": "ipython",
    "version": 3
   },
   "file_extension": ".py",
   "mimetype": "text/x-python",
   "name": "python",
   "nbconvert_exporter": "python",
   "pygments_lexer": "ipython3",
   "version": "3.12.0"
  }
 },
 "nbformat": 4,
 "nbformat_minor": 2
}
