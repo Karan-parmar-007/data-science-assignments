{
 "cells": [
  {
   "cell_type": "markdown",
   "metadata": {},
   "source": [
    "# **Pandas Basic**"
   ]
  },
  {
   "cell_type": "markdown",
   "metadata": {},
   "source": [
    "## Q1 **Create a Pandas Series that contains the following data: 4, 8, 15, 16, 23, and 42. Then, print the series.**"
   ]
  },
  {
   "cell_type": "code",
   "execution_count": 5,
   "metadata": {},
   "outputs": [
    {
     "data": {
      "text/plain": [
       "0     4\n",
       "1     8\n",
       "2    15\n",
       "3    16\n",
       "4    23\n",
       "5    42\n",
       "dtype: int64"
      ]
     },
     "execution_count": 5,
     "metadata": {},
     "output_type": "execute_result"
    }
   ],
   "source": [
    "import pandas as pd\n",
    "data = [4,8,15,16,23,42]\n",
    "df = pd.Series(data)\n",
    "df"
   ]
  },
  {
   "cell_type": "markdown",
   "metadata": {},
   "source": [
    "## Q2 **Create a variable of list type containing 10 elements in it, and apply pandas.Series function on the variable print it.**"
   ]
  },
  {
   "cell_type": "code",
   "execution_count": 6,
   "metadata": {},
   "outputs": [
    {
     "name": "stdout",
     "output_type": "stream",
     "text": [
      "0     1\n",
      "1     2\n",
      "2     3\n",
      "3     4\n",
      "4     5\n",
      "5     6\n",
      "6     7\n",
      "7     8\n",
      "8     9\n",
      "9    10\n",
      "dtype: int64\n"
     ]
    }
   ],
   "source": [
    "import pandas as pd\n",
    "\n",
    "list_data = [1, 2, 3, 4, 5, 6, 7, 8, 9, 10]\n",
    "\n",
    "series_from_list = pd.Series(list_data)\n",
    "\n",
    "print(series_from_list)\n"
   ]
  },
  {
   "attachments": {
    "image.png": {
     "image/png": "[encoded data removed]"
    }
   },
   "cell_type": "markdown",
   "metadata": {},
   "source": [
    "## Q3 **Create a Pandas DataFrame that contains the following data:**\n",
    "![image.png](attachment:image.png)"
   ]
  },
  {
   "cell_type": "code",
   "execution_count": 7,
   "metadata": {},
   "outputs": [
    {
     "name": "stdout",
     "output_type": "stream",
     "text": [
      "     Name  Age  Gender\n",
      "0   Alice   25  Female\n",
      "1     Bob   30    Male\n",
      "2  Claire   27  Female\n"
     ]
    }
   ],
   "source": [
    "import pandas as pd\n",
    "\n",
    "data = {\n",
    "    'Name': ['Alice', 'Bob', 'Claire'],\n",
    "    'Age': [25, 30, 27],\n",
    "    'Gender': ['Female', 'Male', 'Female']\n",
    "}\n",
    "\n",
    "df = pd.DataFrame(data)\n",
    "\n",
    "print(df)\n"
   ]
  },
  {
   "cell_type": "markdown",
   "metadata": {},
   "source": [
    "## Q4 **What is ‘DataFrame’ in pandas and how is it different from pandas.series? Explain with an example.**"
   ]
  },
  {
   "cell_type": "markdown",
   "metadata": {},
   "source": [
    "In Pandas, a `DataFrame` is a two-dimensional, size-mutable, and potentially heterogeneous tabular data structure with labeled axes (rows and columns). It can be thought of as a dictionary-like container for Series objects, where each Series represents a column of data.\n",
    "\n",
    "On the other hand, a `Series` is a one-dimensional labeled array capable of holding any data type (integer, string, float, etc.). It is similar to a column in a DataFrame or a single list of data with an index.\n",
    "\n",
    "### Differences between DataFrame and Series:\n",
    "\n",
    "1. **Dimensionality**:\n",
    "   - `Series`: One-dimensional array.\n",
    "   - `DataFrame`: Two-dimensional array.\n",
    "\n",
    "2. **Structure**:\n",
    "   - `Series`: Consists of an index and values.\n",
    "   - `DataFrame`: Consists of rows and columns, with both row and column labels.\n",
    "\n",
    "3. **Data Type**:\n",
    "   - `Series`: Can hold only one data type at a time.\n",
    "   - `DataFrame`: Can hold multiple data types (different columns can be of different types).\n",
    "\n",
    "### Example:\n",
    "\n",
    "#### Creating a Series:\n",
    "```python\n",
    "import pandas as pd\n",
    "\n",
    "# Creating a Series\n",
    "series_data = pd.Series([10, 20, 30, 40, 50], index=['a', 'b', 'c', 'd', 'e'])\n",
    "print(series_data)\n",
    "```\n",
    "\n",
    "Output:\n",
    "```\n",
    "a    10\n",
    "b    20\n",
    "c    30\n",
    "d    40\n",
    "e    50\n",
    "dtype: int64\n",
    "```\n",
    "\n",
    "#### Creating a DataFrame:\n",
    "```python\n",
    "import pandas as pd\n",
    "\n",
    "# Creating a DataFrame\n",
    "data = {\n",
    "    'Name': ['Alice', 'Bob', 'Claire'],\n",
    "    'Age': [25, 30, 27],\n",
    "    'Gender': ['Female', 'Male', 'Female']\n",
    "}\n",
    "df = pd.DataFrame(data)\n",
    "print(df)\n",
    "```\n",
    "\n",
    "Output:\n",
    "```\n",
    "     Name  Age  Gender\n",
    "0   Alice   25  Female\n",
    "1     Bob   30    Male\n",
    "2  Claire   27  Female\n",
    "```\n",
    "\n",
    "In this example:\n",
    "- The `Series` represents a single column of data with index labels.\n",
    "- The `DataFrame` represents a table of data with multiple columns and rows, where each column can have a different data type. \n",
    "\n",
    "### Visual Representation:\n",
    "- **Series**: One-dimensional\n",
    "```\n",
    "a    10\n",
    "b    20\n",
    "c    30\n",
    "d    40\n",
    "e    50\n",
    "dtype: int64\n",
    "```\n",
    "- **DataFrame**: Two-dimensional\n",
    "```\n",
    "     Name  Age  Gender\n",
    "0   Alice   25  Female\n",
    "1     Bob   30    Male\n",
    "2  Claire   27  Female\n",
    "```\n",
    "\n",
    "The key distinction is that while a Series is suitable for storing a single column of data, a DataFrame is used for storing a tabular dataset with multiple columns, allowing for more complex data manipulation and analysis."
   ]
  },
  {
   "cell_type": "markdown",
   "metadata": {},
   "source": [
    "## Q6 **What are some common functions you can use to manipulate data in a Pandas DataFrame? Can you give an example of when you might use one of these functions?**"
   ]
  },
  {
   "cell_type": "markdown",
   "metadata": {},
   "source": [
    "Pandas provides a rich set of functions to manipulate data in a DataFrame. Here are some common functions and examples of their use:\n",
    "\n",
    "1. **`head()` and `tail()`**:\n",
    "   - **Usage**: View the first or last few rows of the DataFrame.\n",
    "   - **Example**: `df.head(3)` displays the first 3 rows of the DataFrame.\n",
    "\n",
    "2. **`info()`**:\n",
    "   - **Usage**: Get a summary of the DataFrame including the data types and non-null counts.\n",
    "   - **Example**: `df.info()` helps to understand the structure of the DataFrame.\n",
    "\n",
    "3. **`describe()`**:\n",
    "   - **Usage**: Generate descriptive statistics.\n",
    "   - **Example**: `df.describe()` provides statistics like mean, median, standard deviation, etc., for numerical columns.\n",
    "\n",
    "4. **`sort_values()`**:\n",
    "   - **Usage**: Sort the DataFrame by the values of one or more columns.\n",
    "   - **Example**: `df.sort_values(by='Age')` sorts the DataFrame by the 'Age' column.\n",
    "\n",
    "5. **`groupby()`**:\n",
    "   - **Usage**: Group the DataFrame using a column and perform aggregate functions.\n",
    "   - **Example**: `df.groupby('Gender').mean()` calculates the mean values for each group in the 'Gender' column.\n",
    "\n",
    "6. **`drop()`**:\n",
    "   - **Usage**: Remove rows or columns by specifying label names and axis.\n",
    "   - **Example**: `df.drop(columns=['Gender'])` removes the 'Gender' column from the DataFrame.\n",
    "\n",
    "7. **`fillna()`**:\n",
    "   - **Usage**: Fill NA/NaN values using a specified method or value.\n",
    "   - **Example**: `df.fillna(0)` replaces all NaN values with 0.\n",
    "\n",
    "8. **`apply()`**:\n",
    "   - **Usage**: Apply a function along an axis of the DataFrame.\n",
    "   - **Example**: `df['Age'].apply(lambda x: x + 1)` increments every value in the 'Age' column by 1.\n",
    "\n",
    "9. **`merge()`**:\n",
    "   - **Usage**: Merge DataFrame or named Series objects with a database-style join.\n",
    "   - **Example**: `pd.merge(df1, df2, on='Name')` merges two DataFrames on the 'Name' column.\n",
    "\n",
    "\n",
    "\n",
    "### Example Use Case\n",
    "\n",
    "Suppose we have a DataFrame of student test scores and we want to find the average score for each class:\n",
    "\n",
    "```python\n",
    "import pandas as pd\n",
    "\n",
    "# Sample data\n",
    "data = {\n",
    "    'Student': ['Alice', 'Bob', 'Claire', 'David', 'Eve'],\n",
    "    'Class': ['Math', 'Math', 'Science', 'Science', 'Math'],\n",
    "    'Score': [85, 90, 95, 80, 88]\n",
    "}\n",
    "\n",
    "df = pd.DataFrame(data)\n",
    "\n",
    "# Using groupby() to find the average score for each class\n",
    "average_scores = df.groupby('Class')['Score'].mean()\n",
    "print(average_scores)\n",
    "```\n",
    "\n",
    "Output:\n",
    "```\n",
    "Class\n",
    "Math       87.666667\n",
    "Science    87.500000\n",
    "Name: Score, dtype: float64\n",
    "```\n",
    "\n",
    "In this example, `groupby()` is used to group the data by 'Class' and then calculate the mean 'Score' for each class. This is useful in educational data analysis to evaluate the performance of different classes."
   ]
  },
  {
   "cell_type": "markdown",
   "metadata": {},
   "source": [
    "## Q6. **Which of the following is mutable in nature Series, DataFrame, Panel?**"
   ]
  },
  {
   "cell_type": "markdown",
   "metadata": {},
   "source": [
    "In Pandas, both `Series` and `DataFrame` are mutable in nature. This means that you can modify the data contained within these structures after they have been created. You can change their values, add new rows or columns, and remove existing ones.\n",
    "\n",
    "### Mutability in Pandas Structures:\n",
    "\n",
    "- **Series**:\n",
    "  - A `Series` is a one-dimensional array-like object that is mutable. You can change its values, add new elements, or remove existing ones.\n",
    "  - Example:\n",
    "    ```python\n",
    "    import pandas as pd\n",
    "\n",
    "    series = pd.Series([1, 2, 3])\n",
    "    series[1] = 10  # Modifying an existing value\n",
    "    series[3] = 4   # Adding a new value\n",
    "    print(series)\n",
    "    ```\n",
    "    Output:\n",
    "    ```\n",
    "    0     1\n",
    "    1    10\n",
    "    2     3\n",
    "    3     4\n",
    "    dtype: int64\n",
    "    ```\n",
    "\n",
    "- **DataFrame**:\n",
    "  - A `DataFrame` is a two-dimensional array-like object that is also mutable. You can modify its data, add or remove rows and columns.\n",
    "  - Example:\n",
    "    ```python\n",
    "    import pandas as pd\n",
    "\n",
    "    data = {\n",
    "        'Name': ['Alice', 'Bob', 'Claire'],\n",
    "        'Age': [25, 30, 27]\n",
    "    }\n",
    "    df = pd.DataFrame(data)\n",
    "    df.loc[1, 'Age'] = 31  # Modifying an existing value\n",
    "    df['Gender'] = ['Female', 'Male', 'Female']  # Adding a new column\n",
    "    print(df)\n",
    "    ```\n",
    "    Output:\n",
    "    ```\n",
    "        Name  Age  Gender\n",
    "    0   Alice   25  Female\n",
    "    1     Bob   31    Male\n",
    "    2  Claire   27  Female\n",
    "    ```\n",
    "\n",
    "- **Panel**:\n",
    "  - `Panel` was a three-dimensional data structure in earlier versions of Pandas. However, it has been deprecated since Pandas version 0.25.0 (July 2019) and removed in later versions. For three-dimensional data, Pandas now recommends using a `MultiIndex` DataFrame or the `xarray` library.\n",
    "\n",
    "Given the context and current versions of Pandas, the focus should be on `Series` and `DataFrame`, both of which are mutable. The concept of a `Panel` is no longer relevant in modern Pandas usage."
   ]
  },
  {
   "cell_type": "markdown",
   "metadata": {},
   "source": [
    "## Q7. **Create a DataFrame using multiple Series. Explain with an example.**"
   ]
  },
  {
   "cell_type": "code",
   "execution_count": 13,
   "metadata": {},
   "outputs": [
    {
     "name": "stdout",
     "output_type": "stream",
     "text": [
      "     Name  Age  Gender\n",
      "0   Alice   25  Female\n",
      "1     Bob   30    Male\n",
      "2  Claire   27  Female\n"
     ]
    }
   ],
   "source": [
    "import pandas as pd\n",
    "\n",
    "names = pd.Series(['Alice', 'Bob', 'Claire'])\n",
    "ages = pd.Series([25, 30, 27])\n",
    "genders = pd.Series(['Female', 'Male', 'Female'])\n",
    "\n",
    "df = pd.DataFrame({\n",
    "    'Name': names,\n",
    "    'Age': ages,\n",
    "    'Gender': genders\n",
    "})\n",
    "\n",
    "print(df)\n"
   ]
  },
  {
   "cell_type": "markdown",
   "metadata": {},
   "source": [
    "## **Complete**"
   ]
  },
  {
   "cell_type": "markdown",
   "metadata": {},
   "source": []
  }
 ],
 "metadata": {
  "kernelspec": {
   "display_name": "Python 3",
   "language": "python",
   "name": "python3"
  },
  "language_info": {
   "codemirror_mode": {
    "name": "ipython",
    "version": 3
   },
   "file_extension": ".py",
   "mimetype": "text/x-python",
   "name": "python",
   "nbconvert_exporter": "python",
   "pygments_lexer": "ipython3",
   "version": "3.12.1"
  }
 },
 "nbformat": 4,
 "nbformat_minor": 2
}
