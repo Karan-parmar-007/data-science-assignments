{
 "cells": [
  {
   "cell_type": "markdown",
   "metadata": {},
   "source": [
    "Abstraction and Encapsulation - Karan Parmar"
   ]
  },
  {
   "cell_type": "markdown",
   "metadata": {},
   "source": [
    "QI. What is Abstraction in oops? Explain with an example."
   ]
  },
  {
   "cell_type": "markdown",
   "metadata": {},
   "source": [
    "Abstraction is one of the fundamental principles of Object-Oriented Programming (OOP). It involves simplifying complex systems by modeling classes based on the essential characteristics and hiding unnecessary details. In other words, abstraction allows you to focus on the essential features of an object while ignoring the non-essential details."
   ]
  },
  {
   "cell_type": "code",
   "execution_count": 1,
   "metadata": {},
   "outputs": [
    {
     "data": {
      "text/plain": [
       "'student details of data science students'"
      ]
     },
     "execution_count": 1,
     "metadata": {},
     "output_type": "execute_result"
    }
   ],
   "source": [
    "import abc\n",
    "\n",
    "class pwskills:\n",
    "    \n",
    "    @abc.abstractmethod\n",
    "    def student_assignment(self):\n",
    "        pass\n",
    "\n",
    "    @abc.abstractmethod\n",
    "    def student_details(self):\n",
    "        pass\n",
    "\n",
    "    @abc.abstractmethod\n",
    "    def student_marks(self):\n",
    "        pass\n",
    "\n",
    "class student_details(pwskills):\n",
    "\n",
    "    def student_details(self):\n",
    "        return \"this is student details\"\n",
    "    \n",
    "    def student_assignment(self):\n",
    "        return \"this is student assignment\"\n",
    "    \n",
    "class student_data_science(pwskills):\n",
    "\n",
    "    def student_details(self):\n",
    "        return \"student details of data science students\"\n",
    "    \n",
    "    def student_assignment(self):\n",
    "        return \"assignments of data science students\"\n",
    "    \n",
    "\n",
    "dsm = student_data_science()\n",
    "\n",
    "dsm.student_details()"
   ]
  },
  {
   "cell_type": "markdown",
   "metadata": {},
   "source": [
    "Q2. Differentiate between Abstraction and Encapsulation. Explain with an example."
   ]
  },
  {
   "cell_type": "markdown",
   "metadata": {},
   "source": [
    "Abstraction:\n",
    "\n",
    "Abstraction is the process of simplifying complex systems by modeling classes based on their essential features, while ignoring non-essential details.\n",
    "\n",
    "\n",
    "It involves creating abstract classes or interfaces with abstract methods that provide a blueprint for concrete (implementing) classes."
   ]
  },
  {
   "cell_type": "markdown",
   "metadata": {},
   "source": [
    "Encapsulation: \n",
    "\n",
    "Encapsulation is the bundling of data (attributes) and methods (functions) that operate on the data into a single unit, known as a class.\n",
    "\n",
    "It involves restricting access to the internal state of an object and only allowing interactions through well-defined interfaces (public methods)."
   ]
  },
  {
   "cell_type": "code",
   "execution_count": 2,
   "metadata": {},
   "outputs": [
    {
     "data": {
      "text/plain": [
       "'student details of data science students'"
      ]
     },
     "execution_count": 2,
     "metadata": {},
     "output_type": "execute_result"
    }
   ],
   "source": [
    "# Abstraction example\n",
    "\n",
    "import abc\n",
    "\n",
    "class pwskills:\n",
    "    \n",
    "    @abc.abstractmethod\n",
    "    def student_assignment(self):\n",
    "        pass\n",
    "\n",
    "    @abc.abstractmethod\n",
    "    def student_details(self):\n",
    "        pass\n",
    "\n",
    "    @abc.abstractmethod\n",
    "    def student_marks(self):\n",
    "        pass\n",
    "\n",
    "class student_details(pwskills):\n",
    "\n",
    "    def student_details(self):\n",
    "        return \"this is student details\"\n",
    "    \n",
    "    def student_assignment(self):\n",
    "        return \"this is student assignment\"\n",
    "    \n",
    "class student_data_science(pwskills):\n",
    "\n",
    "    def student_details(self):\n",
    "        return \"student details of data science students\"\n",
    "    \n",
    "    def student_assignment(self):\n",
    "        return \"assignments of data science students\"\n",
    "    \n",
    "\n",
    "dsm = student_data_science()\n",
    "\n",
    "dsm.student_details()"
   ]
  },
  {
   "cell_type": "code",
   "execution_count": 3,
   "metadata": {},
   "outputs": [
    {
     "data": {
      "text/plain": [
       "850"
      ]
     },
     "execution_count": 3,
     "metadata": {},
     "output_type": "execute_result"
    }
   ],
   "source": [
    "# Encapsulation example\n",
    "\n",
    "class car:\n",
    "    def __init__(self, year, make, model, speed):\n",
    "        self.__year= year\n",
    "        self.__make= make\n",
    "        self.__model= model\n",
    "        self.__speed= speed\n",
    "\n",
    "    def set_speed(self, speed):\n",
    "        self.__speed = o if speed < 0 else speed\n",
    "\n",
    "    def get_speed(self):\n",
    "        return self.__speed\n",
    "    \n",
    "my_car = car(2024, 'Bugati', 'Veron V2', 850)\n",
    "\n",
    "my_car.get_speed()"
   ]
  },
  {
   "cell_type": "code",
   "execution_count": 5,
   "metadata": {},
   "outputs": [
    {
     "data": {
      "text/plain": [
       "750"
      ]
     },
     "execution_count": 5,
     "metadata": {},
     "output_type": "execute_result"
    }
   ],
   "source": [
    "my_car.set_speed(750)\n",
    "my_car.get_speed()"
   ]
  },
  {
   "cell_type": "markdown",
   "metadata": {},
   "source": [
    "As we can see in the example of Abstraction we have created a class that is just showing the sceleton of the whole program and in the example of Encapsulation we have created a program that is hiding direct contact whith the class element but we have created getter and setter methods to change value, this minimizes the risk of any errors "
   ]
  },
  {
   "cell_type": "markdown",
   "metadata": {},
   "source": [
    "Q3. What is abc module in python? Why is it used?"
   ]
  },
  {
   "cell_type": "markdown",
   "metadata": {},
   "source": [
    "'abc' module stands for 'Abstract Base Classes' it is a decorator used for creating abstract class"
   ]
  },
  {
   "cell_type": "code",
   "execution_count": 6,
   "metadata": {},
   "outputs": [
    {
     "data": {
      "text/plain": [
       "'student details of data science students'"
      ]
     },
     "execution_count": 6,
     "metadata": {},
     "output_type": "execute_result"
    }
   ],
   "source": [
    "#example of abc module\n",
    "\n",
    "import abc\n",
    "\n",
    "class pwskills:\n",
    "    \n",
    "    @abc.abstractmethod\n",
    "    def student_assignment(self):\n",
    "        pass\n",
    "\n",
    "    @abc.abstractmethod\n",
    "    def student_details(self):\n",
    "        pass\n",
    "\n",
    "    @abc.abstractmethod\n",
    "    def student_marks(self):\n",
    "        pass\n",
    "\n",
    "class student_details(pwskills):\n",
    "\n",
    "    def student_details(self):\n",
    "        return \"this is student details\"\n",
    "    \n",
    "    def student_assignment(self):\n",
    "        return \"this is student assignment\"\n",
    "    \n",
    "class student_data_science(pwskills):\n",
    "\n",
    "    def student_details(self):\n",
    "        return \"student details of data science students\"\n",
    "    \n",
    "    def student_assignment(self):\n",
    "        return \"assignments of data science students\"\n",
    "    \n",
    "\n",
    "dsm = student_data_science()\n",
    "\n",
    "dsm.student_details()"
   ]
  },
  {
   "cell_type": "markdown",
   "metadata": {},
   "source": [
    "Q4. How can we achieve data abstraction?"
   ]
  },
  {
   "cell_type": "markdown",
   "metadata": {},
   "source": [
    "Data abstraction in programming refers to the concept of exposing only the relevant details of an object and hiding the unnecessary details. It is typically achieved through the use of abstract data types and abstract classes in object-oriented programming. "
   ]
  },
  {
   "cell_type": "markdown",
   "metadata": {},
   "source": [
    "Abstract Data Types (ADTs):\n",
    "\n",
    "An Abstract Data Type is a high-level description of a set of operations without specifying how those operations are implemented. It provides a way to organize and encapsulate data and the functions that operate on that data."
   ]
  },
  {
   "cell_type": "markdown",
   "metadata": {},
   "source": [
    "Classes and Objects:\n",
    "\n",
    "In object-oriented programming (OOP), classes and objects are fundamental to achieving data abstraction."
   ]
  },
  {
   "cell_type": "markdown",
   "metadata": {},
   "source": [
    "Access Modifiers:\n",
    "\n",
    "Use access modifiers (such as public, private, and protected) to control the visibility of data members (attributes) and methods in a class."
   ]
  },
  {
   "cell_type": "markdown",
   "metadata": {},
   "source": [
    "Abstract Classes and Interfaces:\n",
    "\n",
    "Abstract classes and interfaces in OOP provide a way to define a common interface for a group of related classes, promoting data abstraction."
   ]
  },
  {
   "cell_type": "markdown",
   "metadata": {},
   "source": [
    "Information Hiding:\n",
    "\n",
    "Information hiding is a key aspect of data abstraction. It involves hiding the implementation details and exposing only what is necessary for the external world to interact with."
   ]
  },
  {
   "cell_type": "markdown",
   "metadata": {},
   "source": [
    "Getter and Setter Methods:\n",
    "\n",
    "Use getter methods to retrieve the values of private attributes, and setter methods to modify those values."
   ]
  },
  {
   "cell_type": "markdown",
   "metadata": {},
   "source": [
    "Q5. Can we create an instance of an abstract class? Explain your answer."
   ]
  },
  {
   "cell_type": "markdown",
   "metadata": {},
   "source": [
    "No we cannot create an instance of abstract class, the reason behind this is that the abstract class are sample or skeletol class that only defines the structer, they are used by the other classes to create a perfect class with all fuctionalities. Heres a example of what will happen if we try to create an instance of an abstract class"
   ]
  },
  {
   "cell_type": "code",
   "execution_count": 8,
   "metadata": {},
   "outputs": [
    {
     "name": "stdout",
     "output_type": "stream",
     "text": [
      "TypeError: Can't instantiate abstract class MyAbstractClass with abstract method my_abstract_method\n"
     ]
    }
   ],
   "source": [
    "import abc\n",
    "\n",
    "class MyAbstractClass(abc.ABC):\n",
    "    @abc.abstractmethod\n",
    "    def my_abstract_method(self):\n",
    "        pass\n",
    "\n",
    "# Attempting to create an instance of the abstract class\n",
    "try:\n",
    "    my_instance = MyAbstractClass()\n",
    "except TypeError as e:\n",
    "    print(f\"TypeError: {e}\")\n"
   ]
  },
  {
   "cell_type": "markdown",
   "metadata": {},
   "source": [
    "Complete"
   ]
  },
  {
   "cell_type": "markdown",
   "metadata": {},
   "source": []
  }
 ],
 "metadata": {
  "kernelspec": {
   "display_name": "Python 3",
   "language": "python",
   "name": "python3"
  },
  "language_info": {
   "codemirror_mode": {
    "name": "ipython",
    "version": 3
   },
   "file_extension": ".py",
   "mimetype": "text/x-python",
   "name": "python",
   "nbconvert_exporter": "python",
   "pygments_lexer": "ipython3",
   "version": "3.11.4"
  }
 },
 "nbformat": 4,
 "nbformat_minor": 2
}
