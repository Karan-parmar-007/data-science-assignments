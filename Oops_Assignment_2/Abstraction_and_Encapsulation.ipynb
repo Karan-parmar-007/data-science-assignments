{
 "cells": [
  {
   "cell_type": "markdown",
   "metadata": {},
   "source": [
    "Abstraction and Encapsulation - Karan Parmar"
   ]
  },
  {
   "cell_type": "markdown",
   "metadata": {},
   "source": [
    "QI. What is Abstraction in oops? Explain with an example."
   ]
  },
  {
   "cell_type": "markdown",
   "metadata": {},
   "source": [
    "Abstraction is one of the fundamental principles of Object-Oriented Programming (OOP). It involves simplifying complex systems by modeling classes based on the essential characteristics and hiding unnecessary details. In other words, abstraction allows you to focus on the essential features of an object while ignoring the non-essential details."
   ]
  },
  {
   "cell_type": "code",
   "execution_count": 1,
   "metadata": {},
   "outputs": [
    {
     "data": {
      "text/plain": [
       "'student details of data science students'"
      ]
     },
     "execution_count": 1,
     "metadata": {},
     "output_type": "execute_result"
    }
   ],
   "source": [
    "import abc\n",
    "\n",
    "class pwskills:\n",
    "    \n",
    "    @abc.abstractmethod\n",
    "    def student_assignment(self):\n",
    "        pass\n",
    "\n",
    "    @abc.abstractmethod\n",
    "    def student_details(self):\n",
    "        pass\n",
    "\n",
    "    @abc.abstractmethod\n",
    "    def student_marks(self):\n",
    "        pass\n",
    "\n",
    "class student_details(pwskills):\n",
    "\n",
    "    def student_details(self):\n",
    "        return \"this is student details\"\n",
    "    \n",
    "    def student_assignment(self):\n",
    "        return \"this is student assignment\"\n",
    "    \n",
    "class student_data_science(pwskills):\n",
    "\n",
    "    def student_details(self):\n",
    "        return \"student details of data science students\"\n",
    "    \n",
    "    def student_assignment(self):\n",
    "        return \"assignments of data science students\"\n",
    "    \n",
    "\n",
    "dsm = student_data_science()\n",
    "\n",
    "dsm.student_details()"
   ]
  },
  {
   "cell_type": "markdown",
   "metadata": {},
   "source": [
    "Q2. Differentiate between Abstraction and Encapsulation. Explain with an example."
   ]
  },
  {
   "cell_type": "markdown",
   "metadata": {},
   "source": [
    "Encapsulation is the process in which we "
   ]
  },
  {
   "cell_type": "code",
   "execution_count": null,
   "metadata": {},
   "outputs": [],
   "source": []
  }
 ],
 "metadata": {
  "kernelspec": {
   "display_name": "Python 3",
   "language": "python",
   "name": "python3"
  },
  "language_info": {
   "codemirror_mode": {
    "name": "ipython",
    "version": 3
   },
   "file_extension": ".py",
   "mimetype": "text/x-python",
   "name": "python",
   "nbconvert_exporter": "python",
   "pygments_lexer": "ipython3",
   "version": "3.11.4"
  }
 },
 "nbformat": 4,
 "nbformat_minor": 2
}
