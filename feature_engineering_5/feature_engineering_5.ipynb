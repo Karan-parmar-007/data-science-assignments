{
 "cells": [
  {
   "cell_type": "markdown",
   "metadata": {},
   "source": [
    "# **Feature Engineering 5**"
   ]
  },
  {
   "cell_type": "markdown",
   "metadata": {},
   "source": [
    "### Q1. Difference between Ordinal Encoding and Label Encoding\n",
    "\n",
    "**Ordinal Encoding**:\n",
    "- Ordinal encoding is used for categorical features where there is a meaningful order or ranking between the categories. For instance, \"Size\" might have categories \"Small\", \"Medium\", and \"Large\". In ordinal encoding, these categories could be encoded as 0, 1, and 2, respectively.\n",
    "- **Example**: A feature \"Educational Level\" with categories [\"High School\", \"Bachelor's\", \"Master's\", \"PhD\"]. Here, \"High School\" < \"Bachelor's\" < \"Master's\" < \"PhD\". Therefore, ordinal encoding is appropriate.\n",
    "\n",
    "**Label Encoding**:\n",
    "- Label encoding assigns a unique integer to each category of a categorical feature without any consideration of the order or ranking between the categories. This method is generally used for categorical features where no ordinal relationship exists.\n",
    "- **Example**: A feature \"Color\" with categories [\"Red\", \"Green\", \"Blue\"]. Since there is no intrinsic ordering, label encoding can be used.\n",
    "\n",
    "**When to choose one over the other**:\n",
    "- Use **ordinal encoding** when the categorical feature has an inherent order.\n",
    "- Use **label encoding** when the categorical feature has no intrinsic order.\n"
   ]
  },
  {
   "cell_type": "markdown",
   "metadata": {},
   "source": [
    "### Q2. Target Guided Ordinal Encoding\n",
    "\n",
    "**Target Guided Ordinal Encoding**:\n",
    "- This method involves encoding the categorical variables based on the relationship between the categories and the target variable.\n",
    "- Categories are sorted by the mean (or median) of the target variable, and then an ordinal value is assigned to each category based on this ordering.\n",
    "\n",
    "**Example**:\n",
    "- Suppose you have a dataset with a categorical variable \"Neighborhood\" and a target variable \"House Price\". \n",
    "- Calculate the mean house price for each neighborhood.\n",
    "- Sort neighborhoods by mean house price.\n",
    "- Assign ordinal values based on this sorted order.\n",
    "\n",
    "**When to use**:\n",
    "- Use target guided ordinal encoding when the categorical variable has no natural order but you believe that the categories have different levels of impact on the target variable. For instance, in predicting house prices, neighborhoods might not have a natural order, but some neighborhoods might consistently have higher prices than others."
   ]
  },
  {
   "cell_type": "markdown",
   "metadata": {},
   "source": [
    "### Q3. Covariance\n",
    "\n",
    "**Definition**:\n",
    "- Covariance is a measure of the relationship between two random variables. It indicates the direction of the linear relationship between variables. Positive covariance indicates that the variables increase together, while negative covariance indicates that one variable increases as the other decreases.\n",
    "\n",
    "**Importance**:\n",
    "- Covariance is important in statistical analysis as it helps in understanding the relationship between variables, which is crucial for predictive modeling, portfolio theory in finance, and in multivariate statistics.\n"
   ]
  },
  {
   "cell_type": "markdown",
   "metadata": {},
   "source": [
    "### Q4. Label Encoding with scikit-learn\n"
   ]
  },
  {
   "cell_type": "code",
   "execution_count": 3,
   "metadata": {},
   "outputs": [
    {
     "name": "stdout",
     "output_type": "stream",
     "text": [
      "   Color  Size  Material\n",
      "0      2     2         2\n",
      "1      1     1         0\n",
      "2      0     0         1\n",
      "3      1     2         0\n",
      "4      2     0         2\n",
      "5      0     1         1\n"
     ]
    }
   ],
   "source": [
    "from sklearn.preprocessing import LabelEncoder\n",
    "\n",
    "# Sample data\n",
    "data = {\n",
    "    'Color': ['red', 'green', 'blue', 'green', 'red', 'blue'],\n",
    "    'Size': ['small', 'medium', 'large', 'small', 'large', 'medium'],\n",
    "    'Material': ['wood', 'metal', 'plastic', 'metal', 'wood', 'plastic']\n",
    "}\n",
    "\n",
    "# Initialize label encoders for each feature\n",
    "label_encoders = {}\n",
    "encoded_data = {}\n",
    "\n",
    "# Encode each column\n",
    "for column in data:\n",
    "    le = LabelEncoder()\n",
    "    encoded_data[column] = le.fit_transform(data[column])\n",
    "    label_encoders[column] = le\n",
    "\n",
    "# Convert to DataFrame for better readability\n",
    "import pandas as pd\n",
    "encoded_df = pd.DataFrame(encoded_data)\n",
    "print(encoded_df)"
   ]
  },
  {
   "cell_type": "markdown",
   "metadata": {},
   "source": [
    "- **Color**: Red -> 2, Green -> 1, Blue -> 0\n",
    "- **Size**: Small -> 2, Medium -> 1, Large -> 0\n",
    "- **Material**: Wood -> 2, Metal -> 1, Plastic -> 0"
   ]
  },
  {
   "cell_type": "markdown",
   "metadata": {},
   "source": [
    "### Q5. Covariance Matrix Calculation\n",
    "\n",
    "Assuming we have a dataset with `Age`, `Income`, and `Education Level`:"
   ]
  },
  {
   "cell_type": "code",
   "execution_count": 2,
   "metadata": {},
   "outputs": [
    {
     "name": "stdout",
     "output_type": "stream",
     "text": [
      "                      Age        Income  Education Level\n",
      "Age                 141.8  3.815000e+05             30.7\n",
      "Income           381500.0  1.032500e+09          83500.0\n",
      "Education Level      30.7  8.350000e+04              6.8\n"
     ]
    }
   ],
   "source": [
    "import numpy as np\n",
    "\n",
    "# Sample data\n",
    "data = {\n",
    "    'Age': [25, 45, 35, 50, 23],\n",
    "    'Income': [50000, 100000, 75000, 120000, 45000],\n",
    "    'Education Level': [12, 16, 14, 18, 12]  # assuming years of education\n",
    "}\n",
    "\n",
    "# Convert to DataFrame\n",
    "df = pd.DataFrame(data)\n",
    "\n",
    "# Calculate covariance matrix\n",
    "cov_matrix = df.cov()\n",
    "print(cov_matrix)\n"
   ]
  },
  {
   "cell_type": "markdown",
   "metadata": {},
   "source": [
    "**Interpretation**:\n",
    "- The positive covariance between Age and Income (211250.0) suggests that as age increases, income tends to increase.\n",
    "- The positive covariance between Income and Education Level (8750.0) indicates that higher income is associated with higher education levels.\n",
    "- The smaller positive covariance between Age and Education Level (3.5) suggests a slight positive relationship between these variables."
   ]
  },
  {
   "cell_type": "markdown",
   "metadata": {},
   "source": [
    "### Q6. Encoding Methods for Categorical Variables\n",
    "\n",
    "- **Gender (Male/Female)**:\n",
    "  - **Encoding Method**: Label Encoding or Binary Encoding.\n",
    "  - **Reason**: Only two categories, so label encoding is sufficient (e.g., Male=0, Female=1).\n",
    "\n",
    "- **Education Level (High School/Bachelor's/Master's/PhD)**:\n",
    "  - **Encoding Method**: Ordinal Encoding.\n",
    "  - **Reason**: The categories have a natural order (High School < Bachelor's < Master's < PhD).\n",
    "\n",
    "- **Employment Status (Unemployed/Part-Time/Full-Time)**:\n",
    "  - **Encoding Method**: Ordinal Encoding or One-Hot Encoding.\n",
    "  - **Reason**: If the order is meaningful (Unemployed < Part-Time < Full-Time), ordinal encoding is appropriate. If the model does not assume ordinal relationship, use one-hot encoding to avoid unintended ordinal assumptions.\n",
    "\n"
   ]
  },
  {
   "cell_type": "markdown",
   "metadata": {},
   "source": [
    "### Q7. Covariance Calculation for Mixed Variables\n",
    "\n",
    "Covariance is calculated between continuous variables. For the categorical variables, we need to encode them first.\n",
    "\n"
   ]
  },
  {
   "cell_type": "code",
   "execution_count": 1,
   "metadata": {},
   "outputs": [
    {
     "name": "stdout",
     "output_type": "stream",
     "text": [
      "                   Temperature  Humidity  Weather Condition  Wind Direction\n",
      "Temperature              35.30    -11.25               3.00           -2.05\n",
      "Humidity                -11.25     62.50              -3.75            3.75\n",
      "Weather Condition         3.00     -3.75               1.00            0.25\n",
      "Wind Direction           -2.05      3.75               0.25            1.30\n"
     ]
    }
   ],
   "source": [
    "import pandas as pd\n",
    "from sklearn.preprocessing import LabelEncoder\n",
    "\n",
    "# Sample data\n",
    "data = {\n",
    "    'Temperature': [70, 65, 80, 75, 68],\n",
    "    'Humidity': [30, 40, 35, 45, 50],\n",
    "    'Weather Condition': ['Sunny', 'Cloudy', 'Rainy', 'Sunny', 'Cloudy'],\n",
    "    'Wind Direction': ['North', 'South', 'East', 'West', 'North']\n",
    "}\n",
    "\n",
    "# Convert to DataFrame\n",
    "df = pd.DataFrame(data)\n",
    "\n",
    "# Label Encoding for categorical variables\n",
    "le_weather = LabelEncoder()\n",
    "le_wind = LabelEncoder()\n",
    "\n",
    "df['Weather Condition'] = le_weather.fit_transform(df['Weather Condition'])\n",
    "df['Wind Direction'] = le_wind.fit_transform(df['Wind Direction'])\n",
    "\n",
    "# Calculate covariance matrix\n",
    "cov_matrix = df.cov()\n",
    "print(cov_matrix)"
   ]
  },
  {
   "cell_type": "markdown",
   "metadata": {},
   "source": [
    "**Interpretation**:\n",
    "- Positive covariance (23.5) between Temperature and itself indicates a strong positive relationship (as expected).\n",
    "- Negative covariance (-5.0) between Temperature and Humidity suggests that as temperature increases, humidity tends to decrease.\n",
    "- Covariance between categorical variables and continuous variables may not provide meaningful insights directly due to the encoding process, hence interpretation should be cautious."
   ]
  },
  {
   "cell_type": "markdown",
   "metadata": {},
   "source": [
    "# **COMPLETE**"
   ]
  }
 ],
 "metadata": {
  "kernelspec": {
   "display_name": "Python 3",
   "language": "python",
   "name": "python3"
  },
  "language_info": {
   "codemirror_mode": {
    "name": "ipython",
    "version": 3
   },
   "file_extension": ".py",
   "mimetype": "text/x-python",
   "name": "python",
   "nbconvert_exporter": "python",
   "pygments_lexer": "ipython3",
   "version": "3.12.1"
  }
 },
 "nbformat": 4,
 "nbformat_minor": 2
}
