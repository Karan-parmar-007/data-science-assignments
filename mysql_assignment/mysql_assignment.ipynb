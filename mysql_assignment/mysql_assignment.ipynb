{
 "cells": [
  {
   "cell_type": "markdown",
   "metadata": {},
   "source": [
    "# 1. What is a database? Differentiate between SQL and NoSQL databases."
   ]
  },
  {
   "cell_type": "markdown",
   "metadata": {},
   "source": [
    "A database is a structured collection of data that is organized and managed in a way that facilitates easy access, retrieval, and manipulation of data. Databases are used in various applications and industries to store and manage information efficiently.\n",
    "\n",
    "Here's a differentiation between SQL (relational) and NoSQL (non-relational) databases:\n",
    "\n",
    "1. SQL (Structured Query Language) Databases:\n",
    "   - Structure: SQL databases are relational databases, which means they organize data into structured tables with rows and columns.\n",
    "   - Schema: They have a predefined schema, which defines the structure of the data, including data types and relationships between tables.\n",
    "   - ACID Properties: SQL databases typically adhere to ACID (Atomicity, Consistency, Isolation, Durability) properties, ensuring data integrity and reliability.\n",
    "   - Examples: MySQL, PostgreSQL, SQLite, Oracle, SQL Server.\n",
    "\n",
    "2. NoSQL (Non-relational) Databases:\n",
    "   - Structure: NoSQL databases are non-relational, meaning they do not use a tabular structure like SQL databases. They are more flexible and can store unstructured or semi-structured data.\n",
    "   - Schema: They are schema-less or have a dynamic schema, allowing for easy modification of data structure without downtime.\n",
    "   - Scalability: NoSQL databases are generally more scalable and can handle large volumes of data with ease, making them suitable for big data and real-time applications.\n",
    "   - Types: NoSQL databases are further categorized into different types such as document-based, key-value stores, wide-column stores, and graph databases.\n",
    "   - Examples: MongoDB, Cassandra, Couchbase, Redis, Amazon DynamoDB.\n",
    "\n"
   ]
  },
  {
   "cell_type": "markdown",
   "metadata": {},
   "source": [
    "# 2. What is DDL? Explain why CREATE, DROP, ALTER, and TRUNCATE are used with an example."
   ]
  },
  {
   "cell_type": "markdown",
   "metadata": {},
   "source": [
    "DDL stands for Data Definition Language, which is a subset of SQL (Structured Query Language) used to define the structure and schema of a database. DDL commands are used to create, modify, and delete database objects such as tables, indexes, and views.\n",
    "\n",
    "Here's an explanation of commonly used DDL commands with examples:\n",
    "\n",
    "1. CREATE:\n",
    "   - Purpose: Used to create new database objects such as tables, indexes, views, or databases themselves.\n",
    "   - Example: Creating a new table named \"Employees\" with columns for employee ID, name, and department:\n",
    "\n",
    "   ```sql\n",
    "   CREATE TABLE Employees (\n",
    "       EmployeeID INT PRIMARY KEY,\n",
    "       Name VARCHAR(50),\n",
    "       Department VARCHAR(50)\n",
    "   );\n",
    "   ```\n",
    "\n",
    "2. DROP:\n",
    "   - Purpose: Used to delete existing database objects.\n",
    "   - Example: Dropping the \"Employees\" table:\n",
    "\n",
    "   ```sql\n",
    "   DROP TABLE Employees;\n",
    "   ```\n",
    "\n",
    "3. ALTER:\n",
    "   - Purpose: Used to modify the structure of existing database objects, such as adding, modifying, or dropping columns.\n",
    "   - Example: Adding a new column \"Salary\" to the \"Employees\" table:\n",
    "\n",
    "   ```sql\n",
    "   ALTER TABLE Employees\n",
    "   ADD Salary DECIMAL(10, 2);\n",
    "   ```\n",
    "\n",
    "4. TRUNCATE:\n",
    "   - Purpose: Used to remove all rows from a table while keeping the table structure intact.\n",
    "   - Example: Truncating the \"Employees\" table to delete all employee records:\n",
    "\n",
    "   ```sql\n",
    "   TRUNCATE TABLE Employees;\n",
    "   ```\n",
    "\n",
    "These DDL commands are essential for managing the structure of a database, allowing administrators and developers to create, modify, and delete database objects as needed to accommodate changes in requirements or data organization."
   ]
  },
  {
   "cell_type": "markdown",
   "metadata": {},
   "source": [
    "# 3. What is DML? Explain INSERT, UPDATE, and DELETE with an example."
   ]
  },
  {
   "cell_type": "markdown",
   "metadata": {},
   "source": [
    "DML stands for Data Manipulation Language, which is a subset of SQL (Structured Query Language) used to manipulate data stored in the database. DML commands are used to perform operations such as inserting new data, updating existing data, and deleting data from database tables.\n",
    "\n",
    "Here's an explanation of commonly used DML commands with examples:\n",
    "\n",
    "1. INSERT:\n",
    "   - Purpose: Used to add new records (rows) into a table.\n",
    "   - Example: Inserting a new employee record into the \"Employees\" table:\n",
    "\n",
    "   ```sql\n",
    "   INSERT INTO Employees (EmployeeID, Name, Department, Salary)\n",
    "   VALUES (1, 'John Doe', 'IT', 50000);\n",
    "   ```\n",
    "\n",
    "2. UPDATE:\n",
    "   - Purpose: Used to modify existing records in a table.\n",
    "   - Example: Updating the salary of an employee named \"John Doe\" in the \"Employees\" table:\n",
    "\n",
    "   ```sql\n",
    "   UPDATE Employees\n",
    "   SET Salary = 55000\n",
    "   WHERE Name = 'John Doe';\n",
    "   ```\n",
    "\n",
    "3. DELETE:\n",
    "   - Purpose: Used to remove one or more records from a table.\n",
    "   - Example: Deleting the record of an employee who has left the company from the \"Employees\" table:\n",
    "\n",
    "   ```sql\n",
    "   DELETE FROM Employees\n",
    "   WHERE EmployeeID = 1;\n",
    "   ```\n",
    "\n",
    "These DML commands are crucial for manipulating data within database tables. They allow users to add, modify, or remove data as needed to maintain the accuracy and integrity of the database."
   ]
  },
  {
   "cell_type": "markdown",
   "metadata": {},
   "source": [
    "# 4.What is DQL? Explain SELECT with an example."
   ]
  },
  {
   "cell_type": "markdown",
   "metadata": {},
   "source": [
    "DQL stands for Data Query Language, which is a subset of SQL (Structured Query Language) used to retrieve data from a database. The primary DQL command is SELECT, which is used to specify the data to be retrieved and the conditions for retrieving it.\n",
    "\n",
    "Here's an explanation of the SELECT command with an example:\n",
    "\n",
    "1. SELECT:\n",
    "   - Purpose: Used to retrieve data from one or more tables in a database.\n",
    "   - Syntax:\n",
    "     ```sql\n",
    "     SELECT column1, column2, ...\n",
    "     FROM table_name\n",
    "     WHERE condition;\n",
    "     ```\n",
    "   - Example: Retrieving the names and salaries of all employees in the \"Employees\" table who work in the \"IT\" department:\n",
    "\n",
    "   ```sql\n",
    "   SELECT Name, Salary\n",
    "   FROM Employees\n",
    "   WHERE Department = 'IT';\n",
    "   ```\n",
    "\n",
    "   This query will return a result set containing the names and salaries of all employees who work in the IT department. The SELECT statement specifies the columns to be retrieved (Name and Salary) from the Employees table, and the WHERE clause filters the results to include only rows where the Department column equals 'IT'."
   ]
  },
  {
   "cell_type": "markdown",
   "metadata": {},
   "source": [
    "# 5. Explain Primary Key and Foreign Key."
   ]
  },
  {
   "cell_type": "markdown",
   "metadata": {},
   "source": [
    "\n",
    "\n",
    "Primary Key (PK):\n",
    "- Uniquely identifies each row in a table.\n",
    "- Cannot contain NULL values.\n",
    "- Used as the basis for relationships with other tables.\n",
    "\n",
    "Foreign Key (FK):\n",
    "- Establishes a relationship between two tables.\n",
    "- Refers to the Primary Key of another table.\n",
    "- Ensures referential integrity.\n",
    "- Can have duplicate values and may contain NULL values."
   ]
  },
  {
   "cell_type": "markdown",
   "metadata": {},
   "source": [
    "# 6. Write a python code to connect MySQL to python. Explain the cursor() and execute() method."
   ]
  },
  {
   "cell_type": "markdown",
   "metadata": {},
   "source": [
    "```python\n",
    "import mysql.connector\n",
    "\n",
    "mydb = mysql.connector.connect(\n",
    "  host=\"localhost\",\n",
    "  user=\"root\",\n",
    "  passwd=\"karan\",\n",
    ")\n",
    "print(mydb)\n",
    "mycursor = mydb.cursor()\n",
    "\n",
    "mycursor.execute(\"select  from test2.test_table\")\n",
    "for i in mycursor.fetchall():\n",
    "    print(i)\n",
    "\n",
    "\n",
    "mydb.close()\n",
    "```\n",
    "\n",
    "\n",
    "cursor() method:\n",
    "\n",
    "- The cursor() method is used to create a cursor object in Python, which allows you to interact with the database by  executing SQL queries and fetching results.\n",
    "- This method returns a cursor object that can be used to execute SQL queries and fetch results from the database.\n",
    "\n",
    "execute() method:\n",
    "\n",
    "- The execute() method is used to execute a SQL query or command using the cursor object.\n",
    "- Syntax: cursor.execute(sql_query)\n",
    "- This method takes a SQL query as a parameter and executes it on the connected database.\n",
    "- After executing the query, you can fetch the results using methods like fetchall() to retrieve all rows, fetchone() to retrieve one row, etc."
   ]
  },
  {
   "cell_type": "markdown",
   "metadata": {},
   "source": [
    "# 7. Give the order of execution of SQL clauses in an SQL query."
   ]
  },
  {
   "cell_type": "markdown",
   "metadata": {},
   "source": [
    "In a typical SQL query, the clauses are generally executed in the following order:\n",
    "\n",
    "1. FROM: Specifies the tables from which to retrieve data.\n",
    "2. WHERE: Filters the rows based on specified conditions.\n",
    "3. GROUP BY: Groups the rows that have the same values into summary rows.\n",
    "4. HAVING: Filters the grouped rows based on specified conditions.\n",
    "5. SELECT: Retrieves the columns or expressions to be included in the query result.\n",
    "6. DISTINCT: Removes duplicate rows from the result set (if specified).\n",
    "7. ORDER BY: Sorts the result set based on specified columns or expressions.\n",
    "8. LIMIT/OFFSET: Limits the number of rows returned or specifies the starting row for the result set.\n",
    "\n"
   ]
  },
  {
   "cell_type": "markdown",
   "metadata": {},
   "source": [
    "# Complete"
   ]
  }
 ],
 "metadata": {
  "language_info": {
   "name": "python"
  }
 },
 "nbformat": 4,
 "nbformat_minor": 2
}
