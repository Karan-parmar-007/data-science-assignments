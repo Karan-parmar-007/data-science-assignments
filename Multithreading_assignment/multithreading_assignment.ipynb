{
 "cells": [
  {
   "cell_type": "markdown",
   "metadata": {},
   "source": [
    "QI. What is multithreading in python? Why is it used? Name the module used to handle threads in python."
   ]
  },
  {
   "cell_type": "markdown",
   "metadata": {},
   "source": [
    "Multithreading in Python refers to the concurrent execution of multiple threads within a single process. A thread is the smallest unit of execution within a process, and multithreading allows a program to perform multiple tasks concurrently, taking advantage of multiple CPU cores."
   ]
  },
  {
   "cell_type": "markdown",
   "metadata": {},
   "source": [
    "Why Multithreading is Used:\n",
    "\n",
    "1. Multithreading allows different threads to execute independently, improving the overall concurrency of a program.\n",
    "\n",
    "2. Multithreading can enhance the responsiveness of applications by allowing certain tasks to continue running even if others are blocked or waiting for resources.\n",
    "\n",
    "3.  In a multi-core system, multithreading enables parallelism, where multiple threads can execute simultaneously on different CPU cores, potentially speeding up the execution of CPU-bound tasks."
   ]
  },
  {
   "cell_type": "markdown",
   "metadata": {},
   "source": [
    "In Python, the threading module is commonly used to handle threads."
   ]
  },
  {
   "cell_type": "code",
   "execution_count": 1,
   "metadata": {},
   "outputs": [
    {
     "name": "stdout",
     "output_type": "stream",
     "text": [
      "Thread 1: 0\n",
      "Thread 2: A\n",
      "Thread 1: 1\n",
      "Thread 2: B\n",
      "Thread 2: CThread 1: 2\n",
      "\n",
      "Thread 2: DThread 1: 3\n",
      "\n",
      "Thread 2: EThread 1: 4\n",
      "\n",
      "Main thread exiting.\n"
     ]
    }
   ],
   "source": [
    "import threading\n",
    "import time\n",
    "\n",
    "def print_numbers():\n",
    "    for i in range(5):\n",
    "        time.sleep(1)\n",
    "        print(f\"Thread 1: {i}\")\n",
    "\n",
    "def print_letters():\n",
    "    for letter in 'ABCDE':\n",
    "        time.sleep(1)\n",
    "        print(f\"Thread 2: {letter}\")\n",
    "\n",
    "thread1 = threading.Thread(target=print_numbers)\n",
    "thread2 = threading.Thread(target=print_letters)\n",
    "\n",
    "thread1.start()\n",
    "thread2.start()\n",
    "\n",
    "thread1.join()\n",
    "thread2.join()\n",
    "\n",
    "print(\"Main thread exiting.\")\n"
   ]
  },
  {
   "cell_type": "markdown",
   "metadata": {},
   "source": [
    "Q2. Why threading module used? Write the use of the following functions:\n",
    "1. activeCount()\n",
    "2. currentThread()\n",
    "3. enumerate()"
   ]
  },
  {
   "cell_type": "markdown",
   "metadata": {},
   "source": [
    "The threading module in Python is used for creating and managing threads. It provides a high-level interface for working with threads, making it easier to write concurrent and parallel programs. "
   ]
  },
  {
   "cell_type": "markdown",
   "metadata": {},
   "source": [
    "The activeCount() function is used to get the current number of Thread objects that are alive (i.e., not yet terminated) in the program. It returns the current count of active threads."
   ]
  },
  {
   "cell_type": "markdown",
   "metadata": {},
   "source": [
    "The currentThread() function returns a reference to the current Thread object, representing the thread from which it is called. This function is often used to obtain information about the current thread, such as its name or identifier."
   ]
  },
  {
   "cell_type": "markdown",
   "metadata": {},
   "source": [
    "The enumerate() function returns a list of all Thread objects currently alive. Each Thread object is included in the list. This function is useful for obtaining references to all active threads."
   ]
  },
  {
   "cell_type": "markdown",
   "metadata": {},
   "source": [
    "Q3. Explain the following functions:\n",
    "1. run()\n",
    "2. start()\n",
    "3. join()\n",
    "4. isAlive()"
   ]
  },
  {
   "cell_type": "markdown",
   "metadata": {},
   "source": [
    "The run() method is the entry point for the thread's activity. When a Thread object is created, you can override the run() method to define the code that will be executed when the thread is started. "
   ]
  },
  {
   "cell_type": "markdown",
   "metadata": {},
   "source": [
    "The start() method is used to initiate the execution of a thread. When start() is called on a Thread object, it triggers the execution of the run() method in a separate thread of control. "
   ]
  },
  {
   "cell_type": "markdown",
   "metadata": {},
   "source": [
    "The join() method is used to wait for a thread to complete its execution before moving on to the next part of the program."
   ]
  },
  {
   "cell_type": "markdown",
   "metadata": {},
   "source": [
    "The isAlive() method is used to check whether a thread is currently executing or has finished its execution. It returns True if the thread is still active and False otherwise."
   ]
  },
  {
   "cell_type": "markdown",
   "metadata": {},
   "source": [
    "Q4. Write a python program to create two threads. Thread one must print the list of squares and thread\n",
    "two must print the list of cubes."
   ]
  },
  {
   "cell_type": "code",
   "execution_count": 6,
   "metadata": {},
   "outputs": [
    {
     "name": "stdout",
     "output_type": "stream",
     "text": [
      "[1, 4, 9, 16, 25, 36, 49, 64, 81, 100]\n",
      "[1, 8, 27, 64, 125, 216, 343, 512, 729, 1000]\n"
     ]
    }
   ],
   "source": [
    "import threading\n",
    "\n",
    "def square(list):\n",
    "    l1 = []\n",
    "    for i in list:\n",
    "        l1.append(i**2)\n",
    "    print(l1)\n",
    "    \n",
    "\n",
    "def cube(list):\n",
    "    l2 = []\n",
    "    for i in list:\n",
    "        l2.append(i**3)\n",
    "    print(l2)\n",
    "\n",
    "thread1 = threading.Thread(target=square, args=(list,))\n",
    "\n",
    "thread2 = threading.Thread(target=cube, args=(list,))\n",
    "\n",
    "list = [1,2,3,4,5,6,7,8,9,10]\n",
    "\n",
    "thread1.start()\n",
    "thread2.start()\n",
    "\n",
    "thread1.join()\n",
    "thread2.join()"
   ]
  },
  {
   "cell_type": "markdown",
   "metadata": {},
   "source": [
    "Q5. State advantages and disadvantages of multithreading."
   ]
  },
  {
   "cell_type": "markdown",
   "metadata": {},
   "source": [
    "**Advantages of Multithreading:**\n",
    "Multithreading offers several benefits in the development of concurrent software. Firstly, it enhances program responsiveness by allowing multiple tasks to run concurrently, preventing one long-running task from blocking others. Secondly, it facilitates improved resource utilization, especially on multi-core systems, where threads can execute simultaneously, leading to better overall system performance. Lastly, multithreading can simplify program structure and design, making it easier to manage complex tasks concurrently.\n",
    "\n",
    "**Disadvantages of Multithreading:**\n",
    "Despite its advantages, multithreading comes with challenges. One notable disadvantage is the increased complexity of code due to the need for synchronization mechanisms to prevent race conditions and ensure data integrity. Coordinating access to shared resources among threads can lead to intricate code structures and potential deadlocks. Additionally, debugging multithreaded programs is often more challenging, as issues such as race conditions and timing-dependent bugs may be harder to identify and reproduce compared to single-threaded programs."
   ]
  },
  {
   "cell_type": "markdown",
   "metadata": {},
   "source": [
    "Q6. Explain deadlocks and race conditions."
   ]
  },
  {
   "cell_type": "markdown",
   "metadata": {},
   "source": [
    "**Deadlocks:**\n",
    "A deadlock is a situation in concurrent programming where two or more threads are unable to proceed because each is waiting for the other to release a resource. In other words, each thread holds a resource that the other thread needs to proceed, creating a circular dependency. As a result, the threads become stuck in a state where none can make progress. Deadlocks can occur in multithreaded or multiprocessing environments and are often the result of improper resource acquisition and release management. To prevent deadlocks, proper synchronization mechanisms, such as locks and semaphores, should be used carefully to ensure a consistent and safe execution of concurrent programs.\n",
    "\n",
    "**Race Conditions:**\n",
    "A race condition occurs when the behavior of a program depends on the relative timing of events, specifically when multiple threads or processes access shared data concurrently, and at least one of them modifies that data. The outcome of the program becomes unpredictable because the execution order of threads affects the final result. Race conditions can lead to unexpected and erroneous behavior, such as data corruption or application crashes. To mitigate race conditions, synchronization mechanisms, such as locks or mutexes, are employed to control access to shared resources. By ensuring that only one thread can modify shared data at a time, race conditions can be avoided, and the program's behavior becomes more predictable and reliable."
   ]
  },
  {
   "cell_type": "code",
   "execution_count": null,
   "metadata": {},
   "outputs": [],
   "source": []
  }
 ],
 "metadata": {
  "kernelspec": {
   "display_name": "Python 3",
   "language": "python",
   "name": "python3"
  },
  "language_info": {
   "codemirror_mode": {
    "name": "ipython",
    "version": 3
   },
   "file_extension": ".py",
   "mimetype": "text/x-python",
   "name": "python",
   "nbconvert_exporter": "python",
   "pygments_lexer": "ipython3",
   "version": "3.11.4"
  }
 },
 "nbformat": 4,
 "nbformat_minor": 2
}
