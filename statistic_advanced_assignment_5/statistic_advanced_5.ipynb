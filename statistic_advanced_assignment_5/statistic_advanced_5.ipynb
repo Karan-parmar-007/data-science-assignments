{
 "cells": [
  {
   "cell_type": "markdown",
   "metadata": {},
   "source": [
    "# **Statictic Advanced 5**"
   ]
  },
  {
   "cell_type": "markdown",
   "metadata": {},
   "source": [
    "Q1: Calculate the 95% confidence interval for a sample of data with a mean of 50 and a standard deviation of 5 using Python. Interpret the results."
   ]
  },
  {
   "cell_type": "code",
   "execution_count": 1,
   "metadata": {},
   "outputs": [
    {
     "name": "stdout",
     "output_type": "stream",
     "text": [
      "The 95% confidence interval is: (48.210805856282846, 51.789194143717154)\n"
     ]
    }
   ],
   "source": [
    "import scipy.stats as stats\n",
    "import numpy as np\n",
    "\n",
    "# Given values\n",
    "mean = 50\n",
    "std_dev = 5\n",
    "confidence_level = 0.95\n",
    "sample_size = 30  # Assuming a sample size of 30\n",
    "\n",
    "# Calculate the standard error\n",
    "standard_error = std_dev / np.sqrt(sample_size)\n",
    "\n",
    "# Calculate the confidence interval\n",
    "confidence_interval = stats.norm.interval(confidence_level, loc=mean, scale=standard_error)\n",
    "\n",
    "print(f\"The 95% confidence interval is: {confidence_interval}\")\n"
   ]
  },
  {
   "cell_type": "markdown",
   "metadata": {},
   "source": [
    "Q2: Conduct a chi-square goodness of fit test to determine if the distribution of colors of M&Ms in a bag matches the expected distribution of 20% blue, 20% orange, 20% green, 10% yellow, 10% red, and 20% brown. Use Python to perform the test with a significance level of 0.05.\n"
   ]
  },
  {
   "cell_type": "code",
   "execution_count": 2,
   "metadata": {},
   "outputs": [
    {
     "name": "stdout",
     "output_type": "stream",
     "text": [
      "Chi-square Statistic: 1.0, P-value: 0.9625657732472964\n",
      "Fail to reject the null hypothesis. The distribution of M&M colors matches the expected distribution.\n"
     ]
    }
   ],
   "source": [
    "import scipy.stats as stats\n",
    "\n",
    "# Observed frequencies (example data, replace with actual observed frequencies)\n",
    "observed = [18, 22, 20, 10, 8, 22]\n",
    "\n",
    "# Expected frequencies\n",
    "total = sum(observed)\n",
    "expected = [total * 0.2, total * 0.2, total * 0.2, total * 0.1, total * 0.1, total * 0.2]\n",
    "\n",
    "# Chi-square goodness of fit test\n",
    "chi2_stat, p_val = stats.chisquare(observed, expected)\n",
    "\n",
    "print(f\"Chi-square Statistic: {chi2_stat}, P-value: {p_val}\")\n",
    "\n",
    "# Interpretation\n",
    "if p_val < 0.05:\n",
    "    print(\"Reject the null hypothesis. The distribution of M&M colors does not match the expected distribution.\")\n",
    "else:\n",
    "    print(\"Fail to reject the null hypothesis. The distribution of M&M colors matches the expected distribution.\")\n"
   ]
  },
  {
   "cell_type": "markdown",
   "metadata": {},
   "source": [
    "Q3: Use Python to calculate the chi-square statistic and p-value for a contingency table with the following data."
   ]
  },
  {
   "cell_type": "code",
   "execution_count": 3,
   "metadata": {},
   "outputs": [
    {
     "name": "stdout",
     "output_type": "stream",
     "text": [
      "Chi-square Statistic: 4.725, P-value: 0.029727183306054526\n",
      "Reject the null hypothesis. There is a significant association between the groups and the outcomes.\n"
     ]
    }
   ],
   "source": [
    "# Assuming the contingency table data is as follows (example data):\n",
    "#         | Outcome 1 | Outcome 2 |\n",
    "# Group A |    20     |    15     |\n",
    "# Group B |    10     |    25     |\n",
    "\n",
    "import numpy as np\n",
    "\n",
    "# Contingency table\n",
    "data = np.array([[20, 15],\n",
    "                 [10, 25]])\n",
    "\n",
    "# Chi-square test\n",
    "chi2_stat, p_val, dof, expected = stats.chi2_contingency(data)\n",
    "\n",
    "print(f\"Chi-square Statistic: {chi2_stat}, P-value: {p_val}\")\n",
    "\n",
    "# Interpretation\n",
    "if p_val < 0.05:\n",
    "    print(\"Reject the null hypothesis. There is a significant association between the groups and the outcomes.\")\n",
    "else:\n",
    "    print(\"Fail to reject the null hypothesis. There is no significant association between the groups and the outcomes.\")\n"
   ]
  },
  {
   "cell_type": "markdown",
   "metadata": {},
   "source": [
    "Q4: A study of the prevalence of smoking in a population of 500 individuals found that 60 individuals smoked. Use Python to calculate the 95% confidence interval for the true proportion of individuals in the population who smoke."
   ]
  },
  {
   "cell_type": "code",
   "execution_count": 4,
   "metadata": {},
   "outputs": [
    {
     "name": "stdout",
     "output_type": "stream",
     "text": [
      "The 95% confidence interval for the true proportion of smokers is: (0.09151638887130707, 0.1484836111286929)\n"
     ]
    }
   ],
   "source": [
    "# Given values\n",
    "n = 500\n",
    "x = 60\n",
    "p_hat = x / n\n",
    "confidence_level = 0.95\n",
    "\n",
    "# Calculate the standard error\n",
    "standard_error = np.sqrt((p_hat * (1 - p_hat)) / n)\n",
    "\n",
    "# Calculate the confidence interval\n",
    "confidence_interval = stats.norm.interval(confidence_level, loc=p_hat, scale=standard_error)\n",
    "\n",
    "print(f\"The 95% confidence interval for the true proportion of smokers is: {confidence_interval}\")\n"
   ]
  },
  {
   "cell_type": "markdown",
   "metadata": {},
   "source": [
    "Q5: Calculate the 90% confidence interval for a sample of data with a mean of 75 and a standard deviation of 12 using Python. Interpret the results."
   ]
  },
  {
   "cell_type": "code",
   "execution_count": 5,
   "metadata": {},
   "outputs": [
    {
     "name": "stdout",
     "output_type": "stream",
     "text": [
      "The 90% confidence interval is: (71.39630625889797, 78.60369374110203)\n"
     ]
    }
   ],
   "source": [
    "# Given values\n",
    "mean = 75\n",
    "std_dev = 12\n",
    "confidence_level = 0.90\n",
    "sample_size = 30  # Assuming a sample size of 30\n",
    "\n",
    "# Calculate the standard error\n",
    "standard_error = std_dev / np.sqrt(sample_size)\n",
    "\n",
    "# Calculate the confidence interval\n",
    "confidence_interval = stats.norm.interval(confidence_level, loc=mean, scale=standard_error)\n",
    "\n",
    "print(f\"The 90% confidence interval is: {confidence_interval}\")\n"
   ]
  },
  {
   "cell_type": "markdown",
   "metadata": {},
   "source": [
    "Q6: Use Python to plot the chi-square distribution with 10 degrees of freedom. Label the axes and shade the area corresponding to a chi-square statistic of 15."
   ]
  },
  {
   "cell_type": "code",
   "execution_count": 6,
   "metadata": {},
   "outputs": [
    {
     "data": {
      "image/png": "[encoded data removed]",
      "text/plain": [
       "<Figure size 640x480 with 1 Axes>"
      ]
     },
     "metadata": {},
     "output_type": "display_data"
    }
   ],
   "source": [
    "import matplotlib.pyplot as plt\n",
    "import numpy as np\n",
    "\n",
    "# Chi-square distribution with 10 degrees of freedom\n",
    "df = 10\n",
    "x = np.linspace(0, 30, 1000)\n",
    "y = stats.chi2.pdf(x, df)\n",
    "\n",
    "plt.plot(x, y, label=f'Chi-square distribution (df={df})')\n",
    "\n",
    "# Shade the area for chi-square statistic of 15\n",
    "x_fill = np.linspace(0, 15, 1000)\n",
    "y_fill = stats.chi2.pdf(x_fill, df)\n",
    "plt.fill_between(x_fill, y_fill, alpha=0.5, color='red', label='Chi-square statistic = 15')\n",
    "\n",
    "plt.xlabel('Chi-square value')\n",
    "plt.ylabel('Probability density')\n",
    "plt.title('Chi-square Distribution with 10 Degrees of Freedom')\n",
    "plt.legend()\n",
    "plt.show()\n"
   ]
  },
  {
   "cell_type": "markdown",
   "metadata": {},
   "source": [
    "Q7: A random sample of 1000 people was asked if they preferred Coke or Pepsi. Of the sample, 520 preferred Coke. Calculate a 99% confidence interval for the true proportion of people in the population who prefer Coke.\n"
   ]
  },
  {
   "cell_type": "code",
   "execution_count": 7,
   "metadata": {},
   "outputs": [
    {
     "name": "stdout",
     "output_type": "stream",
     "text": [
      "The 99% confidence interval for the true proportion of Coke preference is: (0.4793051576779699, 0.5606948423220302)\n"
     ]
    }
   ],
   "source": [
    "# Given values\n",
    "n = 1000\n",
    "x = 520\n",
    "p_hat = x / n\n",
    "confidence_level = 0.99\n",
    "\n",
    "# Calculate the standard error\n",
    "standard_error = np.sqrt((p_hat * (1 - p_hat)) / n)\n",
    "\n",
    "# Calculate the confidence interval\n",
    "confidence_interval = stats.norm.interval(confidence_level, loc=p_hat, scale=standard_error)\n",
    "\n",
    "print(f\"The 99% confidence interval for the true proportion of Coke preference is: {confidence_interval}\")\n"
   ]
  },
  {
   "cell_type": "markdown",
   "metadata": {},
   "source": [
    "Q8: A researcher hypothesizes that a coin is biased towards tails. They flip the coin 100 times and observe 45 tails. Conduct a chi-square goodness of fit test to determine if the observed frequencies match the expected frequencies of a fair coin. Use a significance level of 0.05.\n"
   ]
  },
  {
   "cell_type": "code",
   "execution_count": 8,
   "metadata": {},
   "outputs": [
    {
     "name": "stdout",
     "output_type": "stream",
     "text": [
      "Chi-square Statistic: 1.0, P-value: 0.31731050786291115\n",
      "Fail to reject the null hypothesis. The coin is not biased.\n"
     ]
    }
   ],
   "source": [
    "# Given values\n",
    "observed_tails = 45\n",
    "observed_heads = 100 - observed_tails\n",
    "observed = [observed_heads, observed_tails]\n",
    "\n",
    "# Expected frequencies for a fair coin\n",
    "expected = [50, 50]\n",
    "\n",
    "# Chi-square goodness of fit test\n",
    "chi2_stat, p_val = stats.chisquare(observed, expected)\n",
    "\n",
    "print(f\"Chi-square Statistic: {chi2_stat}, P-value: {p_val}\")\n",
    "\n",
    "# Interpretation\n",
    "if p_val < 0.05:\n",
    "    print(\"Reject the null hypothesis. The coin is biased.\")\n",
    "else:\n",
    "    print(\"Fail to reject the null hypothesis. The coin is not biased.\")\n"
   ]
  },
  {
   "cell_type": "markdown",
   "metadata": {},
   "source": [
    "Q9: A study was conducted to determine if there is an association between smoking status (smoker or non-smoker) and lung cancer diagnosis (yes or no). The results are shown in the contingency table below. Conduct a chi-square test for independence to determine if there is a significant association between smoking status and lung cancer diagnosis."
   ]
  },
  {
   "cell_type": "code",
   "execution_count": 9,
   "metadata": {},
   "outputs": [
    {
     "name": "stdout",
     "output_type": "stream",
     "text": [
      "Chi-square Statistic: 12.057347670250895, P-value: 0.0005158863863703744\n",
      "Reject the null hypothesis. There is a significant association between smoking status and lung cancer diagnosis.\n"
     ]
    }
   ],
   "source": [
    "# Given contingency table data\n",
    "#         | Lung Cancer: Yes | Lung Cancer: No |\n",
    "# Smoker  |        60         |       140       |\n",
    "# Non-smoker |    30         |       170       |\n",
    "\n",
    "# Contingency table\n",
    "data = np.array([[60, 140],\n",
    "                 [30, 170]])\n",
    "\n",
    "# Chi-square test for independence\n",
    "chi2_stat, p_val, dof, expected = stats.chi2_contingency(data)\n",
    "\n",
    "print(f\"Chi-square Statistic: {chi2_stat}, P-value: {p_val}\")\n",
    "\n",
    "# Interpretation\n",
    "if p_val < 0.05:\n",
    "    print(\"Reject the null hypothesis. There is a significant association between smoking status and lung cancer diagnosis.\")\n",
    "else:\n",
    "    print(\"Fail to reject the null hypothesis. There is no significant association between smoking status and lung cancer diagnosis.\")\n"
   ]
  },
  {
   "cell_type": "markdown",
   "metadata": {},
   "source": [
    "Q10: Conduct a chi-square test for independence to determine if there is a significant association between chocolate preference and country of origin."
   ]
  },
  {
   "cell_type": "code",
   "execution_count": 10,
   "metadata": {},
   "outputs": [
    {
     "name": "stdout",
     "output_type": "stream",
     "text": [
      "Chi-square Statistic: 13.393665158371041, P-value: 0.0012348168997745918\n",
      "Reject the null hypothesis. There is a significant association between chocolate preference and country of origin.\n"
     ]
    }
   ],
   "source": [
    "import numpy as np\n",
    "import scipy.stats as stats\n",
    "\n",
    "# Given contingency table data\n",
    "#                 | Milk Chocolate | Dark Chocolate | White Chocolate |\n",
    "# U.S. (n=500)    |       200       |       150       |       150       |\n",
    "# U.K. (n=500)    |       225       |       175       |       100       |\n",
    "\n",
    "# Contingency table\n",
    "data = np.array([[200, 150, 150],\n",
    "                 [225, 175, 100]])\n",
    "\n",
    "# Chi-square test for independence\n",
    "chi2_stat, p_val, dof, expected = stats.chi2_contingency(data)\n",
    "\n",
    "print(f\"Chi-square Statistic: {chi2_stat}, P-value: {p_val}\")\n",
    "\n",
    "# Interpretation\n",
    "if p_val < 0.01:\n",
    "    print(\"Reject the null hypothesis. There is a significant association between chocolate preference and country of origin.\")\n",
    "else:\n",
    "    print(\"Fail to reject the null hypothesis. There is no significant association between chocolate preference and country of origin.\")\n"
   ]
  },
  {
   "cell_type": "markdown",
   "metadata": {},
   "source": [
    "Q11: Conduct a hypothesis test to determine if the population mean is significantly different from 70. Use a significance level of 0.05."
   ]
  },
  {
   "cell_type": "code",
   "execution_count": 11,
   "metadata": {},
   "outputs": [
    {
     "name": "stdout",
     "output_type": "stream",
     "text": [
      "T-statistic: 1.0954451150103321, P-value: 0.28233623728606977\n",
      "Fail to reject the null hypothesis. The population mean is not significantly different from 70.\n"
     ]
    }
   ],
   "source": [
    "import numpy as np\n",
    "import scipy.stats as stats\n",
    "\n",
    "# Given values\n",
    "sample_mean = 72\n",
    "sample_std = 10\n",
    "n = 30\n",
    "population_mean = 70\n",
    "alpha = 0.05\n",
    "\n",
    "# Calculate the t-statistic\n",
    "t_statistic = (sample_mean - population_mean) / (sample_std / np.sqrt(n))\n",
    "\n",
    "# Calculate the p-value\n",
    "p_val = stats.t.sf(np.abs(t_statistic), df=n-1) * 2  # Two-tailed test\n",
    "\n",
    "print(f\"T-statistic: {t_statistic}, P-value: {p_val}\")\n",
    "\n",
    "# Interpretation\n",
    "if p_val < alpha:\n",
    "    print(\"Reject the null hypothesis. The population mean is significantly different from 70.\")\n",
    "else:\n",
    "    print(\"Fail to reject the null hypothesis. The population mean is not significantly different from 70.\")\n"
   ]
  },
  {
   "cell_type": "markdown",
   "metadata": {},
   "source": [
    "# **COMPLETE**"
   ]
  }
 ],
 "metadata": {
  "kernelspec": {
   "display_name": "base",
   "language": "python",
   "name": "python3"
  },
  "language_info": {
   "codemirror_mode": {
    "name": "ipython",
    "version": 3
   },
   "file_extension": ".py",
   "mimetype": "text/x-python",
   "name": "python",
   "nbconvert_exporter": "python",
   "pygments_lexer": "ipython3",
   "version": "3.11.5"
  }
 },
 "nbformat": 4,
 "nbformat_minor": 2
}
