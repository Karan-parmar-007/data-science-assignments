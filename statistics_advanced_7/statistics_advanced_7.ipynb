{
 "cells": [
  {
   "cell_type": "markdown",
   "metadata": {},
   "source": [
    "# **Statistic Advanced 7**"
   ]
  },
  {
   "cell_type": "markdown",
   "metadata": {},
   "source": [
    "Q1: Write a Python function that takes in two arrays of data and calculates the F-value for a variance ratio test. The function should return the F-value and the corresponding p-value for the test."
   ]
  },
  {
   "cell_type": "code",
   "execution_count": 1,
   "metadata": {},
   "outputs": [
    {
     "name": "stdout",
     "output_type": "stream",
     "text": [
      "F-value: 1.4551907719609583, p-value: 0.6974815747937484\n"
     ]
    }
   ],
   "source": [
    "import numpy as np\n",
    "from scipy.stats import f\n",
    "\n",
    "def variance_ratio_test(array1, array2):\n",
    "    # Calculate the variances\n",
    "    var1 = np.var(array1, ddof=1)\n",
    "    var2 = np.var(array2, ddof=1)\n",
    "    \n",
    "    # Calculate the F-value\n",
    "    F = var1 / var2\n",
    "    \n",
    "    # Degrees of freedom\n",
    "    df1 = len(array1) - 1\n",
    "    df2 = len(array2) - 1\n",
    "    \n",
    "    # Calculate the p-value\n",
    "    p_value = f.cdf(F, df1, df2)\n",
    "    p_value = min(p_value, 1 - p_value) * 2  # Two-tailed test\n",
    "    \n",
    "    return F, p_value\n",
    "\n",
    "# Example usage\n",
    "array1 = [24, 25, 28, 23, 22, 20, 27]\n",
    "array2 = [31, 33, 35, 30, 32, 36]\n",
    "f_value, p_value = variance_ratio_test(array1, array2)\n",
    "print(f\"F-value: {f_value}, p-value: {p_value}\")\n"
   ]
  },
  {
   "cell_type": "markdown",
   "metadata": {},
   "source": [
    "Q2: Given a significance level of 0.05 and the degrees of freedom for the numerator and denominator of an F-distribution, write a Python function that returns the critical F-value for a two-tailed test."
   ]
  },
  {
   "cell_type": "code",
   "execution_count": 2,
   "metadata": {},
   "outputs": [
    {
     "name": "stdout",
     "output_type": "stream",
     "text": [
      "Critical F-value: 4.236085668188633\n"
     ]
    }
   ],
   "source": [
    "from scipy.stats import f\n",
    "\n",
    "def critical_f_value(significance_level, df1, df2):\n",
    "    alpha = significance_level / 2\n",
    "    critical_value = f.ppf(1 - alpha, df1, df2)\n",
    "    return critical_value\n",
    "\n",
    "# Example usage\n",
    "df1 = 5\n",
    "df2 = 10\n",
    "significance_level = 0.05\n",
    "critical_value = critical_f_value(significance_level, df1, df2)\n",
    "print(f\"Critical F-value: {critical_value}\")\n"
   ]
  },
  {
   "cell_type": "markdown",
   "metadata": {},
   "source": [
    "Q3: Write a Python program that generates random samples from two normal distributions with known variances and uses an F-test to determine if the variances are equal. The program should output the F-value, degrees of freedom, and p-value for the test."
   ]
  },
  {
   "cell_type": "code",
   "execution_count": 3,
   "metadata": {},
   "outputs": [
    {
     "name": "stdout",
     "output_type": "stream",
     "text": [
      "F-value: 1.4159065351291593, df1: 29, df2: 29, p-value: 0.35441470431965616\n"
     ]
    }
   ],
   "source": [
    "import numpy as np\n",
    "from scipy.stats import f\n",
    "\n",
    "def generate_samples_and_test(mu1, sigma1, n1, mu2, sigma2, n2):\n",
    "    # Generate random samples\n",
    "    sample1 = np.random.normal(mu1, sigma1, n1)\n",
    "    sample2 = np.random.normal(mu2, sigma2, n2)\n",
    "    \n",
    "    # Calculate variances\n",
    "    var1 = np.var(sample1, ddof=1)\n",
    "    var2 = np.var(sample2, ddof=1)\n",
    "    \n",
    "    # F-value\n",
    "    F = var1 / var2 if var1 > var2 else var2 / var1\n",
    "    \n",
    "    # Degrees of freedom\n",
    "    df1 = n1 - 1\n",
    "    df2 = n2 - 1\n",
    "    \n",
    "    # P-value\n",
    "    p_value = f.cdf(F, df1, df2)\n",
    "    p_value = min(p_value, 1 - p_value) * 2  # Two-tailed test\n",
    "    \n",
    "    return F, df1, df2, p_value\n",
    "\n",
    "# Example usage\n",
    "mu1, sigma1, n1 = 0, 1, 30\n",
    "mu2, sigma2, n2 = 0, 1.5, 30\n",
    "F, df1, df2, p_value = generate_samples_and_test(mu1, sigma1, n1, mu2, sigma2, n2)\n",
    "print(f\"F-value: {F}, df1: {df1}, df2: {df2}, p-value: {p_value}\")\n"
   ]
  },
  {
   "cell_type": "markdown",
   "metadata": {},
   "source": [
    "Q4: The variances of two populations are known to be 10 and 15. A sample of 12 observations is taken from each population. Conduct an F-test at the 5% significance level to determine if the variances are significantly different."
   ]
  },
  {
   "cell_type": "code",
   "execution_count": 4,
   "metadata": {},
   "outputs": [
    {
     "name": "stdout",
     "output_type": "stream",
     "text": [
      "F-value: 1.5, Critical value: 3.473699051085809, p-value: 0.5123897987357995\n"
     ]
    }
   ],
   "source": [
    "from scipy.stats import f\n",
    "\n",
    "def f_test_known_variances(var1, var2, n1, n2, alpha=0.05):\n",
    "    F = var1 / var2 if var1 > var2 else var2 / var1\n",
    "    df1 = n1 - 1\n",
    "    df2 = n2 - 1\n",
    "    critical_value = f.ppf(1 - alpha / 2, df1, df2)\n",
    "    p_value = f.cdf(F, df1, df2)\n",
    "    p_value = min(p_value, 1 - p_value) * 2  # Two-tailed test\n",
    "    return F, critical_value, p_value\n",
    "\n",
    "# Given data\n",
    "var1 = 10\n",
    "var2 = 15\n",
    "n1 = 12\n",
    "n2 = 12\n",
    "\n",
    "F, critical_value, p_value = f_test_known_variances(var1, var2, n1, n2)\n",
    "print(f\"F-value: {F}, Critical value: {critical_value}, p-value: {p_value}\")\n"
   ]
  },
  {
   "cell_type": "markdown",
   "metadata": {},
   "source": [
    "Q5: A manufacturer claims that the variance of the diameter of a certain product is 0.005. A sample of 25 products is taken, and the sample variance is found to be 0.006. Conduct an F-test at the 1% significance level to determine if the claim is justified."
   ]
  },
  {
   "cell_type": "code",
   "execution_count": 5,
   "metadata": {},
   "outputs": [
    {
     "name": "stdout",
     "output_type": "stream",
     "text": [
      "Chi-square statistic: 28.800000000000004, Critical value: 42.97982013935165, p-value: 0.22774877881074673\n"
     ]
    }
   ],
   "source": [
    "from scipy.stats import chi2\n",
    "\n",
    "def chi_square_test(sample_variance, claimed_variance, n, alpha=0.01):\n",
    "    chi_square_stat = (n - 1) * sample_variance / claimed_variance\n",
    "    df = n - 1\n",
    "    critical_value = chi2.ppf(1 - alpha, df)\n",
    "    p_value = 1 - chi2.cdf(chi_square_stat, df)\n",
    "    return chi_square_stat, critical_value, p_value\n",
    "\n",
    "# Given data\n",
    "claimed_variance = 0.005\n",
    "sample_variance = 0.006\n",
    "n = 25\n",
    "\n",
    "chi_square_stat, critical_value, p_value = chi_square_test(sample_variance, claimed_variance, n)\n",
    "print(f\"Chi-square statistic: {chi_square_stat}, Critical value: {critical_value}, p-value: {p_value}\")\n"
   ]
  },
  {
   "cell_type": "markdown",
   "metadata": {},
   "source": [
    "Q6: Write a Python function that takes in the degrees of freedom for the numerator and denominator of an F-distribution and calculates the mean and variance of the distribution. The function should return the mean and variance as a tuple."
   ]
  },
  {
   "cell_type": "code",
   "execution_count": 6,
   "metadata": {},
   "outputs": [
    {
     "name": "stdout",
     "output_type": "stream",
     "text": [
      "Mean: 1.25, Variance: 1.3541666666666667\n"
     ]
    }
   ],
   "source": [
    "def f_distribution_mean_variance(df1, df2):\n",
    "    if df2 > 2:\n",
    "        mean = df2 / (df2 - 2)\n",
    "    else:\n",
    "        mean = np.nan  # Mean is undefined for df2 <= 2\n",
    "\n",
    "    if df2 > 4:\n",
    "        variance = (2 * (df2**2) * (df1 + df2 - 2)) / (df1 * (df2 - 2)**2 * (df2 - 4))\n",
    "    else:\n",
    "        variance = np.nan  # Variance is undefined for df2 <= 4\n",
    "\n",
    "    return mean, variance\n",
    "\n",
    "# Example usage\n",
    "df1 = 5\n",
    "df2 = 10\n",
    "mean, variance = f_distribution_mean_variance(df1, df2)\n",
    "print(f\"Mean: {mean}, Variance: {variance}\")\n"
   ]
  },
  {
   "cell_type": "markdown",
   "metadata": {},
   "source": [
    "Q7: A random sample of 10 measurements is taken from a normal population with unknown variance. The sample variance is found to be 25. Another random sample of 15 measurements is taken from another normal population with unknown variance, and the sample variance is found to be 20. Conduct an F-test at the 10% significance level to determine if the variances are significantly different."
   ]
  },
  {
   "cell_type": "code",
   "execution_count": 7,
   "metadata": {},
   "outputs": [
    {
     "name": "stdout",
     "output_type": "stream",
     "text": [
      "F-value: 1.25, Critical value: 2.6457907352338195, p-value: 0.6832194382585954\n"
     ]
    }
   ],
   "source": [
    "import numpy as np\n",
    "from scipy.stats import f\n",
    "\n",
    "def f_test_sample_variances(var1, var2, n1, n2, alpha=0.10):\n",
    "    F = var1 / var2 if var1 > var2 else var2 / var1\n",
    "    df1 = n1 - 1\n",
    "    df2 = n2 - 1\n",
    "    critical_value = f.ppf(1 - alpha / 2, df1, df2)\n",
    "    p_value = f.cdf(F, df1, df2)\n",
    "    p_value = min(p_value, 1 - p_value) * 2  # Two-tailed test\n",
    "    return F, critical_value, p_value\n",
    "\n",
    "# Given data\n",
    "var1 = 25\n",
    "var2 = 20\n",
    "n1 = 10\n",
    "n2 = 15\n",
    "\n",
    "F, critical_value, p_value = f_test_sample_variances(var1, var2, n1, n2)\n",
    "print(f\"F-value: {F}, Critical value: {critical_value}, p-value: {p_value}\")\n"
   ]
  },
  {
   "cell_type": "markdown",
   "metadata": {},
   "source": [
    "Q8: The following data represent the waiting times in minutes at two different restaurants on a Saturday night: Restaurant A: 24, 25, 28, 23, 22, 20, 27; Restaurant B: 31, 33, 35, 30, 32, 36. Conduct an F-test at the 5% significance level to determine if the variances are significantly different."
   ]
  },
  {
   "cell_type": "code",
   "execution_count": 8,
   "metadata": {},
   "outputs": [
    {
     "name": "stdout",
     "output_type": "stream",
     "text": [
      "F-value: 1.4551907719609583, Critical value: 6.977701858535566, p-value: 0.6974815747937484\n"
     ]
    }
   ],
   "source": [
    "import numpy as np\n",
    "from scipy.stats import f\n",
    "\n",
    "def f_test_waiting_times(data1, data2, alpha=0.05):\n",
    "    # Calculate variances\n",
    "    var1 = np.var(data1, ddof=1)\n",
    "    var2 = np.var(data2, ddof=1)\n",
    "    \n",
    "    # Calculate the F-value\n",
    "    F = var1 / var2 if var1 > var2 else var2 / var1\n",
    "    \n",
    "    # Degrees of freedom\n",
    "    df1 = len(data1) - 1\n",
    "    df2 = len(data2) - 1\n",
    "    \n",
    "    # Calculate the critical value for a two-tailed test\n",
    "    critical_value = f.ppf(1 - alpha / 2, df1, df2)\n",
    "    \n",
    "    # Calculate the p-value\n",
    "    p_value = f.cdf(F, df1, df2)\n",
    "    p_value = min(p_value, 1 - p_value) * 2  # Two-tailed test\n",
    "    \n",
    "    return F, critical_value, p_value\n",
    "\n",
    "# Given data\n",
    "restaurant_A = [24, 25, 28, 23, 22, 20, 27]\n",
    "restaurant_B = [31, 33, 35, 30, 32, 36]\n",
    "\n",
    "F, critical_value, p_value = f_test_waiting_times(restaurant_A, restaurant_B)\n",
    "print(f\"F-value: {F}, Critical value: {critical_value}, p-value: {p_value}\")\n"
   ]
  },
  {
   "cell_type": "markdown",
   "metadata": {},
   "source": [
    "Q9: The following data represent the test scores of two groups of students: Group A: 80, 85, 90, 92, 87, 83; Group B: 75, 78, 82, 79, 81, 84. Conduct an F-test at the 1% significance level to determine if the variances are significantly different."
   ]
  },
  {
   "cell_type": "code",
   "execution_count": 9,
   "metadata": {},
   "outputs": [
    {
     "name": "stdout",
     "output_type": "stream",
     "text": [
      "F-value: 1.9442622950819677, Critical value: 14.939605459912224, p-value: 0.4831043549070688\n"
     ]
    }
   ],
   "source": [
    "import numpy as np\n",
    "from scipy.stats import f\n",
    "\n",
    "def f_test_scores(data1, data2, alpha=0.01):\n",
    "    # Calculate variances\n",
    "    var1 = np.var(data1, ddof=1)\n",
    "    var2 = np.var(data2, ddof=1)\n",
    "    \n",
    "    # Calculate the F-value\n",
    "    F = var1 / var2 if var1 > var2 else var2 / var1\n",
    "    \n",
    "    # Degrees of freedom\n",
    "    df1 = len(data1) - 1\n",
    "    df2 = len(data2) - 1\n",
    "    \n",
    "    # Calculate the critical value for a two-tailed test\n",
    "    critical_value = f.ppf(1 - alpha / 2, df1, df2)\n",
    "    \n",
    "    # Calculate the p-value\n",
    "    p_value = f.cdf(F, df1, df2)\n",
    "    p_value = min(p_value, 1 - p_value) * 2  # Two-tailed test\n",
    "    \n",
    "    return F, critical_value, p_value\n",
    "\n",
    "# Given data\n",
    "group_A = [80, 85, 90, 92, 87, 83]\n",
    "group_B = [75, 78, 82, 79, 81, 84]\n",
    "\n",
    "F, critical_value, p_value = f_test_scores(group_A, group_B)\n",
    "print(f\"F-value: {F}, Critical value: {critical_value}, p-value: {p_value}\")\n"
   ]
  },
  {
   "cell_type": "markdown",
   "metadata": {},
   "source": [
    "# **Complete**"
   ]
  }
 ],
 "metadata": {
  "kernelspec": {
   "display_name": "base",
   "language": "python",
   "name": "python3"
  },
  "language_info": {
   "codemirror_mode": {
    "name": "ipython",
    "version": 3
   },
   "file_extension": ".py",
   "mimetype": "text/x-python",
   "name": "python",
   "nbconvert_exporter": "python",
   "pygments_lexer": "ipython3",
   "version": "3.11.5"
  }
 },
 "nbformat": 4,
 "nbformat_minor": 2
}
