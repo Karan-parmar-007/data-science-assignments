{
 "cells": [
  {
   "cell_type": "markdown",
   "metadata": {},
   "source": [
    "Assignment 1 - Karan Parmar"
   ]
  },
  {
   "cell_type": "code",
   "execution_count": 5,
   "metadata": {},
   "outputs": [
    {
     "data": {
      "text/plain": [
       "str"
      ]
     },
     "execution_count": 5,
     "metadata": {},
     "output_type": "execute_result"
    }
   ],
   "source": [
    "# Create one variable containing following type of data:\n",
    "\n",
    "# 1.\n",
    "\n",
    "a = \"Made By Karan\"\n",
    "type(a)"
   ]
  },
  {
   "cell_type": "code",
   "execution_count": 2,
   "metadata": {},
   "outputs": [
    {
     "data": {
      "text/plain": [
       "list"
      ]
     },
     "execution_count": 2,
     "metadata": {},
     "output_type": "execute_result"
    }
   ],
   "source": [
    "# 2.\n",
    "\n",
    "b = ['I know I am starting late', 1, 3, 4.5]\n",
    "type(b)"
   ]
  },
  {
   "cell_type": "code",
   "execution_count": 3,
   "metadata": {},
   "outputs": [
    {
     "data": {
      "text/plain": [
       "float"
      ]
     },
     "execution_count": 3,
     "metadata": {},
     "output_type": "execute_result"
    }
   ],
   "source": [
    "# 3.\n",
    "\n",
    "c = 3.5\n",
    "type(c)"
   ]
  },
  {
   "cell_type": "code",
   "execution_count": 4,
   "metadata": {},
   "outputs": [
    {
     "data": {
      "text/plain": [
       "tuple"
      ]
     },
     "execution_count": 4,
     "metadata": {},
     "output_type": "execute_result"
    }
   ],
   "source": [
    "# 4.\n",
    "\n",
    "d = (\"Its because i was busy with my college\",\"I am going to complete this course in 1 month\", \"lets see how this goes\")\n",
    "type(d)"
   ]
  },
  {
   "cell_type": "code",
   "execution_count": 7,
   "metadata": {},
   "outputs": [
    {
     "data": {
      "text/plain": [
       "str"
      ]
     },
     "execution_count": 7,
     "metadata": {},
     "output_type": "execute_result"
    }
   ],
   "source": [
    "# Given are some following variables containing data:\n",
    "\n",
    "# 1.\n",
    "\n",
    "varl = ''\n",
    "type(varl)"
   ]
  },
  {
   "cell_type": "code",
   "execution_count": 8,
   "metadata": {},
   "outputs": [
    {
     "data": {
      "text/plain": [
       "str"
      ]
     },
     "execution_count": 8,
     "metadata": {},
     "output_type": "execute_result"
    }
   ],
   "source": [
    "# 2.\n",
    "var2 = '[DS , ML , Python]'\n",
    "type(var2)"
   ]
  },
  {
   "cell_type": "code",
   "execution_count": 9,
   "metadata": {},
   "outputs": [
    {
     "data": {
      "text/plain": [
       "list"
      ]
     },
     "execution_count": 9,
     "metadata": {},
     "output_type": "execute_result"
    }
   ],
   "source": [
    "# 3.\n",
    "\n",
    "var3 = [ 'DS' , 'ML' , 'Python' ]\n",
    "type(var3)"
   ]
  },
  {
   "cell_type": "code",
   "execution_count": 10,
   "metadata": {},
   "outputs": [
    {
     "data": {
      "text/plain": [
       "int"
      ]
     },
     "execution_count": 10,
     "metadata": {},
     "output_type": "execute_result"
    }
   ],
   "source": [
    "# 4.\n",
    "\n",
    "var4 = 1\n",
    "type(var4)"
   ]
  },
  {
   "cell_type": "markdown",
   "metadata": {},
   "source": [
    "Q3 Explain the use of the following operators using an example:\n",
    "\n",
    "1. /\n",
    "This is used for division\n",
    "\n",
    "2. %\n",
    "This is used for finding modulas\n",
    "\n",
    "3. //\n",
    "This is used for floor division\n",
    "\n",
    "4. **\n",
    "This is used as power (example square, cube, etc)"
   ]
  },
  {
   "cell_type": "markdown",
   "metadata": {},
   "source": [
    "Q4. Create a list of length 10 of your choice containing multiple types of data. Using for loop print the\n",
    "element and its data type."
   ]
  },
  {
   "cell_type": "code",
   "execution_count": 13,
   "metadata": {},
   "outputs": [
    {
     "name": "stdout",
     "output_type": "stream",
     "text": [
      "<class 'str'>\n",
      "<class 'int'>\n",
      "<class 'bool'>\n",
      "<class 'str'>\n",
      "<class 'int'>\n",
      "<class 'bool'>\n",
      "<class 'str'>\n",
      "<class 'int'>\n",
      "<class 'str'>\n",
      "<class 'float'>\n"
     ]
    }
   ],
   "source": [
    "my_list = [\"Goku\", 100000000, True, \"Tanjiro\", 2000, True, \"Anime is far greater than k-drama\", 10000,\"percent\", 0.5]\n",
    "for i in my_list:\n",
    "    print(type(i))"
   ]
  },
  {
   "cell_type": "markdown",
   "metadata": {},
   "source": [
    "Q5. Using a while loop, verify if the number A is purely divisible by number B and if so then how many\n",
    "times it can be divisible."
   ]
  },
  {
   "cell_type": "code",
   "execution_count": 33,
   "metadata": {},
   "outputs": [
    {
     "name": "stdout",
     "output_type": "stream",
     "text": [
      "The number 1024 is purely divisible by 4 and it took 5 number of iterations to reach the end\n"
     ]
    }
   ],
   "source": [
    "#a = 262144\n",
    "a = int(input(\"Enter any number\"))\n",
    "d = a\n",
    "b = int(input(\"Enter the number with whome you want to check\"))\n",
    "c = 0\n",
    "while a>1:\n",
    "    a = a/b\n",
    "    if a == int(a):\n",
    "        c+=1\n",
    "        continue\n",
    "    else:\n",
    "        print(f\"The number {d} can only be divided purely by {b} for {c} number of times\")\n",
    "        break\n",
    "else:\n",
    "    print(f\"The number {d} is purely divisible by {b} and it took {c} number of iterations to reach the end\")"
   ]
  },
  {
   "cell_type": "markdown",
   "metadata": {},
   "source": [
    "Q6. Create a list containing 25 int type data. Using for loop and if-else condition print if the element is\n",
    "divisible by 3 or not."
   ]
  },
  {
   "cell_type": "code",
   "execution_count": 37,
   "metadata": {},
   "outputs": [
    {
     "name": "stdout",
     "output_type": "stream",
     "text": [
      "10 is not divisible by 3\n",
      "23 is not divisible by 3\n",
      "27 is divisible by 3\n",
      "3 is divisible by 3\n",
      "5 is not divisible by 3\n",
      "70 is not divisible by 3\n",
      "30 is divisible by 3\n",
      "24 is divisible by 3\n",
      "9 is divisible by 3\n",
      "10 is not divisible by 3\n",
      "12 is divisible by 3\n",
      "25 is not divisible by 3\n",
      "15 is divisible by 3\n",
      "18 is divisible by 3\n",
      "14 is not divisible by 3\n",
      "75 is divisible by 3\n",
      "86 is not divisible by 3\n",
      "96 is divisible by 3\n",
      "196 is not divisible by 3\n",
      "159 is divisible by 3\n",
      "200 is not divisible by 3\n",
      "21 is divisible by 3\n",
      "22 is not divisible by 3\n",
      "130 is not divisible by 3\n",
      "279 is divisible by 3\n"
     ]
    }
   ],
   "source": [
    "int_list = [10,23,27,3,5,70,30,24,9,10,12,25,15,18,14,75,86,96,196,159,200,21,22,130,279]\n",
    "for i in int_list:\n",
    "    a = i\n",
    "    a = a/3\n",
    "    if a == int(a):\n",
    "        print(f\"{i} is divisible by 3\")\n",
    "    else:\n",
    "        print(f\"{i} is not divisible by 3\")"
   ]
  },
  {
   "cell_type": "markdown",
   "metadata": {},
   "source": [
    "Q7. What do you understand about mutable and immutable data types? Give examples for both showing\n",
    "this property."
   ]
  },
  {
   "cell_type": "markdown",
   "metadata": {},
   "source": [
    "Mutable datatypes:\n",
    "\n",
    "Mutuable datatypes are the datatypes in which we can change value at any index.\n",
    "for example:"
   ]
  },
  {
   "cell_type": "code",
   "execution_count": 39,
   "metadata": {},
   "outputs": [
    {
     "name": "stdout",
     "output_type": "stream",
     "text": [
      "['I can do this', 'moyemoye', 13, 14]\n"
     ]
    }
   ],
   "source": [
    "a = ['lol', 'moyemoye', 13, 14]\n",
    "a[0] = 'I can do this'\n",
    "print(a)"
   ]
  },
  {
   "cell_type": "markdown",
   "metadata": {},
   "source": [
    "In the above example we can see, there is a change in the value of \"a\" at index '0'. This means mutable"
   ]
  },
  {
   "cell_type": "markdown",
   "metadata": {},
   "source": [
    "Immutable datatypes:\n",
    "\n",
    "Immutable datatypes are the datatypes in which we cannot change value at any index without overwriting it. For example:"
   ]
  },
  {
   "cell_type": "code",
   "execution_count": 42,
   "metadata": {},
   "outputs": [
    {
     "ename": "NameError",
     "evalue": "name 'ok' is not defined",
     "output_type": "error",
     "traceback": [
      "\u001b[1;31m---------------------------------------------------------------------------\u001b[0m",
      "\u001b[1;31mNameError\u001b[0m                                 Traceback (most recent call last)",
      "\u001b[1;32mc:\\coding\\data_science_pw\\Assignment_1\\assignment_1.ipynb Cell 22\u001b[0m line \u001b[0;36m2\n\u001b[0;32m      <a href='vscode-notebook-cell:/c%3A/coding/data_science_pw/Assignment_1/assignment_1.ipynb#X36sZmlsZQ%3D%3D?line=0'>1</a>\u001b[0m a \u001b[39m=\u001b[39m \u001b[39m'\u001b[39m\u001b[39mthis is a string\u001b[39m\u001b[39m'\u001b[39m\n\u001b[1;32m----> <a href='vscode-notebook-cell:/c%3A/coding/data_science_pw/Assignment_1/assignment_1.ipynb#X36sZmlsZQ%3D%3D?line=1'>2</a>\u001b[0m a[\u001b[39m0\u001b[39m] \u001b[39m=\u001b[39m ok\n\u001b[0;32m      <a href='vscode-notebook-cell:/c%3A/coding/data_science_pw/Assignment_1/assignment_1.ipynb#X36sZmlsZQ%3D%3D?line=2'>3</a>\u001b[0m \u001b[39mprint\u001b[39m(a)\n\u001b[0;32m      <a href='vscode-notebook-cell:/c%3A/coding/data_science_pw/Assignment_1/assignment_1.ipynb#X36sZmlsZQ%3D%3D?line=3'>4</a>\u001b[0m \u001b[39m# print(a[0])\u001b[39;00m\n",
      "\u001b[1;31mNameError\u001b[0m: name 'ok' is not defined"
     ]
    }
   ],
   "source": [
    "a = 'this is a string'\n",
    "a[0] = ok\n",
    "print(a)\n",
    "# print(a[0])"
   ]
  },
  {
   "cell_type": "markdown",
   "metadata": {},
   "source": [
    "As we can see there is a error, this displays that, this datatype is immutable"
   ]
  },
  {
   "cell_type": "markdown",
   "metadata": {},
   "source": [
    "COMPLETE"
   ]
  }
 ],
 "metadata": {
  "kernelspec": {
   "display_name": "Python 3",
   "language": "python",
   "name": "python3"
  },
  "language_info": {
   "codemirror_mode": {
    "name": "ipython",
    "version": 3
   },
   "file_extension": ".py",
   "mimetype": "text/x-python",
   "name": "python",
   "nbconvert_exporter": "python",
   "pygments_lexer": "ipython3",
   "version": "3.11.4"
  }
 },
 "nbformat": 4,
 "nbformat_minor": 2
}
