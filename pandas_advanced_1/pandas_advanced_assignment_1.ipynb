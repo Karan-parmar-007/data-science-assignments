{
 "cells": [
  {
   "cell_type": "markdown",
   "metadata": {},
   "source": [
    "# **Pandas Assignment 1**"
   ]
  },
  {
   "cell_type": "markdown",
   "metadata": {},
   "source": [
    "### **Q1. List any five functions of the pandas library with execution.**"
   ]
  },
  {
   "cell_type": "markdown",
   "metadata": {},
   "source": [
    "Sure! Here are five commonly used functions in the pandas library along with examples of their execution:\n",
    "\n",
    "1. **`read_csv`**: This function is used to read a comma-separated values (CSV) file into a DataFrame.\n",
    "\n",
    "2. **`head`**: This function returns the first n rows of a DataFrame.\n",
    "\n",
    "3. **`describe`**: This function generates descriptive statistics that summarize the central tendency, dispersion, and shape of a dataset’s distribution, excluding NaN values.\n",
    "\n",
    "4. **`groupby`**: This function is used to split the data into groups based on some criteria and apply a function to each group independently.\n",
    "\n",
    "5. **`merge`**: This function is used to merge DataFrame objects by performing a database-style join operation.\n",
    "\n",
    "Let's execute these functions step by step.\n",
    "\n",
    "Let's run this code to see the outputs.\n",
    "\n",
    "It seems like I can’t do more advanced data analysis right now. Please try again later.\n",
    "\n",
    "In the meantime, I can still explain how each of these functions works conceptually. Would you like me to do that?"
   ]
  },
  {
   "cell_type": "code",
   "execution_count": 1,
   "metadata": {},
   "outputs": [
    {
     "name": "stdout",
     "output_type": "stream",
     "text": [
      "DataFrame read from CSV:\n",
      "      Name  Age         City\n",
      "0    Alice   24     New York\n",
      "1      Bob   27  Los Angeles\n",
      "2  Charlie   22      Chicago\n",
      "3    David   32      Houston\n",
      "4      Eve   29      Phoenix\n",
      "\n",
      "First few rows of the DataFrame:\n",
      "      Name  Age         City\n",
      "0    Alice   24     New York\n",
      "1      Bob   27  Los Angeles\n",
      "2  Charlie   22      Chicago\n",
      "3    David   32      Houston\n",
      "4      Eve   29      Phoenix\n",
      "\n",
      "Descriptive statistics of the DataFrame:\n",
      "             Age\n",
      "count   5.000000\n",
      "mean   26.800000\n",
      "std     3.962323\n",
      "min    22.000000\n",
      "25%    24.000000\n",
      "50%    27.000000\n",
      "75%    29.000000\n",
      "max    32.000000\n",
      "\n",
      "Grouped by 'City' and mean of other columns:\n",
      "City\n",
      "Chicago        22.0\n",
      "Houston        32.0\n",
      "Los Angeles    27.0\n",
      "New York       24.0\n",
      "Phoenix        29.0\n",
      "Name: Age, dtype: float64\n",
      "\n",
      "Merged DataFrame:\n",
      "      Name  Age         City  Salary\n",
      "0    Alice   24     New York   70000\n",
      "1      Bob   27  Los Angeles   80000\n",
      "2  Charlie   22      Chicago   75000\n",
      "3    David   32      Houston   90000\n",
      "4      Eve   29      Phoenix   85000\n"
     ]
    }
   ],
   "source": [
    "import pandas as pd\n",
    "\n",
    "# Create sample data and save to a CSV file\n",
    "data = {'Name': ['Alice', 'Bob', 'Charlie', 'David', 'Eve'],\n",
    "        'Age': [24, 27, 22, 32, 29],\n",
    "        'City': ['New York', 'Los Angeles', 'Chicago', 'Houston', 'Phoenix']}\n",
    "df = pd.DataFrame(data)\n",
    "df.to_csv('sample.csv', index=False)\n",
    "\n",
    "# 1. read_csv\n",
    "df_read = pd.read_csv('sample.csv')\n",
    "print(\"DataFrame read from CSV:\")\n",
    "print(df_read)\n",
    "\n",
    "# 2. head\n",
    "df_head = df_read.head()\n",
    "print(\"\\nFirst few rows of the DataFrame:\")\n",
    "print(df_head)\n",
    "\n",
    "# 3. describe\n",
    "df_describe = df_read.describe()\n",
    "print(\"\\nDescriptive statistics of the DataFrame:\")\n",
    "print(df_describe)\n",
    "\n",
    "# 4. groupby\n",
    "grouped = df_read.groupby('City')['Age'].mean()\n",
    "print(\"\\nGrouped by 'City' and mean of other columns:\")\n",
    "print(grouped)\n",
    "\n",
    "# 5. merge\n",
    "data2 = {'Name': ['Alice', 'Bob', 'Charlie', 'David', 'Eve'],\n",
    "         'Salary': [70000, 80000, 75000, 90000, 85000]}\n",
    "df2 = pd.DataFrame(data2)\n",
    "merged_df = pd.merge(df_read, df2, on='Name')\n",
    "print(\"\\nMerged DataFrame:\")\n",
    "print(merged_df)\n"
   ]
  },
  {
   "cell_type": "markdown",
   "metadata": {},
   "source": [
    "### **Q2. Given a Pandas DataFrame df with columns 'A', 'B', and 'C', write a Python function to re-index the DataFrame with a new index that starts from 1 and increments by 2 for each row.**"
   ]
  },
  {
   "cell_type": "code",
   "execution_count": 2,
   "metadata": {},
   "outputs": [
    {
     "name": "stdout",
     "output_type": "stream",
     "text": [
      "Original DataFrame:\n",
      "    A   B   C\n",
      "0  10  40  70\n",
      "1  20  50  80\n",
      "2  30  60  90\n",
      "\n",
      "Re-indexed DataFrame:\n",
      "    A   B   C\n",
      "1  10  40  70\n",
      "3  20  50  80\n",
      "5  30  60  90\n"
     ]
    }
   ],
   "source": [
    "import pandas as pd\n",
    "\n",
    "def reindex_dataframe(df):\n",
    "\n",
    "    new_index = range(1, 2*len(df)+1, 2)\n",
    "    \n",
    "\n",
    "    df.index = new_index\n",
    "    \n",
    "    return df\n",
    "\n",
    "\n",
    "data = {\n",
    "        'A': [10, 20, 30],\n",
    "        'B': [40, 50, 60],\n",
    "        'C': [70, 80, 90]\n",
    "        }\n",
    "df = pd.DataFrame(data)\n",
    "\n",
    "print(\"Original DataFrame:\")\n",
    "print(df)\n",
    "\n",
    "\n",
    "df_reindexed = reindex_dataframe(df)\n",
    "\n",
    "print(\"\\nRe-indexed DataFrame:\")\n",
    "print(df_reindexed)\n"
   ]
  },
  {
   "cell_type": "markdown",
   "metadata": {},
   "source": [
    "### **Q3 You have a Pandas DataFrame df with a column named 'Values'. Write a Python function that iterates over the DataFrame and calculates the sum of the first three values in the 'Values' column. The function should print the sum to the console.**"
   ]
  },
  {
   "cell_type": "code",
   "execution_count": 3,
   "metadata": {},
   "outputs": [
    {
     "name": "stdout",
     "output_type": "stream",
     "text": [
      "51\n",
      "6\n"
     ]
    }
   ],
   "source": [
    "data = {\n",
    "    'Values' : [1,2,3,4,5,6,6,7,8,9]\n",
    "}\n",
    "\n",
    "df = pd.DataFrame(data)\n",
    "# print(df['Values'].sum())\n",
    "sum = 0\n",
    "for i in df['Values']:\n",
    "    sum += i\n",
    "print(sum)\n",
    "\n",
    "sum_of_first_three = 0\n",
    "j=3\n",
    "while j!=0:\n",
    "    sum_of_first_three += df['Values'][j-1]\n",
    "    j -= 1\n",
    "\n",
    "print(sum_of_first_three)"
   ]
  },
  {
   "cell_type": "markdown",
   "metadata": {},
   "source": [
    "### **Q4. Given a Pandas DataFrame df with a column 'Text', write a Python function to create a new column 'Word_Count' that contains the number of words in each row of the 'Text' column.**"
   ]
  },
  {
   "cell_type": "code",
   "execution_count": 4,
   "metadata": {},
   "outputs": [
    {
     "data": {
      "text/html": [
       "<div>\n",
       "<style scoped>\n",
       "    .dataframe tbody tr th:only-of-type {\n",
       "        vertical-align: middle;\n",
       "    }\n",
       "\n",
       "    .dataframe tbody tr th {\n",
       "        vertical-align: top;\n",
       "    }\n",
       "\n",
       "    .dataframe thead th {\n",
       "        text-align: right;\n",
       "    }\n",
       "</style>\n",
       "<table border=\"1\" class=\"dataframe\">\n",
       "  <thead>\n",
       "    <tr style=\"text-align: right;\">\n",
       "      <th></th>\n",
       "      <th>Text</th>\n",
       "      <th>Word_Count</th>\n",
       "    </tr>\n",
       "  </thead>\n",
       "  <tbody>\n",
       "    <tr>\n",
       "      <th>0</th>\n",
       "      <td>This is Pandas Assignment 1.</td>\n",
       "      <td>5</td>\n",
       "    </tr>\n",
       "    <tr>\n",
       "      <th>1</th>\n",
       "      <td>There are more</td>\n",
       "      <td>3</td>\n",
       "    </tr>\n",
       "    <tr>\n",
       "      <th>2</th>\n",
       "      <td>But i am not done yet</td>\n",
       "      <td>6</td>\n",
       "    </tr>\n",
       "    <tr>\n",
       "      <th>3</th>\n",
       "      <td>mura mura mura mura mura</td>\n",
       "      <td>5</td>\n",
       "    </tr>\n",
       "  </tbody>\n",
       "</table>\n",
       "</div>"
      ],
      "text/plain": [
       "                           Text  Word_Count\n",
       "0  This is Pandas Assignment 1.           5\n",
       "1                There are more           3\n",
       "2        But i am not done yet            6\n",
       "3     mura mura mura mura mura            5"
      ]
     },
     "execution_count": 4,
     "metadata": {},
     "output_type": "execute_result"
    }
   ],
   "source": [
    "data = {\n",
    "    'Text' : ['This is Pandas Assignment 1.', 'There are more', 'But i am not done yet ', 'mura mura mura mura mura ']\n",
    "}\n",
    "\n",
    "df = pd.DataFrame(data)\n",
    "\n",
    "df['Word_Count'] = df['Text'].str.split().str.len()\n",
    "\n",
    "df"
   ]
  },
  {
   "cell_type": "markdown",
   "metadata": {},
   "source": [
    "### **Q5. How are DataFrame.size() and DataFrame.shape() different?**"
   ]
  },
  {
   "cell_type": "markdown",
   "metadata": {},
   "source": [
    "The `DataFrame.size` and `DataFrame.shape` attributes in pandas provide different pieces of information about the DataFrame:\n",
    "\n",
    "1. **`DataFrame.size`**:\n",
    "   - **Description**: This attribute returns the number of elements in the DataFrame.\n",
    "   - **Calculation**: It is calculated as the product of the number of rows and the number of columns.\n",
    "   - **Example**: For a DataFrame with 10 rows and 5 columns, `DataFrame.size` would be \\(10 \\times 5 = 50\\).\n",
    "\n",
    "2. **`DataFrame.shape`**:\n",
    "   - **Description**: This attribute returns a tuple representing the dimensionality of the DataFrame.\n",
    "   - **Content**: The tuple contains two values: the number of rows and the number of columns.\n",
    "   - **Example**: For a DataFrame with 10 rows and 5 columns, `DataFrame.shape` would be `(10, 5)`.\n",
    "\n",
    "Here's an example to illustrate the difference:\n",
    "\n",
    "```python\n",
    "import pandas as pd\n",
    "\n",
    "# Create a sample DataFrame\n",
    "data = {'A': [1, 2, 3], 'B': [4, 5, 6], 'C': [7, 8, 9]}\n",
    "df = pd.DataFrame(data)\n",
    "\n",
    "# Using DataFrame.size\n",
    "print(\"DataFrame size:\", df.size)  # Output: 9 (3 rows * 3 columns)\n",
    "\n",
    "# Using DataFrame.shape\n",
    "print(\"DataFrame shape:\", df.shape)  # Output: (3, 3) (3 rows, 3 columns)\n",
    "```\n",
    "\n",
    "Explanation:\n",
    "- **`df.size`**: Returns 9 because there are 3 rows and 3 columns, resulting in 9 elements in total.\n",
    "- **`df.shape`**: Returns (3, 3) indicating that the DataFrame has 3 rows and 3 columns.\n",
    "\n",
    "In summary:\n",
    "- `DataFrame.size` gives the total number of elements (rows × columns).\n",
    "- `DataFrame.shape` provides the dimensions of the DataFrame (number of rows, number of columns)."
   ]
  },
  {
   "cell_type": "markdown",
   "metadata": {},
   "source": [
    "### **Q6. Which function of pandas do we use to read an excel file?**"
   ]
  },
  {
   "cell_type": "markdown",
   "metadata": {},
   "source": [
    "### **We Use \"pandas.read_excel()\"**\n",
    "```python\n",
    "\n",
    "import pandas as pd\n",
    "\n",
    "# Read the second sheet of the Excel file, skip the first row, and use custom column names\n",
    "df = pd.read_excel('path_to_your_file.xlsx', sheet_name='Sheet2', header=1, names=['A', 'B', 'C'], usecols=\"A:C\")\n",
    "\n",
    "# Display the DataFrame\n",
    "print(df)\n",
    "```"
   ]
  },
  {
   "cell_type": "markdown",
   "metadata": {},
   "source": [
    "### **Q7. You have a Pandas DataFrame df that contains a column named 'Email' that contains email addresses in the format 'username@domain.com'. Write a Python function that creates a new column 'Username' in df that contains only the username part of each email address.**"
   ]
  },
  {
   "cell_type": "code",
   "execution_count": 11,
   "metadata": {},
   "outputs": [
    {
     "name": "stdout",
     "output_type": "stream",
     "text": [
      "Original DataFrame:\n",
      "                         email\n",
      "0   karanparmar00014@gmail.com\n",
      "1   karanparmar00015@gmail.com\n",
      "2   karanparmar00016@gmail.com\n",
      "3   karanparmar00017@gmail.com\n",
      "4   karanparmar00018@gmail.com\n",
      "5            karanparmar00019@\n",
      "6  karanparmar000110@gmail.com\n"
     ]
    },
    {
     "data": {
      "text/html": [
       "<div>\n",
       "<style scoped>\n",
       "    .dataframe tbody tr th:only-of-type {\n",
       "        vertical-align: middle;\n",
       "    }\n",
       "\n",
       "    .dataframe tbody tr th {\n",
       "        vertical-align: top;\n",
       "    }\n",
       "\n",
       "    .dataframe thead th {\n",
       "        text-align: right;\n",
       "    }\n",
       "</style>\n",
       "<table border=\"1\" class=\"dataframe\">\n",
       "  <thead>\n",
       "    <tr style=\"text-align: right;\">\n",
       "      <th></th>\n",
       "      <th>email</th>\n",
       "      <th>Username</th>\n",
       "    </tr>\n",
       "  </thead>\n",
       "  <tbody>\n",
       "    <tr>\n",
       "      <th>0</th>\n",
       "      <td>karanparmar00014@gmail.com</td>\n",
       "      <td>karanparmar00014</td>\n",
       "    </tr>\n",
       "    <tr>\n",
       "      <th>1</th>\n",
       "      <td>karanparmar00015@gmail.com</td>\n",
       "      <td>karanparmar00015</td>\n",
       "    </tr>\n",
       "    <tr>\n",
       "      <th>2</th>\n",
       "      <td>karanparmar00016@gmail.com</td>\n",
       "      <td>karanparmar00016</td>\n",
       "    </tr>\n",
       "    <tr>\n",
       "      <th>3</th>\n",
       "      <td>karanparmar00017@gmail.com</td>\n",
       "      <td>karanparmar00017</td>\n",
       "    </tr>\n",
       "    <tr>\n",
       "      <th>4</th>\n",
       "      <td>karanparmar00018@gmail.com</td>\n",
       "      <td>karanparmar00018</td>\n",
       "    </tr>\n",
       "    <tr>\n",
       "      <th>5</th>\n",
       "      <td>karanparmar00019@</td>\n",
       "      <td>karanparmar00019</td>\n",
       "    </tr>\n",
       "    <tr>\n",
       "      <th>6</th>\n",
       "      <td>karanparmar000110@gmail.com</td>\n",
       "      <td>karanparmar000110</td>\n",
       "    </tr>\n",
       "  </tbody>\n",
       "</table>\n",
       "</div>"
      ],
      "text/plain": [
       "                         email           Username\n",
       "0   karanparmar00014@gmail.com   karanparmar00014\n",
       "1   karanparmar00015@gmail.com   karanparmar00015\n",
       "2   karanparmar00016@gmail.com   karanparmar00016\n",
       "3   karanparmar00017@gmail.com   karanparmar00017\n",
       "4   karanparmar00018@gmail.com   karanparmar00018\n",
       "5            karanparmar00019@   karanparmar00019\n",
       "6  karanparmar000110@gmail.com  karanparmar000110"
      ]
     },
     "execution_count": 11,
     "metadata": {},
     "output_type": "execute_result"
    }
   ],
   "source": [
    "data = {\n",
    "    'email': [\"karanparmar00014@gmail.com\", \"karanparmar00015@gmail.com\", \"karanparmar00016@gmail.com\", \"karanparmar00017@gmail.com\", \"karanparmar00018@gmail.com\", \"karanparmar00019@\", \"karanparmar000110@gmail.com\"]\n",
    "}\n",
    "\n",
    "df = pd.DataFrame(data)\n",
    "\n",
    "print(\"Original DataFrame:\")\n",
    "\n",
    "print(df)\n",
    "\n",
    "df['Username'] = df['email'].apply(lambda x: x.split('@')[0])\n",
    "\n",
    "df"
   ]
  },
  {
   "cell_type": "markdown",
   "metadata": {},
   "source": [
    "### **Q8. You have a Pandas DataFrame df with columns 'A', 'B', and 'C'. Write a Python function that selects all rows where the value in column 'A' is greater than 5 and the value in column 'B' is less than 10. The function should return a new DataFrame that contains only the selected rows. For example, if df contains the following values:**\n",
    "A B C\n",
    "0 3 5 1\n",
    "1 8 2 7\n",
    "2 6 9 4\n",
    "3 2 3 5\n",
    "4 9 1 2"
   ]
  },
  {
   "cell_type": "code",
   "execution_count": 22,
   "metadata": {},
   "outputs": [
    {
     "name": "stdout",
     "output_type": "stream",
     "text": [
      "   A  B  C\n",
      "0  3  5  1\n",
      "1  8  2  7\n",
      "2  6  9  4\n",
      "3  2  3  5\n",
      "4  9  1  2\n",
      "\n",
      " \n",
      "\n",
      "   A  B  C\n",
      "1  8  2  7\n",
      "2  6  9  4\n",
      "4  9  1  2\n"
     ]
    }
   ],
   "source": [
    "data = {\n",
    "    'A': [3, 8, 6, 2, 9],\n",
    "    'B': [5, 2, 9, 3, 1],\n",
    "    'C': [1, 7, 4, 5, 2]\n",
    "}\n",
    "\n",
    "df = pd.DataFrame(data)\n",
    "\n",
    "print(df)\n",
    "print(\"\\n \\n\")\n",
    "\n",
    "def new(df):\n",
    "    new_df = df[(df['A']>5) & (df['B']<10)]\n",
    "    print(new_df)\n",
    "new(df)\n",
    "\n"
   ]
  },
  {
   "cell_type": "markdown",
   "metadata": {},
   "source": [
    "### **Q9 Given a Pandas DataFrame df with a column 'Values', write a Python function to calculate the mean, median, and standard deviation of the values in the 'Values' column.**"
   ]
  },
  {
   "cell_type": "code",
   "execution_count": 23,
   "metadata": {},
   "outputs": [
    {
     "name": "stdout",
     "output_type": "stream",
     "text": [
      "Mean: 30.0\n",
      "Median: 30.0\n",
      "Standard Deviation: 15.811388300841896\n"
     ]
    }
   ],
   "source": [
    "import pandas as pd\n",
    "\n",
    "def calculate_statistics(df):\n",
    "    mean_value = df['Values'].mean()\n",
    "    median_value = df['Values'].median()\n",
    "    std_deviation = df['Values'].std()\n",
    "\n",
    "    return mean_value, median_value, std_deviation\n",
    "\n",
    "\n",
    "data = {\n",
    "    'Values': [10, 20, 30, 40, 50]\n",
    "}\n",
    "\n",
    "df = pd.DataFrame(data)\n",
    "mean, median, std_dev = calculate_statistics(df)\n",
    "print(f\"Mean: {mean}\")\n",
    "print(f\"Median: {median}\")\n",
    "print(f\"Standard Deviation: {std_dev}\")\n"
   ]
  },
  {
   "cell_type": "markdown",
   "metadata": {},
   "source": [
    "### **Q10. Given a Pandas DataFrame df with a column 'Sales' and a column 'Date', write a Python function to create a new column 'MovingAverage' that contains the moving average of the sales for the past 7 days for each row in the DataFrame. The moving average should be calculated using a window of size 7 and should include the current day.**"
   ]
  },
  {
   "cell_type": "code",
   "execution_count": 24,
   "metadata": {},
   "outputs": [
    {
     "name": "stdout",
     "output_type": "stream",
     "text": [
      "        Date  Sales  MovingAverage\n",
      "0 2024-05-01    100          100.0\n",
      "1 2024-05-02    150          125.0\n",
      "2 2024-05-03    200          150.0\n",
      "3 2024-05-04    250          175.0\n",
      "4 2024-06-05    300          200.0\n",
      "5 2024-06-06    350          225.0\n",
      "6 2024-06-07    400          250.0\n",
      "7 2024-06-08    450          300.0\n"
     ]
    }
   ],
   "source": [
    "import pandas as pd\n",
    "\n",
    "def calculate_moving_average(df):\n",
    "    \n",
    "    df['Date'] = pd.to_datetime(df['Date'])\n",
    "    \n",
    "    df = df.sort_values(by='Date')\n",
    "    \n",
    "    df['MovingAverage'] = df['Sales'].rolling(window=7, min_periods=1).mean()\n",
    "    \n",
    "    return df\n",
    "\n",
    "data = {\n",
    "    'Date': ['2024-05-01', '2024-05-02', '2024-05-03', '2024-05-04', '2024-06-05', '2024-06-06', '2024-06-07', '2024-06-08'],\n",
    "    'Sales': [100, 150, 200, 250, 300, 350, 400, 450]\n",
    "}\n",
    "\n",
    "df = pd.DataFrame(data)\n",
    "df = calculate_moving_average(df)\n",
    "print(df)\n"
   ]
  },
  {
   "cell_type": "markdown",
   "metadata": {},
   "source": [
    "Q11. You have a Pandas DataFrame df with a column 'Date'. Write a Python function that creates a new\n",
    "column 'Weekday' in the DataFrame. The 'Weekday' column should contain the weekday name (e.g.\n",
    "Monday, Tuesday) corresponding to each date in the 'Date' column.\n",
    "For example, if df contains the following values:\n",
    "Date\n",
    "0 2023-01-01\n",
    "1 2023-01-02\n",
    "2 2023-01-03\n",
    "3 2023-01-04\n",
    "4 2023-01-05\n",
    "Your function should create the following DataFrame:\n",
    "\n",
    "Date Weekday\n",
    "0 2023-01-01 Sunday\n",
    "1 2023-01-02 Monday\n",
    "2 2023-01-03 Tuesday\n",
    "3 2023-01-04 Wednesday\n",
    "4 2023-01-05 Thursday\n",
    "The function should return the modified DataFrame."
   ]
  },
  {
   "cell_type": "code",
   "execution_count": 28,
   "metadata": {},
   "outputs": [
    {
     "name": "stdout",
     "output_type": "stream",
     "text": [
      "        Date    Weekday\n",
      "0 2023-01-01     Sunday\n",
      "1 2023-01-02     Monday\n",
      "2 2023-01-03    Tuesday\n",
      "3 2023-01-04  Wednesday\n",
      "4 2023-01-05   Thursday\n"
     ]
    },
    {
     "data": {
      "text/html": [
       "<div>\n",
       "<style scoped>\n",
       "    .dataframe tbody tr th:only-of-type {\n",
       "        vertical-align: middle;\n",
       "    }\n",
       "\n",
       "    .dataframe tbody tr th {\n",
       "        vertical-align: top;\n",
       "    }\n",
       "\n",
       "    .dataframe thead th {\n",
       "        text-align: right;\n",
       "    }\n",
       "</style>\n",
       "<table border=\"1\" class=\"dataframe\">\n",
       "  <thead>\n",
       "    <tr style=\"text-align: right;\">\n",
       "      <th></th>\n",
       "      <th>Weekday</th>\n",
       "    </tr>\n",
       "    <tr>\n",
       "      <th>Date</th>\n",
       "      <th></th>\n",
       "    </tr>\n",
       "  </thead>\n",
       "  <tbody>\n",
       "    <tr>\n",
       "      <th>2023-01-01</th>\n",
       "      <td>Sunday</td>\n",
       "    </tr>\n",
       "    <tr>\n",
       "      <th>2023-01-02</th>\n",
       "      <td>Monday</td>\n",
       "    </tr>\n",
       "    <tr>\n",
       "      <th>2023-01-03</th>\n",
       "      <td>Tuesday</td>\n",
       "    </tr>\n",
       "    <tr>\n",
       "      <th>2023-01-04</th>\n",
       "      <td>Wednesday</td>\n",
       "    </tr>\n",
       "    <tr>\n",
       "      <th>2023-01-05</th>\n",
       "      <td>Thursday</td>\n",
       "    </tr>\n",
       "  </tbody>\n",
       "</table>\n",
       "</div>"
      ],
      "text/plain": [
       "              Weekday\n",
       "Date                 \n",
       "2023-01-01     Sunday\n",
       "2023-01-02     Monday\n",
       "2023-01-03    Tuesday\n",
       "2023-01-04  Wednesday\n",
       "2023-01-05   Thursday"
      ]
     },
     "execution_count": 28,
     "metadata": {},
     "output_type": "execute_result"
    }
   ],
   "source": [
    "import pandas as pd\n",
    "\n",
    "def add_weekday_column(df):\n",
    "    df['Date'] = pd.to_datetime(df['Date'])\n",
    "    \n",
    "    df['Weekday'] = df['Date'].dt.day_name()\n",
    "    \n",
    "    return df\n",
    "\n",
    "data = {\n",
    "    'Date': ['2023-01-01', '2023-01-02', '2023-01-03', '2023-01-04', '2023-01-05']\n",
    "}\n",
    "\n",
    "df = pd.DataFrame(data)\n",
    "df = add_weekday_column(df)\n",
    "print(df)\n",
    "data_index = df.set_index('Date')\n",
    "data_index\n",
    "# df = pd.read_csv(data_index, index_col = \"Date\", parse_dates = True)"
   ]
  },
  {
   "cell_type": "code",
   "execution_count": 29,
   "metadata": {},
   "outputs": [
    {
     "name": "stdout",
     "output_type": "stream",
     "text": [
      "        Date  Value\n",
      "0 2023-01-01     10\n",
      "1 2023-01-15     20\n",
      "4 2023-01-31     50\n"
     ]
    }
   ],
   "source": [
    "import pandas as pd\n",
    "\n",
    "def select_date_range(df):\n",
    "    df['Date'] = pd.to_datetime(df['Date'])\n",
    "    \n",
    "    start_date = '2023-01-01'\n",
    "    end_date = '2023-01-31'\n",
    "    \n",
    "    mask = (df['Date'] >= start_date) & (df['Date'] <= end_date)\n",
    "    filtered_df = df.loc[mask]\n",
    "    \n",
    "    return filtered_df\n",
    "\n",
    "data = {\n",
    "    'Date': ['2023-01-01', '2023-01-15', '2023-02-01', '2022-12-31', '2023-01-31'],\n",
    "    'Value': [10, 20, 30, 40, 50]\n",
    "}\n",
    "\n",
    "df = pd.DataFrame(data)\n",
    "filtered_df = select_date_range(df)\n",
    "print(filtered_df)\n"
   ]
  },
  {
   "cell_type": "markdown",
   "metadata": {},
   "source": [
    "### **Q13. To use the basic functions of pandas, what is the first and foremost necessary library that needs to be imported?**"
   ]
  },
  {
   "cell_type": "markdown",
   "metadata": {},
   "source": [
    "To use the basic functions of pandas, the first and foremost necessary library that needs to be imported is pandas itself."
   ]
  },
  {
   "cell_type": "markdown",
   "metadata": {},
   "source": [
    "# **Complete**"
   ]
  },
  {
   "cell_type": "markdown",
   "metadata": {},
   "source": []
  }
 ],
 "metadata": {
  "kernelspec": {
   "display_name": "Python 3",
   "language": "python",
   "name": "python3"
  },
  "language_info": {
   "codemirror_mode": {
    "name": "ipython",
    "version": 3
   },
   "file_extension": ".py",
   "mimetype": "text/x-python",
   "name": "python",
   "nbconvert_exporter": "python",
   "pygments_lexer": "ipython3",
   "version": "3.12.1"
  }
 },
 "nbformat": 4,
 "nbformat_minor": 2
}
