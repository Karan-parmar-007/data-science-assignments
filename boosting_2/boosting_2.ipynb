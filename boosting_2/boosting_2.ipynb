{
 "cells": [
  {
   "cell_type": "markdown",
   "metadata": {},
   "source": [
    "# **Boostinng 2**"
   ]
  },
  {
   "cell_type": "markdown",
   "metadata": {},
   "source": [
    "### Q1. What is Gradient Boosting Regression?\n",
    "Gradient Boosting Regression is an ensemble learning technique used for regression tasks. It builds a predictive model by sequentially adding predictors, usually decision trees, in such a way that each new predictor corrects the errors made by the previous predictors. The algorithm optimizes a loss function by adding weak learners that minimize the loss using gradient descent techniques."
   ]
  },
  {
   "cell_type": "markdown",
   "metadata": {},
   "source": [
    "### Q2. Implement a simple gradient boosting algorithm from scratch using Python and NumPy. Use a simple regression problem as an example and train the model on a small dataset. Evaluate the model's performance using metrics such as mean squared error and R-squared.\n"
   ]
  },
  {
   "cell_type": "code",
   "execution_count": 3,
   "metadata": {},
   "outputs": [
    {
     "name": "stdout",
     "output_type": "stream",
     "text": [
      "Mean Squared Error: 2.2733847922378922\n",
      "R-squared: 0.7344176644581901\n"
     ]
    },
    {
     "data": {
      "image/png": "[encoded data removed]",
      "text/plain": [
       "<Figure size 640x480 with 1 Axes>"
      ]
     },
     "metadata": {},
     "output_type": "display_data"
    }
   ],
   "source": [
    "import numpy as np\n",
    "from sklearn.metrics import mean_squared_error, r2_score\n",
    "import matplotlib.pyplot as plt\n",
    "from sklearn.tree import DecisionTreeRegressor\n",
    "\n",
    "# Simple dataset\n",
    "X = np.array([1, 2, 3, 4, 5, 6, 7, 8, 9, 10]).reshape(-1, 1)\n",
    "y = np.array([3, 6, 2, 8, 7, 5, 6, 9, 10, 12])\n",
    "\n",
    "class SimpleGBR:\n",
    "    def __init__(self, n_estimators=100, learning_rate=0.1, max_depth=3):\n",
    "        self.n_estimators = n_estimators\n",
    "        self.learning_rate = learning_rate\n",
    "        self.max_depth = max_depth\n",
    "        self.models = []\n",
    "        self.losses = []\n",
    "\n",
    "    def fit(self, X, y):\n",
    "        # Initial prediction\n",
    "        y_pred = np.mean(y)\n",
    "        self.models.append(y_pred)\n",
    "\n",
    "        for i in range(self.n_estimators):\n",
    "            # Compute residuals\n",
    "            residuals = y - y_pred\n",
    "\n",
    "            # Fit a simple model to residuals\n",
    "            model = DecisionTreeRegressor(max_depth=self.max_depth)\n",
    "            model.fit(X, residuals)\n",
    "            self.models.append(model)\n",
    "\n",
    "            # Update prediction\n",
    "            y_pred += self.learning_rate * model.predict(X)\n",
    "            self.losses.append(mean_squared_error(y, y_pred))\n",
    "\n",
    "    def predict(self, X):\n",
    "        y_pred = self.models[0]\n",
    "        for model in self.models[1:]:\n",
    "            y_pred += self.learning_rate * model.predict(X)\n",
    "        return y_pred\n",
    "\n",
    "# Train the model\n",
    "gbr = SimpleGBR(n_estimators=10, learning_rate=0.1, max_depth=2)\n",
    "gbr.fit(X, y)\n",
    "y_pred = gbr.predict(X)\n",
    "\n",
    "# Evaluate the model\n",
    "mse = mean_squared_error(y, y_pred)\n",
    "r2 = r2_score(y, y_pred)\n",
    "\n",
    "print(f\"Mean Squared Error: {mse}\")\n",
    "print(f\"R-squared: {r2}\")\n",
    "\n",
    "# Plot the losses\n",
    "plt.plot(gbr.losses)\n",
    "plt.xlabel('Iteration')\n",
    "plt.ylabel('Mean Squared Error')\n",
    "plt.title('Training Loss')\n",
    "plt.show()"
   ]
  },
  {
   "cell_type": "markdown",
   "metadata": {},
   "source": [
    "### Q3. Experiment with different hyperparameters such as learning rate, number of trees, and tree depth to optimise the performance of the model. Use grid search or random search to find the best hyperparameters.\n"
   ]
  },
  {
   "cell_type": "code",
   "execution_count": 4,
   "metadata": {},
   "outputs": [
    {
     "name": "stdout",
     "output_type": "stream",
     "text": [
      "Best Parameters: {'learning_rate': 0.01, 'max_depth': 4, 'n_estimators': 200}\n",
      "Best Score: 4.594842448588412\n"
     ]
    }
   ],
   "source": [
    "from sklearn.model_selection import GridSearchCV\n",
    "from sklearn.ensemble import GradientBoostingRegressor\n",
    "\n",
    "# Define the parameter grid\n",
    "param_grid = {\n",
    "    'n_estimators': [50, 100, 200],\n",
    "    'learning_rate': [0.01, 0.1, 0.2],\n",
    "    'max_depth': [2, 3, 4]\n",
    "}\n",
    "\n",
    "# Initialize the model\n",
    "model = GradientBoostingRegressor()\n",
    "\n",
    "# Perform grid search\n",
    "grid_search = GridSearchCV(estimator=model, param_grid=param_grid, scoring='neg_mean_squared_error', cv=5)\n",
    "grid_search.fit(X, y)\n",
    "\n",
    "# Print the best parameters and the corresponding score\n",
    "print(f\"Best Parameters: {grid_search.best_params_}\")\n",
    "print(f\"Best Score: {-grid_search.best_score_}\")"
   ]
  },
  {
   "cell_type": "markdown",
   "metadata": {},
   "source": [
    "### Q4. What is a weak learner in Gradient Boosting?\n",
    "A weak learner in Gradient Boosting is a simple model that performs slightly better than random guessing. Typically, decision stumps (shallow decision trees) are used as weak learners. These models are \"weak\" because they generally have low predictive power individually but can be combined to form a strong learner.\n",
    "\n",
    "### Q5. What is the intuition behind the Gradient Boosting algorithm?\n",
    "The intuition behind Gradient Boosting is to improve the predictive performance of the model by focusing on the mistakes of the previous models. Each subsequent model is trained to predict the residuals (errors) of the previous model. By iteratively adding these weak models, the overall model's performance improves.\n",
    "\n",
    "### Q6. How does the Gradient Boosting algorithm build an ensemble of weak learners?\n",
    "Gradient Boosting builds an ensemble of weak learners by:\n",
    "1. Starting with an initial model (e.g., a constant value).\n",
    "2. Iteratively adding new models that predict the residuals of the combined ensemble of previous models.\n",
    "3. Each new model is fit to the negative gradient of the loss function (hence \"gradient\" boosting) to reduce the error.\n",
    "4. The predictions of these models are combined using a weighted sum, with each model's contribution scaled by a learning rate.\n",
    "\n",
    "### Q7. What are the steps involved in constructing the mathematical intuition of the Gradient Boosting algorithm?\n",
    "\n",
    "1. **Initialize the Model**: Start with an initial prediction, usually the mean of the target values for regression.\n",
    "   \\[\n",
    "   \\hat{y}_0 = \\frac{1}{N} \\sum_{i=1}^{N} y_i\n",
    "   \\]\n",
    "\n",
    "2. **Compute Residuals**: For each subsequent iteration, compute the residuals (errors) from the current model.\n",
    "   \\[\n",
    "   r_{i} = y_{i} - \\hat{y}_{i}\n",
    "   \\]\n",
    "\n",
    "3. **Fit a Weak Learner**: Train a weak learner (e.g., a decision tree) on the residuals.\n",
    "   \\[\n",
    "   h_m(x) \\approx r_i\n",
    "   \\]\n",
    "\n",
    "4. **Update the Model**: Update the current model by adding the predictions of the new weak learner, scaled by a learning rate.\n",
    "   \\[\n",
    "   \\hat{y}_{i} = \\hat{y}_{i} + \\alpha h_m(x_i)\n",
    "   \\]\n",
    "   where \\(\\alpha\\) is the learning rate.\n",
    "\n",
    "5. **Repeat**: Iterate steps 2-4 for a specified number of iterations or until convergence.\n",
    "\n",
    "6. **Final Prediction**: The final model is the sum of all the weak learners.\n",
    "   \\[\n",
    "   \\hat{y} = \\sum_{m=1}^{M} \\alpha h_m(x)\n",
    "   \\]\n",
    "\n",
    "Each iteration aims to reduce the residual errors of the previous iterations, gradually improving the overall model."
   ]
  },
  {
   "cell_type": "markdown",
   "metadata": {},
   "source": [
    "# **COMPLETE**"
   ]
  }
 ],
 "metadata": {
  "kernelspec": {
   "display_name": "Python 3",
   "language": "python",
   "name": "python3"
  },
  "language_info": {
   "codemirror_mode": {
    "name": "ipython",
    "version": 3
   },
   "file_extension": ".py",
   "mimetype": "text/x-python",
   "name": "python",
   "nbconvert_exporter": "python",
   "pygments_lexer": "ipython3",
   "version": "3.12.1"
  }
 },
 "nbformat": 4,
 "nbformat_minor": 2
}
