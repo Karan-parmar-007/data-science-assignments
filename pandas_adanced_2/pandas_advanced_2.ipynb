{
 "cells": [
  {
   "cell_type": "markdown",
   "metadata": {},
   "source": [
    "# **Python Advanced Assignment 2**"
   ]
  },
  {
   "cell_type": "markdown",
   "metadata": {},
   "source": [
    "Consider following code to answer further questions:\n",
    "\n",
    "import pandas as pd \n",
    "\n",
    "course_name = [‘Data Science’, ‘Machine Learning’, ‘Big Data’, ‘Data Engineer’]\n",
    "\n",
    "duration = [2,3,6,4]\n",
    "\n",
    "df = pd.DataFrame(data = {‘course_name’ : course_name, ‘duration’ : duration})"
   ]
  },
  {
   "cell_type": "code",
   "execution_count": 2,
   "metadata": {},
   "outputs": [],
   "source": [
    "import pandas as pd"
   ]
  },
  {
   "cell_type": "markdown",
   "metadata": {},
   "source": [
    "### **Q1 Write a code to print the data present in the second row of the dataframe, df.**"
   ]
  },
  {
   "cell_type": "code",
   "execution_count": 8,
   "metadata": {},
   "outputs": [
    {
     "name": "stdout",
     "output_type": "stream",
     "text": [
      "course_name    Machine Learning\n",
      "duration                      3\n",
      "Name: 1, dtype: object\n"
     ]
    }
   ],
   "source": [
    "data = {\n",
    "    'course_name': ['Data Science', 'Machine Learning', 'Big Data', 'Data Engineer'],\n",
    "    'duration': [2, 3, 6, 4]\n",
    "}\n",
    "\n",
    "df = pd.DataFrame(data)\n",
    "\n",
    "print(df.iloc[1])"
   ]
  },
  {
   "cell_type": "markdown",
   "metadata": {},
   "source": [
    "### **Q2 What is the difference between the functions loc and iloc in pandas.DataFrame?**"
   ]
  },
  {
   "cell_type": "markdown",
   "metadata": {},
   "source": [
    "In pandas, `.loc` and `.iloc` are two different methods used for accessing and manipulating data in a DataFrame, but they have different functionalities and use different indexing schemes.\n",
    "\n",
    "### `.loc`\n",
    "\n",
    "- **Label-based indexing**: `.loc` is used for label-based indexing. It allows you to access rows and columns by their labels or a boolean array.\n",
    "- **Inclusive of both endpoints**: When specifying a range, `.loc` includes both the start and the end labels.\n",
    "- **Usage**: Can be used to access a group of rows and columns by labels or a boolean array.\n",
    "\n",
    "Example:\n",
    "```python\n",
    "import pandas as pd\n",
    "\n",
    "data = {'A': [10, 20, 30], 'B': [40, 50, 60], 'C': [70, 80, 90]}\n",
    "df = pd.DataFrame(data, index=['a', 'b', 'c'])\n",
    "\n",
    "# Accessing by label\n",
    "row_b = df.loc['b']\n",
    "print(row_b)\n",
    "\n",
    "# Accessing by label and column\n",
    "cell_b_B = df.loc['b', 'B']\n",
    "print(cell_b_B)\n",
    "```\n",
    "\n",
    "### `.iloc`\n",
    "\n",
    "- **Integer-based indexing**: `.iloc` is used for integer-based (position-based) indexing. It allows you to access rows and columns by their integer positions.\n",
    "- **Exclusive of the end point**: When specifying a range, `.iloc` does not include the end point.\n",
    "- **Usage**: Can be used to access a group of rows and columns by their integer positions.\n",
    "\n",
    "Example:\n",
    "```python\n",
    "import pandas as pd\n",
    "\n",
    "data = {'A': [10, 20, 30], 'B': [40, 50, 60], 'C': [70, 80, 90]}\n",
    "df = pd.DataFrame(data, index=['a', 'b', 'c'])\n",
    "\n",
    "# Accessing by integer position\n",
    "row_1 = df.iloc[1]\n",
    "print(row_1)\n",
    "\n",
    "# Accessing by integer position and column position\n",
    "cell_1_1 = df.iloc[1, 1]\n",
    "print(cell_1_1)\n",
    "```\n",
    "\n",
    "### Key Differences\n",
    "\n",
    "1. **Indexing Type**:\n",
    "   - `.loc` uses labels for indexing.\n",
    "   - `.iloc` uses integer positions for indexing.\n",
    "\n",
    "2. **Range Inclusion**:\n",
    "   - `.loc` includes the endpoint when slicing.\n",
    "   - `.iloc` excludes the endpoint when slicing.\n",
    "\n",
    "3. **Flexibility**:\n",
    "   - `.loc` can be used with labels, lists of labels, and boolean arrays.\n",
    "   - `.iloc` can only be used with integer positions.\n",
    "\n",
    "Understanding these differences allows for more precise and appropriate data manipulation when working with pandas DataFrames."
   ]
  },
  {
   "cell_type": "markdown",
   "metadata": {},
   "source": [
    "### **Q3 Reindex the given dataframe using a variable, reindex = [3,0,1,2] and store it in the variable, new_df then find the output for both new_df.loc[2] and new_df.iloc[2].**"
   ]
  },
  {
   "cell_type": "code",
   "execution_count": 12,
   "metadata": {},
   "outputs": [
    {
     "name": "stdout",
     "output_type": "stream",
     "text": [
      "    A   B    C\n",
      "3  40  80  120\n",
      "0  10  50   90\n",
      "1  20  60  100\n",
      "2  30  70  110\n",
      "new_df.loc[2]:\n",
      "A     30\n",
      "B     70\n",
      "C    110\n",
      "Name: 2, dtype: int64\n",
      "\n",
      "new_df.iloc[2]:\n",
      "A     20\n",
      "B     60\n",
      "C    100\n",
      "Name: 1, dtype: int64\n"
     ]
    }
   ],
   "source": [
    "import pandas as pd\n",
    "\n",
    "data = {'A': [10, 20, 30, 40], 'B': [50, 60, 70, 80], 'C': [90, 100, 110, 120]}\n",
    "df = pd.DataFrame(data)\n",
    "\n",
    "reindex = [3, 0, 1, 2]\n",
    "\n",
    "new_df = df.reindex(reindex)\n",
    "print (new_df)\n",
    "loc_output = new_df.loc[2]\n",
    "\n",
    "iloc_output = new_df.iloc[2]\n",
    "\n",
    "print(\"new_df.loc[2]:\")\n",
    "print(loc_output)\n",
    "print(\"\\nnew_df.iloc[2]:\")\n",
    "print(iloc_output)\n"
   ]
  },
  {
   "cell_type": "markdown",
   "metadata": {},
   "source": [
    "new_df.loc[2]:\n",
    "\n",
    "This uses label-based indexing.\n",
    "It retrieves the row that has the index label 2 in the DataFrame.\n",
    "In the reindexed DataFrame new_df, the row with the original index 2 is now the fourth row.\n",
    "new_df.iloc[2]:\n",
    "\n",
    "This uses integer position-based indexing.\n",
    "It retrieves the third row (index position 2 in zero-based indexing) from the reindexed DataFrame new_df.\n",
    "In the reindexed DataFrame new_df, the third row corresponds to the original index 1."
   ]
  },
  {
   "cell_type": "markdown",
   "metadata": {},
   "source": [
    "Consider the below code to answer further questions:\n",
    "```python\n",
    "import pandas as pd\n",
    "import numpy as np\n",
    "columns = ['column_1', 'column_2', 'column_3', 'column_4', 'column_5', 'column_6']\n",
    "indices = [1,2,3,4,5,6]\n",
    "#Creating a dataframe:\n",
    "df1 = pd.DataFrame(np.random.rand(6,6), columns = columns, index = indices)\n",
    "```"
   ]
  },
  {
   "cell_type": "markdown",
   "metadata": {},
   "source": [
    "### **Q4. Write a code to find the following statistical measurements for the above dataframe df1:**\n",
    "(i) mean of each and every column present in the dataframe.\n",
    "(ii) standard deviation of column, ‘column_2’"
   ]
  },
  {
   "cell_type": "code",
   "execution_count": 24,
   "metadata": {},
   "outputs": [
    {
     "name": "stdout",
     "output_type": "stream",
     "text": [
      "   column_1  column_2  column_3  column_4  column_5  column_6\n",
      "1        32        21        36         6        49        32\n",
      "2        21        48        43        42        48         3\n",
      "3         6        34         1        46         9        44\n",
      "4         4         4        48        13        14        32\n",
      "5        47         8         1        27        34        46\n",
      "6         4        19        33        19         9        22\n"
     ]
    }
   ],
   "source": [
    "import pandas as pd\n",
    "import numpy as np\n",
    "import random\n",
    "\n",
    "\n"
   ]
  },
  {
   "cell_type": "code",
   "execution_count": 25,
   "metadata": {},
   "outputs": [
    {
     "name": "stdout",
     "output_type": "stream",
     "text": [
      "   column_1  column_2  column_3  column_4  column_5  column_6\n",
      "1        32        11        17        14        38         9\n",
      "2        50        28        16         6         3        31\n",
      "3        42         3        31        23         4        48\n",
      "4        22        36        26        15         1         1\n",
      "5        25        48        31         9         4        20\n",
      "6        33        29        41        16        28        38\n",
      "Mean of each column:\n",
      "column_1    34.000000\n",
      "column_2    25.833333\n",
      "column_3    27.000000\n",
      "column_4    13.833333\n",
      "column_5    13.000000\n",
      "column_6    24.500000\n",
      "dtype: float64\n",
      "\n",
      "Standard deviation of column_2:\n",
      "16.436747447918844\n"
     ]
    }
   ],
   "source": [
    "import pandas as pd\n",
    "import random\n",
    "\n",
    "columns = ['column_1', 'column_2', 'column_3', 'column_4', 'column_5', 'column_6']\n",
    "indices = [1, 2, 3, 4, 5, 6]\n",
    "\n",
    "columns = ['column_1', 'column_2', 'column_3', 'column_4', 'column_5', 'column_6']\n",
    "indices = [1, 2, 3, 4, 5, 6]\n",
    "\n",
    "data = {}\n",
    "\n",
    "for column in columns:\n",
    "    values = []\n",
    "    for _ in range(6):\n",
    "        values.append(random.randint(1, 50))\n",
    "    data[column] = values\n",
    "\n",
    "df = pd.DataFrame(data, index=indices)\n",
    "\n",
    "print(df)\n",
    "mean_values = df.mean()\n",
    "print(\"Mean of each column:\")\n",
    "print(mean_values)\n",
    "\n",
    "std_column_2 = df['column_2'].std()\n",
    "print(\"\\nStandard deviation of column_2:\")\n",
    "print(std_column_2)\n"
   ]
  },
  {
   "cell_type": "markdown",
   "metadata": {},
   "source": [
    "### **Q5. Replace the data present in the second row of column, ‘column_2’ by a string variable then find themean of column, column_2.**\n",
    "**If you are getting errors in executing it then explain why.**"
   ]
  },
  {
   "cell_type": "code",
   "execution_count": 35,
   "metadata": {},
   "outputs": [
    {
     "data": {
      "text/html": [
       "<div>\n",
       "<style scoped>\n",
       "    .dataframe tbody tr th:only-of-type {\n",
       "        vertical-align: middle;\n",
       "    }\n",
       "\n",
       "    .dataframe tbody tr th {\n",
       "        vertical-align: top;\n",
       "    }\n",
       "\n",
       "    .dataframe thead th {\n",
       "        text-align: right;\n",
       "    }\n",
       "</style>\n",
       "<table border=\"1\" class=\"dataframe\">\n",
       "  <thead>\n",
       "    <tr style=\"text-align: right;\">\n",
       "      <th></th>\n",
       "      <th>column_1</th>\n",
       "      <th>column_2</th>\n",
       "      <th>column_3</th>\n",
       "      <th>column_4</th>\n",
       "      <th>column_5</th>\n",
       "      <th>column_6</th>\n",
       "    </tr>\n",
       "  </thead>\n",
       "  <tbody>\n",
       "    <tr>\n",
       "      <th>1</th>\n",
       "      <td>32</td>\n",
       "      <td>changed</td>\n",
       "      <td>17</td>\n",
       "      <td>14</td>\n",
       "      <td>38</td>\n",
       "      <td>9</td>\n",
       "    </tr>\n",
       "    <tr>\n",
       "      <th>2</th>\n",
       "      <td>50</td>\n",
       "      <td>changed</td>\n",
       "      <td>16</td>\n",
       "      <td>6</td>\n",
       "      <td>3</td>\n",
       "      <td>31</td>\n",
       "    </tr>\n",
       "    <tr>\n",
       "      <th>3</th>\n",
       "      <td>42</td>\n",
       "      <td>changed</td>\n",
       "      <td>31</td>\n",
       "      <td>23</td>\n",
       "      <td>4</td>\n",
       "      <td>48</td>\n",
       "    </tr>\n",
       "    <tr>\n",
       "      <th>4</th>\n",
       "      <td>22</td>\n",
       "      <td>36</td>\n",
       "      <td>26</td>\n",
       "      <td>15</td>\n",
       "      <td>1</td>\n",
       "      <td>1</td>\n",
       "    </tr>\n",
       "    <tr>\n",
       "      <th>5</th>\n",
       "      <td>25</td>\n",
       "      <td>48</td>\n",
       "      <td>31</td>\n",
       "      <td>9</td>\n",
       "      <td>4</td>\n",
       "      <td>20</td>\n",
       "    </tr>\n",
       "    <tr>\n",
       "      <th>6</th>\n",
       "      <td>33</td>\n",
       "      <td>29</td>\n",
       "      <td>41</td>\n",
       "      <td>16</td>\n",
       "      <td>28</td>\n",
       "      <td>38</td>\n",
       "    </tr>\n",
       "  </tbody>\n",
       "</table>\n",
       "</div>"
      ],
      "text/plain": [
       "   column_1 column_2  column_3  column_4  column_5  column_6\n",
       "1        32  changed        17        14        38         9\n",
       "2        50  changed        16         6         3        31\n",
       "3        42  changed        31        23         4        48\n",
       "4        22       36        26        15         1         1\n",
       "5        25       48        31         9         4        20\n",
       "6        33       29        41        16        28        38"
      ]
     },
     "execution_count": 35,
     "metadata": {},
     "output_type": "execute_result"
    }
   ],
   "source": [
    "df"
   ]
  },
  {
   "cell_type": "code",
   "execution_count": 34,
   "metadata": {},
   "outputs": [
    {
     "name": "stderr",
     "output_type": "stream",
     "text": [
      "C:\\Users\\ASUS\\AppData\\Local\\Temp\\ipykernel_34448\\764976807.py:1: FutureWarning: ChainedAssignmentError: behaviour will change in pandas 3.0!\n",
      "You are setting values through chained assignment. Currently this works in certain cases, but when using Copy-on-Write (which will become the default behaviour in pandas 3.0) this will never work to update the original DataFrame or Series, because the intermediate object on which we are setting values will behave as a copy.\n",
      "A typical example is when you are setting values in a column of a DataFrame, like:\n",
      "\n",
      "df[\"col\"][row_indexer] = value\n",
      "\n",
      "Use `df.loc[row_indexer, \"col\"] = values` instead, to perform the assignment in a single step and ensure this keeps updating the original `df`.\n",
      "\n",
      "See the caveats in the documentation: https://pandas.pydata.org/pandas-docs/stable/user_guide/indexing.html#returning-a-view-versus-a-copy\n",
      "\n",
      "  df[\"column_2\"].loc[2] = \"changed\"\n"
     ]
    },
    {
     "data": {
      "text/html": [
       "<div>\n",
       "<style scoped>\n",
       "    .dataframe tbody tr th:only-of-type {\n",
       "        vertical-align: middle;\n",
       "    }\n",
       "\n",
       "    .dataframe tbody tr th {\n",
       "        vertical-align: top;\n",
       "    }\n",
       "\n",
       "    .dataframe thead th {\n",
       "        text-align: right;\n",
       "    }\n",
       "</style>\n",
       "<table border=\"1\" class=\"dataframe\">\n",
       "  <thead>\n",
       "    <tr style=\"text-align: right;\">\n",
       "      <th></th>\n",
       "      <th>column_1</th>\n",
       "      <th>column_2</th>\n",
       "      <th>column_3</th>\n",
       "      <th>column_4</th>\n",
       "      <th>column_5</th>\n",
       "      <th>column_6</th>\n",
       "    </tr>\n",
       "  </thead>\n",
       "  <tbody>\n",
       "    <tr>\n",
       "      <th>1</th>\n",
       "      <td>32</td>\n",
       "      <td>changed</td>\n",
       "      <td>17</td>\n",
       "      <td>14</td>\n",
       "      <td>38</td>\n",
       "      <td>9</td>\n",
       "    </tr>\n",
       "    <tr>\n",
       "      <th>2</th>\n",
       "      <td>50</td>\n",
       "      <td>changed</td>\n",
       "      <td>16</td>\n",
       "      <td>6</td>\n",
       "      <td>3</td>\n",
       "      <td>31</td>\n",
       "    </tr>\n",
       "    <tr>\n",
       "      <th>3</th>\n",
       "      <td>42</td>\n",
       "      <td>changed</td>\n",
       "      <td>31</td>\n",
       "      <td>23</td>\n",
       "      <td>4</td>\n",
       "      <td>48</td>\n",
       "    </tr>\n",
       "    <tr>\n",
       "      <th>4</th>\n",
       "      <td>22</td>\n",
       "      <td>36</td>\n",
       "      <td>26</td>\n",
       "      <td>15</td>\n",
       "      <td>1</td>\n",
       "      <td>1</td>\n",
       "    </tr>\n",
       "    <tr>\n",
       "      <th>5</th>\n",
       "      <td>25</td>\n",
       "      <td>48</td>\n",
       "      <td>31</td>\n",
       "      <td>9</td>\n",
       "      <td>4</td>\n",
       "      <td>20</td>\n",
       "    </tr>\n",
       "    <tr>\n",
       "      <th>6</th>\n",
       "      <td>33</td>\n",
       "      <td>29</td>\n",
       "      <td>41</td>\n",
       "      <td>16</td>\n",
       "      <td>28</td>\n",
       "      <td>38</td>\n",
       "    </tr>\n",
       "  </tbody>\n",
       "</table>\n",
       "</div>"
      ],
      "text/plain": [
       "   column_1 column_2  column_3  column_4  column_5  column_6\n",
       "1        32  changed        17        14        38         9\n",
       "2        50  changed        16         6         3        31\n",
       "3        42  changed        31        23         4        48\n",
       "4        22       36        26        15         1         1\n",
       "5        25       48        31         9         4        20\n",
       "6        33       29        41        16        28        38"
      ]
     },
     "execution_count": 34,
     "metadata": {},
     "output_type": "execute_result"
    }
   ],
   "source": [
    "df[\"column_2\"].loc[2] = \"changed\"\n",
    "df"
   ]
  },
  {
   "cell_type": "code",
   "execution_count": 36,
   "metadata": {},
   "outputs": [
    {
     "name": "stdout",
     "output_type": "stream",
     "text": [
      "\n",
      "Error encountered while calculating mean of column_2:\n",
      "can only concatenate str (not \"int\") to str\n"
     ]
    }
   ],
   "source": [
    "try:\n",
    "    mean_column_2 = df['column_2'].mean()\n",
    "    print(\"\\nMean of column_2:\", mean_column_2)\n",
    "except Exception as e:\n",
    "    print(\"\\nError encountered while calculating mean of column_2:\")\n",
    "    print(e)"
   ]
  },
  {
   "cell_type": "markdown",
   "metadata": {},
   "source": [
    "### **Q6 What do you understand about the windows function in pandas and list the types of windows functions?**"
   ]
  },
  {
   "cell_type": "markdown",
   "metadata": {},
   "source": [
    "In pandas, the rolling() function is used to create a rolling window object for calculating statistics over a specified window size. This function is commonly used for time series data analysis and can be applied to Series or DataFrame objects. The rolling window can be used to calculate various statistics such as mean, sum, standard deviation, etc., over a specified window size.\n",
    "\n",
    "There are several types of window functions that can be applied using the rolling() function in pandas. Some common window functions include:\n",
    "\n",
    "\n",
    "mean(): Calculates the mean of values in the window.\n",
    "\n",
    "sum(): Calculates the sum of values in the window.\n",
    "\n",
    "std(): Calculates the standard deviation of values in the window.\n",
    "\n",
    "min(): Calculates the minimum value in the window.\n",
    "\n",
    "max(): Calculates the maximum value in the window.\n",
    "\n",
    "count(): Counts the number of non-null values in the window.\n",
    "\n",
    "apply(): Applies a custom function to the values in the window.\n",
    "\n",
    "These window functions can be used with the rolling() function to perform rolling window calculations on pandas Series or DataFrame objects efficiently."
   ]
  },
  {
   "cell_type": "markdown",
   "metadata": {},
   "source": [
    "### **Q7 Write a code to print only the current month and year at the time of answering this question. [Hint: Use pandas.datetime function]**"
   ]
  },
  {
   "cell_type": "code",
   "execution_count": 37,
   "metadata": {},
   "outputs": [
    {
     "name": "stdout",
     "output_type": "stream",
     "text": [
      "Current month: 6, Current year: 2024\n"
     ]
    }
   ],
   "source": [
    "import pandas as pd\n",
    "\n",
    "\n",
    "current_date = pd.Timestamp.now()\n",
    "\n",
    "\n",
    "current_month = current_date.month\n",
    "current_year = current_date.year\n",
    "\n",
    "\n",
    "print(f\"Current month: {current_month}, Current year: {current_year}\")\n"
   ]
  },
  {
   "cell_type": "markdown",
   "metadata": {},
   "source": [
    "### **Q8. Write a Python program that takes in two dates as input (in the format YYYY-MM-DD) and calculates the difference between them in days, hours, and minutes using Pandas time delta. The program should prompt the user to enter the dates and display the result.**"
   ]
  },
  {
   "cell_type": "code",
   "execution_count": 38,
   "metadata": {},
   "outputs": [
    {
     "name": "stdout",
     "output_type": "stream",
     "text": [
      "The difference between the two dates is: 6969 days, 0 hours, and 0 minutes.\n"
     ]
    }
   ],
   "source": [
    "import pandas as pd\n",
    "\n",
    "date1 = input(\"Enter the first date (YYYY-MM-DD): \")\n",
    "date2 = input(\"Enter the second date (YYYY-MM-DD): \")\n",
    "\n",
    "date1 = pd.to_datetime(date1)\n",
    "date2 = pd.to_datetime(date2)\n",
    "\n",
    "time_diff = date2 - date1\n",
    "\n",
    "days = time_diff.days\n",
    "hours = time_diff.seconds // 3600\n",
    "minutes = (time_diff.seconds % 3600) // 60\n",
    "\n",
    "print(f\"The difference between the two dates is: {days} days, {hours} hours, and {minutes} minutes.\")\n"
   ]
  },
  {
   "cell_type": "markdown",
   "metadata": {},
   "source": [
    "### **Q9. Write a Python program that reads a CSV file containing categorical data and converts a specified column to a categorical data type. The program should prompt the user to enter the file path, column name, and category order, and then display the sorted data.**"
   ]
  },
  {
   "cell_type": "code",
   "execution_count": 43,
   "metadata": {},
   "outputs": [
    {
     "name": "stdout",
     "output_type": "stream",
     "text": [
      "      Name  Age      City    Country\n",
      "0     John   30  New York        USA\n",
      "1     Jane   25    London         UK\n",
      "2    Peter   40    Berlin    Germany\n",
      "3    Maria   35    Madrid      Spain\n",
      "4    David   28     Paris     France\n",
      "5    Alice   45      Rome      Italy\n",
      "6      Bob   32     Tokyo      Japan\n",
      "7  Charlie   22    Sydney  Australia\n",
      "8    Emily   50    Moscow     Russia\n",
      "9     Fred   38     Cairo      Egypt\n"
     ]
    }
   ],
   "source": [
    "import pandas as pd\n",
    "\n",
    "file_path = input(\"Enter the file path: \")\n",
    "\n",
    "df = pd.read_csv(file_path)\n",
    "\n",
    "column_name = input(\"Enter the column name to convert to categorical: \")\n",
    "\n",
    "\n",
    "category_order = input(\"Enter the category order separated by commas: \")\n",
    "category_list = category_order.split(\",\")\n",
    "df[column_name] = df[column_name].astype('category')\n",
    "df[column_name] = df[column_name].cat.set_categories(category_list, ordered=True)\n",
    "\n",
    "sorted_data = df.sort_values(by=column_name)\n",
    "\n",
    "print(sorted_data)"
   ]
  },
  {
   "cell_type": "code",
   "execution_count": 45,
   "metadata": {},
   "outputs": [
    {
     "data": {
      "image/png": "[encoded data removed]",
      "text/plain": [
       "<Figure size 640x480 with 1 Axes>"
      ]
     },
     "metadata": {},
     "output_type": "display_data"
    }
   ],
   "source": [
    "import pandas as pd\n",
    "import matplotlib.pyplot as plt\n",
    "\n",
    "def visualize_sales_data(file_path):\n",
    "\n",
    "\n",
    "\n",
    "    df = pd.read_csv(file_path)\n",
    "\n",
    "\n",
    "    # Convert the \"Date\" column to a datetime type\n",
    "    df[\"Date\"] = pd.to_datetime(df[\"Date\"])\n",
    "\n",
    "\n",
    "    grouped_sales = df.groupby([\"Product Category\", df[\"Date\"].dt.strftime('%Y-%m')])[\"Sales\"].sum()\n",
    "\n",
    "    grouped_sales.unstack().plot(kind=\"bar\", stacked=True)\n",
    "\n",
    "    plt.xlabel(\"Time Period\")\n",
    "    plt.ylabel(\"Sales\")\n",
    "    plt.title(\"Sales by Product Category over Time\")\n",
    "\n",
    "    plt.show()\n",
    "\n",
    "file_path = \"q_10.csv\"\n",
    "visualize_sales_data(file_path)"
   ]
  },
  {
   "cell_type": "markdown",
   "metadata": {},
   "source": [
    "Q11. You are given a CSV file containing student data that includes the student ID and their test score. Writea Python program that reads the CSV file, calculates the mean, median, and mode of the test scores, anddisplays the results in a table.The program should do the followingMI Prompt the user to enter the file path of the CSV file containing the student dataRI Read the CSV file into a Pandas DataFrameRI Calculate the mean, median, and mode of the test scores using Pandas toolsRI Display the mean, median, and mode in a table.Assume the CSV file contains the following columnsMI Student ID: The ID of the studentRI Test Score: The score of the student's test.Assume that the CSV file student_data.csv contains the following data:Student ID,Test Score1,852,903,804,755,856,827,788,859,9010,85"
   ]
  },
  {
   "cell_type": "code",
   "execution_count": 47,
   "metadata": {},
   "outputs": [
    {
     "name": "stdout",
     "output_type": "stream",
     "text": [
      "Statistics of Test Scores\n",
      "------------------------------------------------\n",
      "  Statistic  Value\n",
      "0      Mean   83.5\n",
      "1    Median   85.0\n",
      "2      Mode   85.0\n"
     ]
    }
   ],
   "source": [
    "import pandas as pd\n",
    "\n",
    "# Prompt the user to enter the file path of the CSV file\n",
    "file_path = input(\"Enter the file path of the CSV file: \")\n",
    "\n",
    "# Read the CSV file into a Pandas DataFrame\n",
    "df = pd.read_csv(file_path)\n",
    "\n",
    "# Calculate the mean, median, and mode of the test scores\n",
    "mean_score = df[\"Test Score\"].mean()\n",
    "median_score = df[\"Test Score\"].median()\n",
    "mode_score = df[\"Test Score\"].mode()[0]\n",
    "\n",
    "# Create a new DataFrame for the statistics\n",
    "statistics_df = pd.DataFrame({\n",
    "    \"Statistic\": [\"Mean\", \"Median\", \"Mode\"],\n",
    "    \"Value\": [mean_score, median_score, mode_score]\n",
    "})\n",
    "\n",
    "# Display the results in the new DataFrame\n",
    "\n",
    "print(\"Statistics of Test Scores\")\n",
    "print(\"------------------------------------------------\")\n",
    "print(statistics_df)\n",
    "\n"
   ]
  },
  {
   "cell_type": "markdown",
   "metadata": {},
   "source": [
    "# **Complate**"
   ]
  },
  {
   "cell_type": "code",
   "execution_count": null,
   "metadata": {},
   "outputs": [],
   "source": []
  }
 ],
 "metadata": {
  "kernelspec": {
   "display_name": "Python 3",
   "language": "python",
   "name": "python3"
  },
  "language_info": {
   "codemirror_mode": {
    "name": "ipython",
    "version": 3
   },
   "file_extension": ".py",
   "mimetype": "text/x-python",
   "name": "python",
   "nbconvert_exporter": "python",
   "pygments_lexer": "ipython3",
   "version": "3.12.1"
  }
 },
 "nbformat": 4,
 "nbformat_minor": 2
}
