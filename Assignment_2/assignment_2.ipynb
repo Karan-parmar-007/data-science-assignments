{
 "cells": [
  {
   "cell_type": "markdown",
   "metadata": {},
   "source": [
    "Assignment 2 - Karan Parmar"
   ]
  },
  {
   "cell_type": "markdown",
   "metadata": {},
   "source": [
    "1. How do you comment code in Python? What are the different types of comments?"
   ]
  },
  {
   "cell_type": "markdown",
   "metadata": {},
   "source": [
    "There are in total 2 ways in which we can comment code in python\n",
    "\n",
    "1. Using '#' at the start of the line (it will only comment that particular line)\n",
    "2. Using ' \"\"\" or ''' ' putting at the start and at the end of the sentense (They are also called multiline comments)\n",
    "\n",
    "Example"
   ]
  },
  {
   "cell_type": "code",
   "execution_count": 9,
   "metadata": {},
   "outputs": [
    {
     "name": "stdout",
     "output_type": "stream",
     "text": [
      "Examples on comments in python\n"
     ]
    }
   ],
   "source": [
    "# this is the example for the first type of comment\n",
    "\n",
    "\"\"\"\n",
    "this is the example of the second type of comment.\n",
    "as we can see, this is used when we have to put comment on multiple lines\n",
    "\"\"\"\n",
    "\n",
    "print(\"Examples on comments in python\")"
   ]
  },
  {
   "cell_type": "markdown",
   "metadata": {},
   "source": [
    "2. What are variables in Python? How do you declare and assign values to variables?"
   ]
  },
  {
   "cell_type": "markdown",
   "metadata": {},
   "source": [
    "As we know everything in the code is stored in a memory location and the location is choosen in random, and when we code it is impossible for us to remember the memory location for everything, because they are just numbers\n",
    "\n",
    "So in order to stored data in a way which we can remember it easily, we create a variable, variable is just a name which points to the data i.e. thee location in the memoery where the data is stored. This makes it easy to remember and using data\n",
    "\n",
    "variables are just like human names, we just use names to represent a person\n",
    "\n",
    "Declaring a variable and assigning value to it:\n",
    "\n",
    "declaring a variable is really easy, just write a character (nothing else is allowed)\n",
    "assigining value is just as simple, just use a 'equal to' symbol(=) and write what value which you want to assign\n",
    "\n",
    "Example:"
   ]
  },
  {
   "cell_type": "code",
   "execution_count": 10,
   "metadata": {},
   "outputs": [],
   "source": [
    "a = 'assignment 2'\n",
    "\n",
    "# here a is the variable and 'assignment 2' is the value assigned to the variablle"
   ]
  },
  {
   "cell_type": "markdown",
   "metadata": {},
   "source": [
    "3. How do you convert one data type to another in Python?"
   ]
  },
  {
   "cell_type": "markdown",
   "metadata": {},
   "source": [
    "We can convert one datatype to another in python via type conversion or just by reassigining it\n",
    "for example:"
   ]
  },
  {
   "cell_type": "code",
   "execution_count": 11,
   "metadata": {},
   "outputs": [
    {
     "name": "stdout",
     "output_type": "stream",
     "text": [
      "5\n"
     ]
    }
   ],
   "source": [
    "# float to int conversion\n",
    "float_num = 5.8\n",
    "int_num = int(float_num)\n",
    "print(int_num)"
   ]
  },
  {
   "cell_type": "code",
   "execution_count": 12,
   "metadata": {},
   "outputs": [
    {
     "name": "stdout",
     "output_type": "stream",
     "text": [
      "5\n"
     ]
    }
   ],
   "source": [
    "int_convert = 5.6\n",
    "int_convert = int(int_convert)\n",
    "print(int_convert)"
   ]
  },
  {
   "cell_type": "markdown",
   "metadata": {},
   "source": [
    "Similarly we can do for float and string\n",
    "\n",
    "we can convert it to boolean but that is not donw commmonly because everything turns to 'True' unless it has the value 0\n",
    "for exapmle"
   ]
  },
  {
   "cell_type": "code",
   "execution_count": 14,
   "metadata": {},
   "outputs": [
    {
     "name": "stdout",
     "output_type": "stream",
     "text": [
      "True\n"
     ]
    }
   ],
   "source": [
    "bool_convert = 50\n",
    "bool_convert = bool(bool_convert)\n",
    "print(bool_convert)"
   ]
  },
  {
   "cell_type": "code",
   "execution_count": 15,
   "metadata": {},
   "outputs": [
    {
     "name": "stdout",
     "output_type": "stream",
     "text": [
      "False\n"
     ]
    }
   ],
   "source": [
    "bool_false = 0\n",
    "bool_false = bool(bool_false)\n",
    "print(bool_false)"
   ]
  },
  {
   "cell_type": "code",
   "execution_count": 16,
   "metadata": {},
   "outputs": [
    {
     "name": "stdout",
     "output_type": "stream",
     "text": [
      "[1, 2, 3, (12, 435, 556)]\n"
     ]
    }
   ],
   "source": [
    "#we can convert set to list like this\n",
    "convert_list = {1,2,3,(12,435,556)}\n",
    "my_list = list(convert_list)\n",
    "print(my_list)"
   ]
  },
  {
   "cell_type": "markdown",
   "metadata": {},
   "source": [
    "4. How do you write and execute a Python script from the command line?"
   ]
  },
  {
   "cell_type": "markdown",
   "metadata": {},
   "source": [
    "Steps to write and execute a Python script from the command line\n",
    "\n",
    "step 1: open any text editor\n",
    "step 2: write your code in it\n",
    "step 3: save the file by giving it a name of your choice but at the end the extension should be .py (for example \"hello.py\")\n",
    "step 4: open your command line\n",
    "step 5: go to the location where your file is been saved example \"C:\\coding\\data_science_pw\\assignments\\Assignment_2\\assignment_2.py\"\n",
    "step 6: type \"python\" or \"python3\" and your filename with the extension (for example : assignment_2.py), hit enter and it will run"
   ]
  },
  {
   "cell_type": "markdown",
   "metadata": {},
   "source": [
    "5. Given a list my _ list = [1, 2, 3, 4, 5], write the code to slice the list and obtain the sub-list [2, 3]."
   ]
  },
  {
   "cell_type": "code",
   "execution_count": 19,
   "metadata": {},
   "outputs": [
    {
     "data": {
      "text/plain": [
       "[2, 3]"
      ]
     },
     "execution_count": 19,
     "metadata": {},
     "output_type": "execute_result"
    }
   ],
   "source": [
    "my_list = [1,2,3,4,5]\n",
    "my_list[1:3]"
   ]
  },
  {
   "cell_type": "markdown",
   "metadata": {},
   "source": [
    "6. What is a complex number in mathematics, and how is it represented in Python?"
   ]
  },
  {
   "cell_type": "markdown",
   "metadata": {},
   "source": [
    "In mathematics, a complex number is a number of the form a + bi, where a and b are real numbers, and i is the imaginary. The real part a and the imaginary part bi together form a complex number. Complex numbers are often used in various mathematical and engineering applications.\n",
    "\n",
    "complex number can be repreented in pythoon as follows:\n"
   ]
  },
  {
   "cell_type": "code",
   "execution_count": 21,
   "metadata": {},
   "outputs": [
    {
     "name": "stdout",
     "output_type": "stream",
     "text": [
      "2.0\n",
      "4.0\n"
     ]
    }
   ],
   "source": [
    "complex_number = 2+4j\n",
    "\"\"\"\n",
    "here 'j' is replacement for 'i'\n",
    "\"\"\"\n",
    "\n",
    "# we can access the real and imaginey part as follows\n",
    "\n",
    "print(complex_number.real)\n",
    "print(complex_number.imag)"
   ]
  },
  {
   "cell_type": "markdown",
   "metadata": {},
   "source": [
    "7. What is the correct way to declare a variable named age and assign the value 25 to it?"
   ]
  },
  {
   "cell_type": "code",
   "execution_count": 22,
   "metadata": {},
   "outputs": [],
   "source": [
    "age = 25\n"
   ]
  },
  {
   "cell_type": "markdown",
   "metadata": {},
   "source": [
    "8. Declare a variable named price and assign the value 9.99 to it. What data type does this variable\n",
    "belong to?"
   ]
  },
  {
   "cell_type": "code",
   "execution_count": 23,
   "metadata": {},
   "outputs": [
    {
     "data": {
      "text/plain": [
       "float"
      ]
     },
     "execution_count": 23,
     "metadata": {},
     "output_type": "execute_result"
    }
   ],
   "source": [
    "price = 9.99\n",
    "\n",
    "type(price)"
   ]
  },
  {
   "cell_type": "markdown",
   "metadata": {},
   "source": [
    "9. Create a variable named name and assign your full name to it as a string. How would you print the value of this variable?"
   ]
  },
  {
   "cell_type": "code",
   "execution_count": 24,
   "metadata": {},
   "outputs": [
    {
     "name": "stdout",
     "output_type": "stream",
     "text": [
      "Karan Shailesh Parmar\n"
     ]
    }
   ],
   "source": [
    "name = 'Karan Shailesh Parmar'\n",
    "print(name)"
   ]
  },
  {
   "cell_type": "markdown",
   "metadata": {},
   "source": [
    "1O. Given the string \"Hello, World!\", extract the substring \"World\"."
   ]
  },
  {
   "cell_type": "code",
   "execution_count": 29,
   "metadata": {},
   "outputs": [
    {
     "name": "stdout",
     "output_type": "stream",
     "text": [
      "world\n",
      "7\n"
     ]
    }
   ],
   "source": [
    "yo_string = \"hello, world!\"\n",
    "\n",
    "yo_substring = yo_string[7:12]\n",
    "print(yo_substring)"
   ]
  },
  {
   "cell_type": "markdown",
   "metadata": {},
   "source": [
    "11. Create a variable named \"is _ student\" and assign it a boolean value indicating whether you are currently a student or not."
   ]
  },
  {
   "cell_type": "code",
   "execution_count": 31,
   "metadata": {},
   "outputs": [
    {
     "name": "stdout",
     "output_type": "stream",
     "text": [
      "True\n"
     ]
    }
   ],
   "source": [
    "is_student = True\n",
    "print(is_student)"
   ]
  },
  {
   "cell_type": "markdown",
   "metadata": {},
   "source": [
    "Complete Yay"
   ]
  }
 ],
 "metadata": {
  "kernelspec": {
   "display_name": "Python 3",
   "language": "python",
   "name": "python3"
  },
  "language_info": {
   "codemirror_mode": {
    "name": "ipython",
    "version": 3
   },
   "file_extension": ".py",
   "mimetype": "text/x-python",
   "name": "python",
   "nbconvert_exporter": "python",
   "pygments_lexer": "ipython3",
   "version": "3.11.4"
  }
 },
 "nbformat": 4,
 "nbformat_minor": 2
}
