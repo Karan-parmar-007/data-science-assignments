{
 "cells": [
  {
   "cell_type": "markdown",
   "metadata": {},
   "source": [
    "# **Feature Engineering-6**"
   ]
  },
  {
   "cell_type": "markdown",
   "metadata": {},
   "source": [
    "Q1. Pearson correlation coefficient is a measure of the linear relationship between two variables. Suppose\n",
    "you have collected data on the amount of time students spend studying for an exam and their final exam\n",
    "scores. Calculate the Pearson correlation coefficient between these two variables and interpret the result."
   ]
  },
  {
   "cell_type": "code",
   "execution_count": 1,
   "metadata": {},
   "outputs": [
    {
     "name": "stdout",
     "output_type": "stream",
     "text": [
      "Pearson correlation coefficient: 0.9774283038456142\n"
     ]
    }
   ],
   "source": [
    "import numpy as np\n",
    "\n",
    "# Data\n",
    "study_time = np.array([3, 5, 2, 8, 6])\n",
    "exam_scores = np.array([70, 80, 65, 88, 85])\n",
    "\n",
    "# Pearson correlation coefficient\n",
    "r = np.corrcoef(study_time, exam_scores)[0, 1]\n",
    "print(f'Pearson correlation coefficient: {r}')\n"
   ]
  },
  {
   "cell_type": "markdown",
   "metadata": {},
   "source": [
    "Q2. Spearman's rank correlation is a measure of the monotonic relationship between two variables.\n",
    "Suppose you have collected data on the amount of sleep individuals get each night and their overall job\n",
    "satisfaction level on a scale of 1 to 10. Calculate the Spearman's rank correlation between these two\n",
    "variables and interpret the result."
   ]
  },
  {
   "cell_type": "code",
   "execution_count": 2,
   "metadata": {},
   "outputs": [
    {
     "name": "stdout",
     "output_type": "stream",
     "text": [
      "Spearman's rank correlation coefficient: 0.7999999999999999\n"
     ]
    }
   ],
   "source": [
    "import scipy.stats as stats\n",
    "\n",
    "# Data\n",
    "sleep = np.array([6, 8, 5, 7, 4])\n",
    "job_satisfaction = np.array([5, 7, 6, 8, 4])\n",
    "\n",
    "# Spearman's rank correlation\n",
    "rho, p_value = stats.spearmanr(sleep, job_satisfaction)\n",
    "print(f\"Spearman's rank correlation coefficient: {rho}\")\n"
   ]
  },
  {
   "cell_type": "markdown",
   "metadata": {},
   "source": [
    "Q3. Suppose you are conducting a study to examine the relationship between the number of hours of\n",
    "exercise per week and body mass index (BMI) in a sample of adults. You collected data on both variables\n",
    "for 50 participants. Calculate the Pearson correlation coefficient and the Spearman's rank correlation\n",
    "between these two variables and compare the results."
   ]
  },
  {
   "cell_type": "code",
   "execution_count": 3,
   "metadata": {},
   "outputs": [
    {
     "name": "stdout",
     "output_type": "stream",
     "text": [
      "Pearson correlation coefficient: 0.30622006702261867\n",
      "Spearman's rank correlation coefficient: 0.3167827130852341\n"
     ]
    }
   ],
   "source": [
    "# Sample data for 50 participants (random example)\n",
    "exercise_hours = np.random.rand(50) * 10  # random hours between 0 and 10\n",
    "BMI = np.random.rand(50) * 10 + 20  # random BMI between 20 and 30\n",
    "\n",
    "# Pearson correlation\n",
    "pearson_r = np.corrcoef(exercise_hours, BMI)[0, 1]\n",
    "\n",
    "# Spearman correlation\n",
    "spearman_r, _ = stats.spearmanr(exercise_hours, BMI)\n",
    "\n",
    "print(f\"Pearson correlation coefficient: {pearson_r}\")\n",
    "print(f\"Spearman's rank correlation coefficient: {spearman_r}\")\n"
   ]
  },
  {
   "cell_type": "markdown",
   "metadata": {},
   "source": [
    "Q4. A researcher is interested in examining the relationship between the number of hours individuals\n",
    "spend watching television per day and their level of physical activity. The researcher collected data on\n",
    "both variables from a sample of 50 participants. Calculate the Pearson correlation coefficient between\n",
    "these two variables."
   ]
  },
  {
   "cell_type": "code",
   "execution_count": 4,
   "metadata": {},
   "outputs": [
    {
     "name": "stdout",
     "output_type": "stream",
     "text": [
      "Pearson correlation coefficient: -0.04739039290099749\n"
     ]
    }
   ],
   "source": [
    "# Sample data for 50 participants\n",
    "tv_hours = np.random.rand(50) * 10  # random hours between 0 and 10\n",
    "physical_activity = np.random.rand(50) * 10  # random activity level between 0 and 10\n",
    "\n",
    "# Pearson correlation\n",
    "r = np.corrcoef(tv_hours, physical_activity)[0, 1]\n",
    "print(f'Pearson correlation coefficient: {r}')\n"
   ]
  },
  {
   "cell_type": "markdown",
   "metadata": {},
   "source": [
    "Q5. A survey was conducted to examine the relationship between age and preference for a particular\n",
    "brand of soft drink. The survey results are shown below:"
   ]
  },
  {
   "cell_type": "code",
   "execution_count": 6,
   "metadata": {},
   "outputs": [
    {
     "name": "stdout",
     "output_type": "stream",
     "text": [
      "Contingency Table:\n",
      "Soft drink Preference  Coke  Mountain Dew  Pepsi\n",
      "Age Group                                       \n",
      "0-20                      1             0      0\n",
      "21-30                     2             0      0\n",
      "31-40                     0             1      1\n",
      "41-50                     0             0      1\n",
      "\n",
      "Chi-square Test Statistic: 7.500000000000002\n",
      "P-value: 0.27706844336610714\n",
      "Degrees of Freedom: 6\n",
      "Expected Frequencies Table:\n",
      "[[0.5        0.16666667 0.33333333]\n",
      " [1.         0.33333333 0.66666667]\n",
      " [1.         0.33333333 0.66666667]\n",
      " [0.5        0.16666667 0.33333333]]\n"
     ]
    }
   ],
   "source": [
    "import pandas as pd\n",
    "import numpy as np\n",
    "from sklearn.preprocessing import LabelEncoder\n",
    "from scipy.stats import chi2_contingency\n",
    "\n",
    "# Data\n",
    "data = {\n",
    "    'Age': [25, 42, 37, 19, 31, 28],\n",
    "    'Soft drink Preference': ['Coke', 'Pepsi', 'Mountain Dew', 'Coke', 'Pepsi', 'Coke']\n",
    "}\n",
    "\n",
    "# Convert to DataFrame\n",
    "df = pd.DataFrame(data)\n",
    "\n",
    "# Label encoding for categorical variable\n",
    "le = LabelEncoder()\n",
    "df['Soft drink Preference Encoded'] = le.fit_transform(df['Soft drink Preference'])\n",
    "\n",
    "# Create age groups (bins)\n",
    "bins = [0, 20, 30, 40, 50]\n",
    "labels = ['0-20', '21-30', '31-40', '41-50']\n",
    "df['Age Group'] = pd.cut(df['Age'], bins=bins, labels=labels, right=False)\n",
    "\n",
    "# Create a contingency table\n",
    "contingency_table = pd.crosstab(df['Age Group'], df['Soft drink Preference'])\n",
    "\n",
    "# Chi-square test of independence\n",
    "chi2, p, dof, expected = chi2_contingency(contingency_table)\n",
    "\n",
    "print(\"Contingency Table:\")\n",
    "print(contingency_table)\n",
    "print(\"\\nChi-square Test Statistic:\", chi2)\n",
    "print(\"P-value:\", p)\n",
    "print(\"Degrees of Freedom:\", dof)\n",
    "print(\"Expected Frequencies Table:\")\n",
    "print(expected)\n"
   ]
  },
  {
   "cell_type": "markdown",
   "metadata": {},
   "source": [
    "Q6. A company is interested in examining the relationship between the number of sales calls made per day\n",
    "and the number of sales made per week. The company collected data on both variables from a sample of\n",
    "30 sales representatives. Calculate the Pearson correlation coefficient between these two variables."
   ]
  },
  {
   "cell_type": "code",
   "execution_count": 5,
   "metadata": {},
   "outputs": [
    {
     "name": "stdout",
     "output_type": "stream",
     "text": [
      "Pearson correlation coefficient: 0.027374656454734886\n"
     ]
    }
   ],
   "source": [
    "# Sample data for 30 sales representatives\n",
    "sales_calls = np.random.rand(30) * 10  # random calls between 0 and 10\n",
    "sales_made = np.random.rand(30) * 50  # random sales between 0 and 50\n",
    "\n",
    "# Pearson correlation\n",
    "r = np.corrcoef(sales_calls, sales_made)[0, 1]\n",
    "print(f'Pearson correlation coefficient: {r}')\n"
   ]
  },
  {
   "cell_type": "markdown",
   "metadata": {},
   "source": [
    "# **COMPLETE**"
   ]
  }
 ],
 "metadata": {
  "kernelspec": {
   "display_name": "Python 3",
   "language": "python",
   "name": "python3"
  },
  "language_info": {
   "codemirror_mode": {
    "name": "ipython",
    "version": 3
   },
   "file_extension": ".py",
   "mimetype": "text/x-python",
   "name": "python",
   "nbconvert_exporter": "python",
   "pygments_lexer": "ipython3",
   "version": "3.12.1"
  }
 },
 "nbformat": 4,
 "nbformat_minor": 2
}
