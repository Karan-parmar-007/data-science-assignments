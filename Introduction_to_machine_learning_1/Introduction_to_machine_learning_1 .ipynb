{
 "cells": [
  {
   "cell_type": "markdown",
   "metadata": {},
   "source": [
    "# **Introduction to Machine Learning 1**"
   ]
  },
  {
   "cell_type": "markdown",
   "metadata": {},
   "source": [
    "### **QI: Explain the following with an example:**\n",
    "### 1. Artificial Intelligence\n",
    "### 2. Machine Learning\n",
    "### 3. Deep Learning\n"
   ]
  },
  {
   "cell_type": "markdown",
   "metadata": {},
   "source": [
    "### QI: Explain the following with an example:\n",
    "\n",
    "**1. Artificial Intelligence (AI)**\n",
    "AI refers to the simulation of human intelligence in machines that are programmed to think and learn like humans. AI can perform tasks such as recognizing speech, making decisions, and translating languages.\n",
    "\n",
    "*Example:* A virtual assistant like Siri or Alexa uses AI to understand and respond to voice commands, set reminders, play music, and provide information.\n",
    "\n",
    "**2. Machine Learning (ML)**\n",
    "ML is a subset of AI that involves the use of algorithms and statistical models to enable a system to improve its performance on a specific task through experience and data.\n",
    "\n",
    "*Example:* A spam filter in email uses machine learning to classify emails as spam or not spam by learning from past emails that were marked as such by users.\n",
    "\n",
    "**3. Deep Learning (DL)**\n",
    "DL is a subset of ML that uses neural networks with many layers (hence \"deep\") to model and understand complex patterns in large datasets.\n",
    "\n",
    "*Example:* An image recognition system that can identify objects in photos (e.g., recognizing dogs in images) uses deep learning techniques to learn from a vast amount of labeled images."
   ]
  },
  {
   "cell_type": "markdown",
   "metadata": {},
   "source": [
    "### **Q2: What is supervised learning? List some examples of supervised learning.**"
   ]
  },
  {
   "cell_type": "markdown",
   "metadata": {},
   "source": [
    "**Supervised Learning**\n",
    "Supervised learning is a type of machine learning where the model is trained on a labeled dataset, meaning each training example is paired with an output label. The goal is for the model to learn the mapping from inputs to outputs.\n",
    "\n",
    "*Examples of Supervised Learning:*\n",
    "- **Linear Regression:** Predicting house prices based on features like size, location, and number of rooms.\n",
    "- **Logistic Regression:** Classifying emails as spam or not spam.\n",
    "- **Decision Trees:** Predicting whether a customer will churn based on their usage history.\n",
    "- **Support Vector Machines (SVM):** Classifying images into different categories (e.g., cats vs. dogs).\n",
    "- **Neural Networks:** Recognizing handwritten digits in images.\n"
   ]
  },
  {
   "cell_type": "markdown",
   "metadata": {},
   "source": [
    "### **Q3: What is unsupervised learning? List some examples of unsupervised learning.**"
   ]
  },
  {
   "cell_type": "markdown",
   "metadata": {},
   "source": [
    "**Unsupervised Learning**\n",
    "Unsupervised learning is a type of machine learning where the model is trained on an unlabeled dataset, meaning the system tries to learn the patterns and structure from the input data without explicit instructions on what to predict.\n",
    "\n",
    "*Examples of Unsupervised Learning:*\n",
    "- **Clustering:** Grouping customers based on purchasing behavior (e.g., k-means clustering).\n",
    "- **Dimensionality Reduction:** Reducing the number of variables under consideration (e.g., Principal Component Analysis - PCA).\n",
    "- **Anomaly Detection:** Identifying unusual data points in a dataset (e.g., detecting fraudulent transactions).\n",
    "- **Association Rule Learning:** Discovering interesting relations between variables in large databases (e.g., market basket analysis)."
   ]
  },
  {
   "cell_type": "markdown",
   "metadata": {},
   "source": [
    "### **Q4: What is the difference between AI, ML, DL, and DS?**"
   ]
  },
  {
   "cell_type": "markdown",
   "metadata": {},
   "source": [
    "- **AI (Artificial Intelligence):** The broadest field that includes any technique enabling computers to mimic human intelligence.\n",
    "- **ML (Machine Learning):** A subset of AI that uses statistical methods to enable machines to improve their performance based on data.\n",
    "- **DL (Deep Learning):** A further subset of ML that uses complex neural networks with many layers to handle large and complex datasets.\n",
    "- **DS (Data Science):** An interdisciplinary field that uses scientific methods, processes, algorithms, and systems to extract knowledge and insights from structured and unstructured data. It encompasses a wide range of techniques from statistics, ML, data mining, and big data.\n",
    "\n"
   ]
  },
  {
   "cell_type": "markdown",
   "metadata": {},
   "source": [
    "### **Q5: What are the main differences between supervised, unsupervised, and semi—supervised learning?**"
   ]
  },
  {
   "cell_type": "markdown",
   "metadata": {},
   "source": [
    "- **Supervised Learning:**\n",
    "  - Uses labeled data.\n",
    "  - Goal: Learn a mapping from inputs to known outputs.\n",
    "  - Examples: Classification, Regression.\n",
    "\n",
    "- **Unsupervised Learning:**\n",
    "  - Uses unlabeled data.\n",
    "  - Goal: Discover hidden patterns or intrinsic structures.\n",
    "  - Examples: Clustering, Dimensionality Reduction.\n",
    "\n",
    "- **Semi-Supervised Learning:**\n",
    "  - Uses a combination of labeled and unlabeled data.\n",
    "  - Goal: Improve learning accuracy by leveraging a small amount of labeled data with a large amount of unlabeled data.\n",
    "  - Example: A text classification model trained with a small set of labeled documents and a large set of unlabeled documents."
   ]
  },
  {
   "cell_type": "markdown",
   "metadata": {},
   "source": [
    "### **Q6: What is train, test and validation split? Explain the importance of each term.**"
   ]
  },
  {
   "cell_type": "markdown",
   "metadata": {},
   "source": [
    "- **Training Set:**\n",
    "  - The portion of the dataset used to train the model.\n",
    "  - Importance: The model learns the patterns and relationships in this data.\n",
    "\n",
    "- **Validation Set:**\n",
    "  - A separate portion of the dataset used to tune the model’s hyperparameters and evaluate its performance during training.\n",
    "  - Importance: Helps prevent overfitting by providing a checkpoint to adjust the model.\n",
    "\n",
    "- **Test Set:**\n",
    "  - The portion of the dataset used to assess the final model’s performance.\n",
    "  - Importance: Provides an unbiased evaluation of the model’s accuracy and generalization to new data.\n"
   ]
  },
  {
   "cell_type": "markdown",
   "metadata": {},
   "source": [
    "### **Q7: How can unsupervised learning be used in anomaly detection?**"
   ]
  },
  {
   "cell_type": "markdown",
   "metadata": {},
   "source": [
    "Unsupervised learning can be used in anomaly detection by identifying patterns and structures in the data and then flagging data points that do not conform to these patterns. Techniques like clustering and density estimation can help determine the normal behavior of the data, making it easier to spot anomalies.\n",
    "\n",
    "*Example:* Using k-means clustering, normal behavior can be identified as clusters, and data points that do not fit into any cluster can be considered anomalies, such as fraudulent transactions or network intrusions.\n",
    "\n"
   ]
  },
  {
   "cell_type": "markdown",
   "metadata": {},
   "source": [
    "### **Q8: List down some commonly used supervised learning algorithms and unsupervised learning algorithms.**"
   ]
  },
  {
   "cell_type": "markdown",
   "metadata": {},
   "source": [
    "**Supervised Learning Algorithms:**\n",
    "- Linear Regression\n",
    "- Logistic Regression\n",
    "- Decision Trees\n",
    "- Random Forests\n",
    "- Support Vector Machines (SVM)\n",
    "- k-Nearest Neighbors (k-NN)\n",
    "- Neural Networks (e.g., Convolutional Neural Networks - CNNs, Recurrent Neural Networks - RNNs)\n",
    "\n",
    "**Unsupervised Learning Algorithms:**\n",
    "- k-Means Clustering\n",
    "- Hierarchical Clustering\n",
    "- DBSCAN (Density-Based Spatial Clustering of Applications with Noise)\n",
    "- Principal Component Analysis (PCA)\n",
    "- Independent Component Analysis (ICA)\n",
    "- t-Distributed Stochastic Neighbor Embedding (t-SNE)\n",
    "- Autoencoders (a type of neural network used for dimensionality reduction and feature learning)"
   ]
  },
  {
   "cell_type": "markdown",
   "metadata": {},
   "source": [
    "# **COMPLETE**"
   ]
  }
 ],
 "metadata": {
  "language_info": {
   "name": "python"
  }
 },
 "nbformat": 4,
 "nbformat_minor": 2
}
