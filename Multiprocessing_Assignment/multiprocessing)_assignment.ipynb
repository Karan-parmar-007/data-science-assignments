{
 "cells": [
  {
   "cell_type": "markdown",
   "metadata": {},
   "source": [
    "Multiprocessing Assignment - Karan Parmar"
   ]
  },
  {
   "cell_type": "markdown",
   "metadata": {},
   "source": [
    "QI. What is multiprocessing in python? Why is it useful?"
   ]
  },
  {
   "cell_type": "markdown",
   "metadata": {},
   "source": [
    "Multiprocessing in Python refers to the capability of creating and running multiple processes concurrently, each with its own Python interpreter and memory space. Unlike multithreading, multiprocessing allows parallel execution of code by utilizing multiple CPU cores."
   ]
  },
  {
   "cell_type": "markdown",
   "metadata": {},
   "source": [
    "Multiprocessing is particularly useful for CPU-bound tasks where parallelism can significantly improve performance. \n",
    "\n",
    "Each process in multiprocessing has its own memory space, which helps in avoiding interference between processes.\n",
    "\n",
    "Processes in multiprocessing are more resilient to failures than threads. "
   ]
  },
  {
   "cell_type": "markdown",
   "metadata": {},
   "source": [
    "Q2. What are the differences between multiprocessing and multithreading?"
   ]
  },
  {
   "cell_type": "markdown",
   "metadata": {},
   "source": [
    "Multiprocessing and multithreading are concurrency models in Python with key differences. Multiprocessing involves the execution of multiple processes, each with its own Python interpreter and memory space, enabling parallel execution on multi-core systems. It provides isolation between processes but incurs higher memory overhead. In contrast, multithreading involves multiple threads sharing the same process and memory space, but the Global Interpreter Lock (GIL) limits true parallelism. While multithreading is suitable for I/O-bound tasks, multiprocessing is favored for CPU-bound tasks, as it bypasses the GIL and allows for efficient utilization of multiple CPU cores, resulting in improved performance and greater resilience to failures."
   ]
  },
  {
   "cell_type": "markdown",
   "metadata": {},
   "source": [
    "Q3. Write a python code to create a process using the multiprocessing module."
   ]
  },
  {
   "cell_type": "code",
   "execution_count": 1,
   "metadata": {},
   "outputs": [],
   "source": [
    "import multiprocessing\n",
    "def sender(conn , msg) :\n",
    "    for i in msg:\n",
    "        conn.send(i)\n",
    "    conn.close()\n",
    "\n",
    "def receive(conn) :\n",
    "    while True :\n",
    "        try :\n",
    "            msg = conn.recv()\n",
    "        except Exception as e :\n",
    "            print(e)\n",
    "            break\n",
    "        print(msg)\n",
    "\n",
    "if __name__ == '__main__' :\n",
    "    msg = [\"my name is sudh\" , \"this is my msg to students\" , \"i am taking class for multiprocssing \" ]\n",
    "    parent_con , child_con = multiprocessing.Pipe()\n",
    "    m1  = multiprocessing.Process(target=sender , args = (child_con , msg))\n",
    "    m2 = multiprocessing.Process(target=receive , args =(parent_con,))\n",
    "    m1.start()\n",
    "    m2.start()\n",
    "    m1.join()\n",
    "    child_con.close()\n",
    "    m2.join()\n",
    "    parent_con.close()\n"
   ]
  },
  {
   "cell_type": "markdown",
   "metadata": {},
   "source": [
    "Q5. How can we create a pool of worker processes in python using the multiprocessing module?"
   ]
  },
  {
   "cell_type": "markdown",
   "metadata": {},
   "source": [
    "In Python, you can create a pool of worker processes using the Pool class from the multiprocessing module."
   ]
  },
  {
   "cell_type": "code",
   "execution_count": 2,
   "metadata": {},
   "outputs": [],
   "source": [
    "import multiprocessing\n",
    "\n",
    "def square(n):\n",
    "    return n**2\n",
    "\n",
    "if __name__ == '__main__':\n",
    "    with multiprocessing.Pool(processes=4) as pool :\n",
    "        out = pool.map(square , [1,2,3,4,5,6,7,8,9])\n",
    "        print(out)\n"
   ]
  },
  {
   "cell_type": "markdown",
   "metadata": {},
   "source": [
    "Q6. Write a python program to create 4 processes, each process should print a different number using the\n",
    "multiprocessing module in python."
   ]
  },
  {
   "cell_type": "code",
   "execution_count": null,
   "metadata": {},
   "outputs": [],
   "source": [
    "import multiprocessing\n",
    "\n",
    "def square_number(x):\n",
    "    return x * x\n",
    "\n",
    "if __name__ == \"__main__\":\n",
    "    with multiprocessing.Pool(processes=4) as pool:\n",
    "        input_values = [1, 2, 3, 4, 5]\n",
    "\n",
    "        results = pool.map(square_number, input_values)\n",
    "\n",
    "    print(\"Input values:\", input_values)\n",
    "    print(\"Squared results:\", results)\n"
   ]
  },
  {
   "cell_type": "markdown",
   "metadata": {},
   "source": [
    "Complete"
   ]
  }
 ],
 "metadata": {
  "kernelspec": {
   "display_name": "Python 3",
   "language": "python",
   "name": "python3"
  },
  "language_info": {
   "codemirror_mode": {
    "name": "ipython",
    "version": 3
   },
   "file_extension": ".py",
   "mimetype": "text/x-python",
   "name": "python",
   "nbconvert_exporter": "python",
   "pygments_lexer": "ipython3",
   "version": "3.11.4"
  }
 },
 "nbformat": 4,
 "nbformat_minor": 2
}
