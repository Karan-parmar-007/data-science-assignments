{
 "cells": [
  {
   "cell_type": "markdown",
   "metadata": {},
   "source": [
    "# **Feature Engineering-4**"
   ]
  },
  {
   "cell_type": "markdown",
   "metadata": {},
   "source": [
    "### Q1. What is data encoding? How is it useful in data science?\n",
    "\n",
    "**Data Encoding** is the process of transforming categorical data into numerical values so that it can be used by machine learning algorithms. Categorical data represents characteristics and can be divided into two types: nominal (unordered) and ordinal (ordered). Encoding these categories into numerical values allows algorithms to process and learn from them.\n",
    "\n",
    "**Utility in Data Science**:\n",
    "- **Facilitates Machine Learning**: Most machine learning algorithms require numerical input to compute and optimize their parameters.\n",
    "- **Improves Model Performance**: Proper encoding can enhance model performance by providing meaningful numerical representations of categories.\n",
    "- **Handles Categorical Variables**: Enables the inclusion of categorical variables in predictive modeling, thereby utilizing all available information in the dataset.\n",
    "\n",
    "### Q2. What is nominal encoding? Provide an example of how you would use it in a real-world scenario.\n",
    "\n",
    "**Nominal Encoding** is a method used to encode categorical variables that do not have an intrinsic order. One common technique for nominal encoding is one-hot encoding, which creates binary columns for each category.\n",
    "\n",
    "**Example**:\n",
    "Consider a dataset containing a column for \"Color\" with the values [\"Red\", \"Blue\", \"Green\"]. Using one-hot encoding, this would be transformed into three binary columns:\n",
    "\n",
    "| Color  | Red | Blue | Green |\n",
    "|--------|-----|------|-------|\n",
    "| Red    | 1   | 0    | 0     |\n",
    "| Blue   | 0   | 1    | 0     |\n",
    "| Green  | 0   | 0    | 1     |\n",
    "\n",
    "### Q3. In what situations is nominal encoding preferred over one-hot encoding? Provide a practical example.\n",
    "\n",
    "Nominal encoding is preferred over one-hot encoding when dealing with categorical data that does not have a large number of unique values, to avoid high dimensionality.\n",
    "\n",
    "**Practical Example**:\n",
    "Consider a column \"Season\" with four unique values [\"Winter\", \"Spring\", \"Summer\", \"Autumn\"]. Using one-hot encoding is feasible here because it will create only four new columns, which is manageable. However, if the column had hundreds of unique values, using techniques like label encoding (assigning a unique integer to each category) might be more practical to avoid creating an excessively large number of columns.\n",
    "\n",
    "### Q4. Suppose you have a dataset containing categorical data with 5 unique values. Which encoding technique would you use to transform this data into a format suitable for machine learning algorithms? Explain why you made this choice.\n",
    "\n",
    "For a dataset with 5 unique categorical values, **one-hot encoding** would be the appropriate choice. One-hot encoding creates binary columns for each category, which prevents the model from assuming any ordinal relationship between categories.\n",
    "\n",
    "**Reason**:\n",
    "- **Simplicity and Interpretability**: One-hot encoding is straightforward and ensures that the model treats each category as distinct without implying any order.\n",
    "- **Low Dimensionality Impact**: With only 5 unique values, one-hot encoding will create 5 new columns, which is manageable and won't significantly increase the dataset's dimensionality.\n",
    "\n",
    "### Q5. In a machine learning project, you have a dataset with 1000 rows and 5 columns. Two of the columns are categorical, and the remaining three columns are numerical. If you were to use nominal encoding to transform the categorical data, how many new columns would be created? Show your calculations.\n",
    "\n",
    "Assuming each categorical column has \\( n_1 \\) and \\( n_2 \\) unique values:\n",
    "\n",
    "- **Column 1** (Categorical) has \\( n_1 \\) unique values.\n",
    "- **Column 2** (Categorical) has \\( n_2 \\) unique values.\n",
    "\n",
    "Using one-hot encoding, the number of new columns created will be the sum of the unique values in each categorical column:\n",
    "\n",
    "Total new columns = \\( n_1 + n_2 \\).\n",
    "\n",
    "**Example Calculation**:\n",
    "If Column 1 has 4 unique values and Column 2 has 3 unique values:\n",
    "\n",
    "Total new columns = \\( 4 + 3 = 7 \\).\n",
    "\n",
    "So, after encoding, the dataset would have \\( 3 \\) numerical columns + \\( 7 \\) new categorical columns = \\( 10 \\) columns in total.\n",
    "\n",
    "### Q6. You are working with a dataset containing information about different types of animals, including their species, habitat, and diet. Which encoding technique would you use to transform the categorical data into a format suitable for machine learning algorithms? Justify your answer.\n",
    "\n",
    "For a dataset with categorical data about animals (e.g., species, habitat, diet), **one-hot encoding** would be a suitable choice.\n",
    "\n",
    "**Justification**:\n",
    "- **Distinct Categories**: The categories like species, habitat, and diet are distinct and do not have an inherent order, making one-hot encoding appropriate to treat each category independently.\n",
    "- **Preventing Ordinal Misinterpretation**: One-hot encoding prevents the model from inferring any ordinal relationship between categories, which is important for nominal data.\n",
    "- **Interpretability**: The resulting binary columns make the data easy to interpret and understand, as each column clearly represents a specific category.\n",
    "\n",
    "### Q7. You are working on a project that involves predicting customer churn for a telecommunications company. You have a dataset with 5 features, including the customer's gender, age, contract type, monthly charges, and tenure. Which encoding technique(s) would you use to transform the categorical data into numerical data? Provide a step-by-step explanation of how you would implement the encoding.\n",
    "\n",
    "To predict customer churn, let's identify and encode the categorical features:\n",
    "\n",
    "1. **Identify Categorical Features**:\n",
    "   - Gender (categorical)\n",
    "   - Contract type (categorical)\n",
    "   - Age, monthly charges, and tenure are numerical and don't need encoding.\n",
    "\n",
    "2. **Encoding Techniques**:\n",
    "   - **Gender**: One-hot encoding or binary encoding if only two categories.\n",
    "   - **Contract Type**: One-hot encoding (assuming multiple contract types).\n",
    "\n",
    "**Step-by-Step Implementation**:\n",
    "\n",
    "1. **Inspect the Data**:\n",
    "   - Check unique values for \"Gender\" and \"Contract Type\".\n",
    "\n",
    "2. **Apply One-Hot Encoding**:\n",
    "   - **Gender**: Assuming two unique values [\"Male\", \"Female\"].\n",
    "     - One-hot encode to create a new column \"Gender_Female\" (0 or 1).\n",
    "   - **Contract Type**: Assuming three unique values [\"Month-to-month\", \"One year\", \"Two year\"].\n",
    "     - One-hot encode to create three new columns: \"Contract_Month-to-month\", \"Contract_One year\", \"Contract_Two year\".\n",
    "\n",
    "**Implementation**:\n",
    "\n"
   ]
  },
  {
   "cell_type": "code",
   "execution_count": 4,
   "metadata": {},
   "outputs": [],
   "source": [
    "import pandas as pd\n",
    "from sklearn.preprocessing import OneHotEncoder"
   ]
  },
  {
   "cell_type": "code",
   "execution_count": 5,
   "metadata": {},
   "outputs": [],
   "source": [
    "data = {\n",
    "    'Gender': ['Male', 'Female', 'Female', 'Male'],\n",
    "    'Age': [34, 45, 23, 40],\n",
    "    'Contract': ['Month-to-month', 'One year', 'Two year', 'Month-to-month'],\n",
    "    'MonthlyCharges': [70.5, 89.0, 50.5, 75.0],\n",
    "    'Tenure': [12, 24, 5, 15]\n",
    "}\n",
    "df = pd.DataFrame(data)"
   ]
  },
  {
   "cell_type": "code",
   "execution_count": 6,
   "metadata": {},
   "outputs": [],
   "source": [
    "encoder = OneHotEncoder(drop='first')  # drop='first' to avoid multicollinearity\n",
    "encoded_features = encoder.fit_transform(df[['Gender', 'Contract']]).toarray()\n",
    "encoded_df = pd.DataFrame(encoded_features, columns=encoder.get_feature_names_out(['Gender', 'Contract']))\n",
    "\n",
    "# Combine with original data\n",
    "final_df = pd.concat([df.drop(['Gender', 'Contract'], axis=1), encoded_df], axis=1)"
   ]
  },
  {
   "cell_type": "code",
   "execution_count": 8,
   "metadata": {},
   "outputs": [
    {
     "name": "stdout",
     "output_type": "stream",
     "text": [
      "   Age  MonthlyCharges  Tenure  Gender_Male  Contract_One year  \\\n",
      "0   34            70.5      12          1.0                0.0   \n",
      "1   45            89.0      24          0.0                1.0   \n",
      "2   23            50.5       5          0.0                0.0   \n",
      "3   40            75.0      15          1.0                0.0   \n",
      "\n",
      "   Contract_Two year  \n",
      "0                0.0  \n",
      "1                0.0  \n",
      "2                1.0  \n",
      "3                0.0  \n"
     ]
    }
   ],
   "source": [
    "print(final_df)"
   ]
  },
  {
   "cell_type": "markdown",
   "metadata": {},
   "source": [
    "# **COMPLETE**"
   ]
  }
 ],
 "metadata": {
  "kernelspec": {
   "display_name": "base",
   "language": "python",
   "name": "python3"
  },
  "language_info": {
   "codemirror_mode": {
    "name": "ipython",
    "version": 3
   },
   "file_extension": ".py",
   "mimetype": "text/x-python",
   "name": "python",
   "nbconvert_exporter": "python",
   "pygments_lexer": "ipython3",
   "version": "3.11.5"
  }
 },
 "nbformat": 4,
 "nbformat_minor": 2
}
