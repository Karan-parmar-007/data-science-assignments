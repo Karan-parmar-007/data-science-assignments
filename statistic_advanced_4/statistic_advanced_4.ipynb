{
 "cells": [
  {
   "cell_type": "markdown",
   "metadata": {},
   "source": [
    "# **Statistic Advanced 4**"
   ]
  },
  {
   "cell_type": "markdown",
   "metadata": {},
   "source": [
    "### **Q1: What is the difference between a t-test and a z-test? Provide an example scenario where you would use each type of test.**"
   ]
  },
  {
   "cell_type": "markdown",
   "metadata": {},
   "source": [
    "### Difference Between a t-Test and a z-Test\n",
    "\n",
    "#### t-Test\n",
    "A t-test is used to determine if there is a significant difference between the means of two groups. It is particularly useful when dealing with small sample sizes (typically n < 30) or when the population standard deviation is unknown. The t-test uses the t-distribution, which is wider and has heavier tails compared to the normal distribution, allowing for more variability when sample sizes are small.\n",
    "\n",
    "#### z-Test\n",
    "A z-test, on the other hand, is used when the sample size is large (typically n ≥ 30) and the population standard deviation is known. The z-test uses the z-distribution (standard normal distribution), which assumes the sample means are normally distributed due to the Central Limit Theorem.\n",
    "\n",
    "### Example Scenarios\n",
    "\n",
    "#### Scenario for a t-Test\n",
    "Suppose a researcher wants to compare the average test scores of two different classes, Class A and Class B, to see if there is a significant difference in their performance. The sample sizes for each class are small (e.g., 15 students in each class), and the population standard deviations are unknown. In this case, a t-test would be appropriate to compare the means of the two classes.\n",
    "\n",
    "**Hypotheses:**\n",
    "- Null hypothesis (\\(H_0\\)): There is no difference in the average test scores of Class A and Class B (\\(\\mu_A = \\mu_B\\)).\n",
    "- Alternative hypothesis (\\(H_1\\)): There is a difference in the average test scores of Class A and Class B (\\(\\mu_A \\neq \\mu_B\\)).\n",
    "\n",
    "#### Scenario for a z-Test\n",
    "Consider a manufacturing company that produces light bulbs and claims that the average lifespan of their light bulbs is 1000 hours with a known standard deviation of 100 hours. A consumer group takes a random sample of 50 light bulbs and wants to test if the average lifespan of the sampled light bulbs is significantly different from the claimed 1000 hours.\n",
    "\n",
    "**Hypotheses:**\n",
    "- Null hypothesis (\\(H_0\\)): The average lifespan of the sampled light bulbs is 1000 hours (\\(\\mu = 1000\\)).\n",
    "- Alternative hypothesis (\\(H_1\\)): The average lifespan of the sampled light bulbs is not 1000 hours (\\(\\mu \\neq 1000\\)).\n",
    "\n",
    "Since the sample size is large (n = 50) and the population standard deviation is known, a z-test would be appropriate in this scenario.\n",
    "\n",
    "### Summary\n",
    "- **t-Test**: Used for small sample sizes (n < 30) or when the population standard deviation is unknown. Example: Comparing average test scores between two small classes.\n",
    "- **z-Test**: Used for large sample sizes (n ≥ 30) and when the population standard deviation is known. Example: Testing if the average lifespan of light bulbs is different from a claimed value with a large sample size."
   ]
  },
  {
   "cell_type": "markdown",
   "metadata": {},
   "source": [
    "### **Q2: Differentiate between one-tailed and two-tailed tests.**"
   ]
  },
  {
   "cell_type": "markdown",
   "metadata": {},
   "source": [
    "### One-Tailed vs. Two-Tailed Tests\n",
    "\n",
    "#### One-Tailed Test\n",
    "A one-tailed test is used when the research hypothesis predicts a specific direction of the effect. It tests whether the sample mean is either significantly greater than or significantly less than the population mean, but not both. \n",
    "\n",
    "##### Key Points:\n",
    "- **Directional Hypothesis**: The hypothesis specifies the direction of the effect (e.g., greater than, less than).\n",
    "- **Critical Region**: The critical region for rejecting the null hypothesis is located entirely in one tail of the distribution (either left or right).\n",
    "\n",
    "##### Example:\n",
    "A pharmaceutical company claims that their new drug increases the mean recovery rate from a disease. A researcher wants to test if the recovery rate with the new drug is significantly greater than the standard recovery rate. Here, the hypothesis is directional:\n",
    "\n",
    "- Null hypothesis (\\(H_0\\)): The mean recovery rate with the new drug is less than or equal to the standard recovery rate (\\(\\mu \\leq \\mu_{0}\\)).\n",
    "- Alternative hypothesis (\\(H_1\\)): The mean recovery rate with the new drug is greater than the standard recovery rate (\\(\\mu > \\mu_{0}\\)).\n",
    "\n",
    "#### Two-Tailed Test\n",
    "A two-tailed test is used when the research hypothesis does not predict the direction of the effect, only that there will be a difference. It tests whether the sample mean is significantly different from the population mean in either direction (greater or less).\n",
    "\n",
    "##### Key Points:\n",
    "- **Non-Directional Hypothesis**: The hypothesis does not specify the direction of the effect; it only indicates that there will be a difference.\n",
    "- **Critical Region**: The critical region for rejecting the null hypothesis is split between both tails of the distribution.\n",
    "\n",
    "##### Example:\n",
    "Suppose a quality control manager wants to test if a new production process has changed the average weight of a product from the known population mean. Here, the hypothesis is non-directional:\n",
    "\n",
    "- Null hypothesis (\\(H_0\\)): The mean weight of the product with the new process is equal to the known mean weight (\\(\\mu = \\mu_{0}\\)).\n",
    "- Alternative hypothesis (\\(H_1\\)): The mean weight of the product with the new process is different from the known mean weight (\\(\\mu \\neq \\mu_{0}\\)).\n",
    "\n",
    "### Summary\n",
    "- **One-Tailed Test**: \n",
    "  - **Used for**: Hypotheses with a specific direction (greater than or less than).\n",
    "  - **Critical Region**: Located in one tail of the distribution.\n",
    "  - **Example**: Testing if a drug increases recovery rate (greater than).\n",
    "\n",
    "- **Two-Tailed Test**: \n",
    "  - **Used for**: Hypotheses without a specific direction (just different).\n",
    "  - **Critical Region**: Split between both tails of the distribution.\n",
    "  - **Example**: Testing if a new process changes the product weight (either increase or decrease)."
   ]
  },
  {
   "cell_type": "markdown",
   "metadata": {},
   "source": [
    "### **Q3: Explain the concept of Type 1 and Type 2 errors in hypothesis testing. Provide an example scenario for each type of error.**"
   ]
  },
  {
   "cell_type": "markdown",
   "metadata": {},
   "source": [
    "### Type I and Type II Errors in Hypothesis Testing\n",
    "\n",
    "#### Type I Error\n",
    "A Type I error occurs when the null hypothesis (\\(H_0\\)) is true, but we incorrectly reject it. This is also known as a \"false positive\" or \"alpha error.\" The probability of making a Type I error is denoted by \\(\\alpha\\), which is the significance level set by the researcher (e.g., 0.05).\n",
    "\n",
    "##### Example Scenario:\n",
    "A medical researcher is testing a new drug to see if it is more effective than the current standard treatment. The null hypothesis (\\(H_0\\)) states that the new drug is not more effective than the standard treatment.\n",
    "\n",
    "- **Null hypothesis (\\(H_0\\))**: The new drug is not more effective (no difference).\n",
    "- **Alternative hypothesis (\\(H_1\\))**: The new drug is more effective.\n",
    "\n",
    "If the researcher concludes that the new drug is more effective (rejects \\(H_0\\)) when in fact it is not (the null hypothesis is true), they have made a Type I error. This could lead to the new drug being marketed and used despite it not being better than the standard treatment.\n",
    "\n",
    "#### Type II Error\n",
    "A Type II error occurs when the null hypothesis (\\(H_0\\)) is false, but we fail to reject it. This is also known as a \"false negative\" or \"beta error.\" The probability of making a Type II error is denoted by \\(\\beta\\).\n",
    "\n",
    "##### Example Scenario:\n",
    "Consider the same medical researcher testing a new drug. The null hypothesis (\\(H_0\\)) states that the new drug is not more effective than the standard treatment.\n",
    "\n",
    "- **Null hypothesis (\\(H_0\\))**: The new drug is not more effective (no difference).\n",
    "- **Alternative hypothesis (\\(H_1\\))**: The new drug is more effective.\n",
    "\n",
    "If the researcher concludes that the new drug is not more effective (fails to reject \\(H_0\\)) when in fact it is (the null hypothesis is false), they have made a Type II error. This could result in the new drug not being approved or used, despite it being a better treatment than the current standard.\n",
    "\n",
    "### Summary\n",
    "- **Type I Error** (False Positive):\n",
    "  - **Occurs When**: The null hypothesis is true, but we reject it.\n",
    "  - **Probability**: Denoted by \\(\\alpha\\) (significance level).\n",
    "  - **Example**: Concluding a new drug is effective when it is not.\n",
    "\n",
    "- **Type II Error** (False Negative):\n",
    "  - **Occurs When**: The null hypothesis is false, but we fail to reject it.\n",
    "  - **Probability**: Denoted by \\(\\beta\\).\n",
    "  - **Example**: Concluding a new drug is not effective when it is."
   ]
  },
  {
   "cell_type": "markdown",
   "metadata": {},
   "source": [
    "### **Q4: Explain Bayes's theorem with an example.**"
   ]
  },
  {
   "cell_type": "markdown",
   "metadata": {},
   "source": [
    "### Bayes's Theorem\n",
    "\n",
    "Bayes's Theorem is a mathematical formula used to update the probability of a hypothesis based on new evidence. It relates the conditional and marginal probabilities of random events. The theorem is expressed as:\n",
    "\n",
    "\\[ P(A|B) = \\frac{P(B|A) \\cdot P(A)}{P(B)} \\]\n",
    "\n",
    "Where:\n",
    "- \\( P(A|B) \\) is the posterior probability: the probability of event \\( A \\) occurring given that \\( B \\) is true.\n",
    "- \\( P(B|A) \\) is the likelihood: the probability of event \\( B \\) occurring given that \\( A \\) is true.\n",
    "- \\( P(A) \\) is the prior probability: the initial probability of event \\( A \\) occurring.\n",
    "- \\( P(B) \\) is the marginal probability: the total probability of event \\( B \\) occurring.\n",
    "\n",
    "### Example Scenario\n",
    "\n",
    "#### Medical Testing\n",
    "\n",
    "Imagine there is a disease that affects 1% of the population. A medical test is available to detect the disease, and it has the following characteristics:\n",
    "- If a person has the disease, the test will be positive 99% of the time (sensitivity).\n",
    "- If a person does not have the disease, the test will be negative 95% of the time (specificity).\n",
    "\n",
    "We want to determine the probability that a person has the disease given that they have tested positive.\n",
    "\n",
    "#### Given:\n",
    "- \\( P(D) = 0.01 \\): The prior probability of having the disease.\n",
    "- \\( P(T|D) = 0.99 \\): The likelihood of testing positive given that the person has the disease.\n",
    "- \\( P(\\neg D) = 0.99 \\): The prior probability of not having the disease.\n",
    "- \\( P(T|\\neg D) = 0.05 \\): The likelihood of testing positive given that the person does not have the disease.\n",
    "\n",
    "#### Calculation:\n",
    "\n",
    "First, calculate \\( P(T) \\), the total probability of testing positive:\n",
    "\n",
    "\\[ P(T) = P(T|D) \\cdot P(D) + P(T|\\neg D) \\cdot P(\\neg D) \\]\n",
    "\\[ P(T) = (0.99 \\times 0.01) + (0.05 \\times 0.99) \\]\n",
    "\\[ P(T) = 0.0099 + 0.0495 \\]\n",
    "\\[ P(T) = 0.0594 \\]\n",
    "\n",
    "Now, apply Bayes's Theorem to find \\( P(D|T) \\):\n",
    "\n",
    "\\[ P(D|T) = \\frac{P(T|D) \\cdot P(D)}{P(T)} \\]\n",
    "\\[ P(D|T) = \\frac{0.99 \\times 0.01}{0.0594} \\]\n",
    "\\[ P(D|T) = \\frac{0.0099}{0.0594} \\]\n",
    "\\[ P(D|T) \\approx 0.1667 \\]\n",
    "\n",
    "### Interpretation\n",
    "\n",
    "Given that the person has tested positive, the probability that they actually have the disease is approximately 16.67%, despite the high sensitivity and specificity of the test. This is because the disease is quite rare in the population, making false positives more likely than true positives.\n",
    "\n",
    "### Summary\n",
    "\n",
    "Bayes's Theorem helps us update our beliefs about the probability of an event (e.g., having a disease) based on new evidence (e.g., a positive test result). It is particularly useful in situations where prior probabilities and likelihoods can significantly impact the posterior probability."
   ]
  },
  {
   "cell_type": "markdown",
   "metadata": {},
   "source": [
    "### **Q5: What is a confidence interval? How to calculate the confidence interval, explain with an example.**"
   ]
  },
  {
   "cell_type": "markdown",
   "metadata": {},
   "source": [
    "### Confidence Interval\n",
    "\n",
    "A confidence interval (CI) is a range of values, derived from sample data, that is likely to contain the true population parameter (such as the mean or proportion) with a certain level of confidence. It provides an estimate of the uncertainty associated with a sample statistic.\n",
    "\n",
    "#### Key Concepts:\n",
    "\n",
    "- **Confidence Level**: The probability that the confidence interval contains the true population parameter. Common confidence levels are 90%, 95%, and 99%.\n",
    "- **Margin of Error**: The range within which the true population parameter is expected to lie, calculated from the sample statistic.\n",
    "\n",
    "### How to Calculate a Confidence Interval\n",
    "\n",
    "#### Steps for Calculating a Confidence Interval for a Population Mean\n",
    "\n",
    "1. **Select the Confidence Level**: Determine the confidence level (e.g., 95%).\n",
    "2. **Find the Sample Mean (\\(\\bar{x}\\))**: Calculate the mean of the sample data.\n",
    "3. **Calculate the Standard Error (SE)**: \n",
    "   - If the population standard deviation (\\(\\sigma\\)) is known, use \\( SE = \\frac{\\sigma}{\\sqrt{n}} \\).\n",
    "   - If \\(\\sigma\\) is unknown and the sample size is small (n < 30), use the sample standard deviation (\\(s\\)) and the t-distribution: \\( SE = \\frac{s}{\\sqrt{n}} \\).\n",
    "4. **Determine the Critical Value**:\n",
    "   - For a known \\(\\sigma\\) and large sample size, use the z-distribution.\n",
    "   - For unknown \\(\\sigma\\) and small sample size, use the t-distribution.\n",
    "5. **Calculate the Margin of Error (ME)**: Multiply the critical value by the standard error.\n",
    "6. **Construct the Confidence Interval**: Add and subtract the margin of error from the sample mean.\n",
    "\n",
    "### Example\n",
    "\n",
    "#### Scenario:\n",
    "Suppose a researcher wants to estimate the average height of a population of adult men. They take a random sample of 25 men, and the sample mean height is 175 cm with a sample standard deviation of 8 cm. They want to calculate a 95% confidence interval for the population mean height.\n",
    "\n",
    "1. **Select the Confidence Level**: 95%.\n",
    "2. **Sample Mean (\\(\\bar{x}\\))**: 175 cm.\n",
    "3. **Standard Error (SE)**: \n",
    "   \\[\n",
    "   SE = \\frac{s}{\\sqrt{n}} = \\frac{8}{\\sqrt{25}} = \\frac{8}{5} = 1.6\n",
    "   \\]\n",
    "4. **Determine the Critical Value**: \n",
    "   - Since the population standard deviation is unknown and the sample size is small, use the t-distribution.\n",
    "   - Degrees of freedom (df) = n - 1 = 25 - 1 = 24.\n",
    "   - For a 95% confidence level and 24 degrees of freedom, the critical value (t*) from the t-distribution table is approximately 2.064.\n",
    "5. **Calculate the Margin of Error (ME)**:\n",
    "   \\[\n",
    "   ME = t^* \\times SE = 2.064 \\times 1.6 \\approx 3.3024\n",
    "   \\]\n",
    "6. **Construct the Confidence Interval**:\n",
    "   \\[\n",
    "   \\text{Lower limit} = \\bar{x} - ME = 175 - 3.3024 \\approx 171.70\n",
    "   \\]\n",
    "   \\[\n",
    "   \\text{Upper limit} = \\bar{x} + ME = 175 + 3.3024 \\approx 178.30\n",
    "   \\]\n",
    "   \n",
    "Therefore, the 95% confidence interval for the population mean height is approximately (171.70 cm, 178.30 cm).\n",
    "\n",
    "### Interpretation\n",
    "\n",
    "We are 95% confident that the true mean height of the population of adult men lies between 171.70 cm and 178.30 cm. This interval provides a range of plausible values for the population mean based on the sample data."
   ]
  },
  {
   "cell_type": "markdown",
   "metadata": {},
   "source": [
    "### **Q6. Use Bayes' Theorem to calculate the probability of an event occurring given prior knowledge of the event's probability and new evidence. Provide a sample problem and solution.**"
   ]
  },
  {
   "cell_type": "code",
   "execution_count": 2,
   "metadata": {},
   "outputs": [
    {
     "name": "stdout",
     "output_type": "stream",
     "text": [
      "The probability that a component is actually defective given that it tested positive is approximately 0.2857\n"
     ]
    }
   ],
   "source": [
    "# Define the given probabilities\n",
    "P_D = 0.02  # Prior probability of a component being defective\n",
    "P_not_D = 0.98  # Prior probability of a component not being defective\n",
    "P_T_given_D = 0.98  # Probability of testing positive given the component is defective\n",
    "P_T_given_not_D = 0.05  # Probability of testing positive given the component is not defective\n",
    "\n",
    "# Calculate the total probability of testing positive, P(T)\n",
    "P_T = (P_T_given_D * P_D) + (P_T_given_not_D * P_not_D)\n",
    "\n",
    "# Apply Bayes' Theorem to find P(D|T)\n",
    "P_D_given_T = (P_T_given_D * P_D) / P_T\n",
    "\n",
    "# Print the result\n",
    "print(f\"The probability that a component is actually defective given that it tested positive is approximately {P_D_given_T:.4f}\")\n"
   ]
  },
  {
   "cell_type": "markdown",
   "metadata": {},
   "source": [
    "### **Q7. Calculate the 95% confidence interval for a sample of data with a mean of 50 and a standard deviation of 5. Interpret the results.**"
   ]
  },
  {
   "cell_type": "code",
   "execution_count": 7,
   "metadata": {},
   "outputs": [
    {
     "name": "stdout",
     "output_type": "stream",
     "text": [
      "The 95% confidence interval for the sample mean is (48.21, 51.79)\n"
     ]
    }
   ],
   "source": [
    "import math\n",
    "\n",
    "# Given data\n",
    "mean = 50\n",
    "std_dev = 5\n",
    "sample_size = 30\n",
    "confidence_level = 0.95\n",
    "\n",
    "# Calculate the standard error\n",
    "standard_error = std_dev / math.sqrt(sample_size)\n",
    "\n",
    "# For a 95% confidence level, the Z critical value is 1.96\n",
    "Z = 1.96\n",
    "\n",
    "# Calculate the margin of error\n",
    "margin_of_error = Z * standard_error\n",
    "\n",
    "# Calculate the confidence interval\n",
    "lower_bound = mean - margin_of_error\n",
    "upper_bound = mean + margin_of_error\n",
    "\n",
    "# Print the results\n",
    "print(f\"The 95% confidence interval for the sample mean is ({lower_bound:.2f}, {upper_bound:.2f})\")\n"
   ]
  },
  {
   "cell_type": "markdown",
   "metadata": {},
   "source": [
    "### **Q8. What is the margin of error in a confidence interval? How does sample size affect the margin of error? Provide an example of a scenario where a larger sample size would result in a smaller margin of error.**"
   ]
  },
  {
   "cell_type": "markdown",
   "metadata": {},
   "source": [
    "## Margin of Error in a Confidence Interval\n",
    "\n",
    "The **margin of error** (MOE) in a confidence interval is a measure of the range within which the true population parameter is expected to lie with a certain level of confidence. It represents the maximum expected difference between the true population parameter and a sample estimate of that parameter.\n",
    "\n",
    "Mathematically, for a confidence interval around a population mean, the margin of error is calculated as:\n",
    "\n",
    "$$ \\text{MOE} = Z \\cdot \\left(\\frac{\\sigma}{\\sqrt{n}}\\right) $$\n",
    "\n",
    "Where:\n",
    "- \\( Z \\) is the critical value from the standard normal distribution corresponding to the desired confidence level.\n",
    "- \\( \\sigma \\) is the population standard deviation.\n",
    "- \\( n \\) is the sample size.\n",
    "\n",
    "### How Sample Size Affects the Margin of Error\n",
    "\n",
    "The sample size (\\( n \\)) has a direct impact on the margin of error:\n",
    "- As the sample size increases, the standard error (\\( \\frac{\\sigma}{\\sqrt{n}} \\)) decreases.\n",
    "- A smaller standard error results in a smaller margin of error, which leads to a narrower confidence interval.\n",
    "\n",
    "This means that larger sample sizes yield more precise estimates of the population parameter.\n",
    "\n",
    "### Example Scenario\n",
    "\n",
    "#### Scenario:\n",
    "Imagine a survey is conducted to estimate the average height of adult men in a city. The population standard deviation of height is known to be 10 cm. The survey is conducted twice: once with a sample size of 30 and once with a sample size of 300.\n",
    "\n",
    "#### Calculations:\n",
    "\n",
    "1. **For Sample Size of 30**:\n",
    "   - \\( n = 30 \\)\n",
    "   - \\( \\sigma = 10 \\) cm\n",
    "   - For a 95% confidence level, \\( Z \\approx 1.96 \\)\n",
    "\n",
    "   Margin of Error (MOE):\n",
    "\n",
    "   $$ \\text{MOE}_{30} = 1.96 \\cdot \\left(\\frac{10}{\\sqrt{30}}\\right) \\approx 1.96 \\cdot 1.83 \\approx 3.59 \\text{ cm} $$\n",
    "\n",
    "2. **For Sample Size of 300**:\n",
    "   - \\( n = 300 \\)\n",
    "   - \\( \\sigma = 10 \\) cm\n",
    "   - For a 95% confidence level, \\( Z \\approx 1.96 \\)\n",
    "\n",
    "   Margin of Error (MOE):\n",
    "\n",
    "   $$ \\text{MOE}_{300} = 1.96 \\cdot \\left(\\frac{10}{\\sqrt{300}}\\right) \\approx 1.96 \\cdot 0.577 \\approx 1.13 \\text{ cm} $$\n",
    "\n",
    "### Interpretation\n",
    "\n",
    "- **Sample Size 30**: The margin of error is approximately 3.59 cm.\n",
    "- **Sample Size 300**: The margin of error is approximately 1.13 cm.\n",
    "\n",
    "This demonstrates that increasing the sample size from 30 to 300 results in a smaller margin of error. The confidence interval for the average height estimate becomes narrower and more precise as the sample size increases. This precision is crucial in many practical scenarios, such as quality control in manufacturing, where knowing the exact specifications with high confidence is important.\n",
    "\n",
    "### Summary\n",
    "\n",
    "- The margin of error quantifies the uncertainty in an estimate of a population parameter.\n",
    "- Increasing the sample size decreases the margin of error, leading to more precise estimates.\n",
    "- In practice, larger sample sizes are often desired to obtain more reliable and accurate estimates, especially in fields like medicine, marketing, and social sciences.\n"
   ]
  },
  {
   "cell_type": "markdown",
   "metadata": {},
   "source": [
    "### **Q9. Calculate the z-score for a data point with a value of 75, a population mean of 70, and a population standard deviation of 5. Interpret the results.**"
   ]
  },
  {
   "cell_type": "code",
   "execution_count": 10,
   "metadata": {},
   "outputs": [
    {
     "data": {
      "text/plain": [
       "1.0"
      ]
     },
     "execution_count": 10,
     "metadata": {},
     "output_type": "execute_result"
    }
   ],
   "source": [
    "n = 75\n",
    "population_mean = 70\n",
    "population_standard_deviation = 5\n",
    "\n",
    "z_score = (n-population_mean)/population_standard_deviation\n",
    "\n",
    "z_score"
   ]
  },
  {
   "cell_type": "markdown",
   "metadata": {},
   "source": [
    "### **Q10. In a study of the effectiveness of a new weight loss drug, a sample of 50 participants lost an average of 6 pounds with a standard deviation of 2.5 pounds. Conduct a hypothesis test to determine if the drug is significantly effective at a 95% confidence level using a t-test.**"
   ]
  },
  {
   "cell_type": "code",
   "execution_count": 12,
   "metadata": {},
   "outputs": [
    {
     "name": "stdout",
     "output_type": "stream",
     "text": [
      "Reject Null Hypothesis\n"
     ]
    }
   ],
   "source": [
    "import scipy.stats as stats\n",
    "import math\n",
    "n = 50\n",
    "population_mean = 4 # Assumed since not given\n",
    "mean = 6\n",
    "standard_deviation = 2.5\n",
    "level_of_significant = 0.05\n",
    "confidence_level = 0.95\n",
    "\n",
    "\n",
    "t_test = (mean - population_mean)/(standard_deviation/ math.sqrt(n))\n",
    "critical_t_value = stats.t.ppf(1 - level_of_significant / 2, df=sample_size - 1)\n",
    "\n",
    "if t_test > critical_t_value:\n",
    "    print(\"Reject Null Hypothesis\")\n",
    "else:\n",
    "    print(\"Fail to Reject Null Hypothesis\")\n"
   ]
  },
  {
   "cell_type": "markdown",
   "metadata": {},
   "source": [
    "### **Q11. In a survey of 500 people, 65% reported being satisfied with their current job. Calculate the 95% confidence interval for the true proportion of people who are satisfied with their job.**"
   ]
  },
  {
   "cell_type": "code",
   "execution_count": 19,
   "metadata": {},
   "outputs": [
    {
     "name": "stdout",
     "output_type": "stream",
     "text": [
      "The 95% confidence interval for the true proportion of people satisfied with their job is (0.6918, 0.6082)\n"
     ]
    }
   ],
   "source": [
    "import scipy.stats as stats\n",
    "import math\n",
    "\n",
    "# Given data\n",
    "sample_proportion = 0.65\n",
    "sample_size = 500\n",
    "confidence_level = 0.95\n",
    "\n",
    "# Calculate the critical value (Z-score)\n",
    "Z = stats.norm.ppf((1 - confidence_level) / 2)\n",
    "\n",
    "# Calculate the standard error\n",
    "standard_error = math.sqrt((sample_proportion * (1 - sample_proportion)) / sample_size)\n",
    "\n",
    "# Calculate the margin of error\n",
    "margin_of_error = Z * standard_error\n",
    "\n",
    "# Calculate the confidence interval\n",
    "lower_bound = sample_proportion - margin_of_error\n",
    "upper_bound = sample_proportion + margin_of_error\n",
    "\n",
    "# Print the results\n",
    "print(f\"The 95% confidence interval for the true proportion of people satisfied with their job is ({lower_bound:.4f}, {upper_bound:.4f})\")"
   ]
  },
  {
   "cell_type": "markdown",
   "metadata": {},
   "source": [
    "### **Q12. A researcher is testing the effectiveness of two different teaching methods on student performance. Sample A has a mean score of 85 with a standard deviation of 6, while sample B has a mean score of 82 with a standard deviation of 5. Conduct a hypothesis test to determine if the two teaching methods have a significant difference in student performance using a t-test with a significance level of 0.01.**"
   ]
  },
  {
   "cell_type": "code",
   "execution_count": 20,
   "metadata": {},
   "outputs": [
    {
     "name": "stdout",
     "output_type": "stream",
     "text": [
      "Fail to reject the null hypothesis. There is no significant difference in student performance between the two teaching methods.\n"
     ]
    }
   ],
   "source": [
    "import numpy as np\n",
    "import scipy.stats as stats\n",
    "\n",
    "# Given data\n",
    "mean_A = 85\n",
    "std_dev_A = 6\n",
    "mean_B = 82\n",
    "std_dev_B = 5\n",
    "significance_level = 0.01\n",
    "\n",
    "# Assume equal sample sizes for simplicity\n",
    "# You can adjust this based on actual sample sizes if known\n",
    "n_A = 30\n",
    "n_B = 30\n",
    "\n",
    "# Calculate the pooled standard deviation for equal sample sizes\n",
    "pooled_std_dev = np.sqrt(((n_A - 1) * std_dev_A**2 + (n_B - 1) * std_dev_B**2) / (n_A + n_B - 2))\n",
    "\n",
    "# Calculate the t-statistic\n",
    "t_statistic = (mean_A - mean_B) / (pooled_std_dev * np.sqrt(1/n_A + 1/n_B))\n",
    "\n",
    "# Calculate the degrees of freedom\n",
    "degrees_of_freedom = n_A + n_B - 2\n",
    "\n",
    "# Calculate the critical t-value\n",
    "critical_t_value = stats.t.ppf(1 - significance_level / 2, df=degrees_of_freedom)\n",
    "\n",
    "# Compare the calculated t-statistic with the critical t-value\n",
    "if np.abs(t_statistic) > critical_t_value:\n",
    "    print(\"Reject the null hypothesis. There is a significant difference in student performance between the two teaching methods.\")\n",
    "else:\n",
    "    print(\"Fail to reject the null hypothesis. There is no significant difference in student performance between the two teaching methods.\")\n"
   ]
  },
  {
   "cell_type": "markdown",
   "metadata": {},
   "source": [
    "### **Q13. A population has a mean of 60 and a standard deviation of 8. A sample of 50 observations has a mean of 65. Calculate the 90% confidence interval for the true population mean.**"
   ]
  },
  {
   "cell_type": "code",
   "execution_count": 21,
   "metadata": {},
   "outputs": [
    {
     "name": "stdout",
     "output_type": "stream",
     "text": [
      "The 90% confidence interval for the true population mean is (63.1391, 66.8609)\n"
     ]
    }
   ],
   "source": [
    "import scipy.stats as stats\n",
    "import math\n",
    "\n",
    "# Given data\n",
    "sample_mean = 65\n",
    "population_mean = 60\n",
    "population_std_dev = 8\n",
    "sample_size = 50\n",
    "confidence_level = 0.90\n",
    "\n",
    "# Calculate the critical value (Z-score)\n",
    "Z = stats.norm.ppf((1 + confidence_level) / 2)\n",
    "\n",
    "# Calculate the margin of error\n",
    "margin_of_error = Z * (population_std_dev / math.sqrt(sample_size))\n",
    "\n",
    "# Calculate the confidence interval\n",
    "lower_bound = sample_mean - margin_of_error\n",
    "upper_bound = sample_mean + margin_of_error\n",
    "\n",
    "# Print the results\n",
    "print(f\"The 90% confidence interval for the true population mean is ({lower_bound:.4f}, {upper_bound:.4f})\")\n"
   ]
  },
  {
   "cell_type": "markdown",
   "metadata": {},
   "source": [
    "### **Q14. In a study of the effects of caffeine on reaction time, a sample of 30 participants had an average reaction time of 0.25 seconds with a standard deviation of 0.05 seconds. Conduct a hypothesis test to determine if the caffeine has a significant effect on reaction time at a 90% confidence level using a t-test.**"
   ]
  },
  {
   "cell_type": "code",
   "execution_count": 22,
   "metadata": {},
   "outputs": [
    {
     "name": "stdout",
     "output_type": "stream",
     "text": [
      "Fail to reject the null hypothesis. There is no significant effect of caffeine on reaction time.\n"
     ]
    }
   ],
   "source": [
    "import scipy.stats as stats\n",
    "\n",
    "# Given data\n",
    "sample_mean = 0.25\n",
    "sample_std_dev = 0.05\n",
    "sample_size = 30\n",
    "hypothesized_mean = 0.25  # Null hypothesis: no change in reaction time\n",
    "confidence_level = 0.90\n",
    "\n",
    "# Calculate the t-statistic\n",
    "t_statistic = (sample_mean - hypothesized_mean) / (sample_std_dev / (sample_size ** 0.5))\n",
    "\n",
    "# Degrees of freedom\n",
    "degrees_of_freedom = sample_size - 1\n",
    "\n",
    "# Calculate the critical t-value\n",
    "critical_t_value = stats.t.ppf(1 - (1 - confidence_level) / 2, df=degrees_of_freedom)\n",
    "\n",
    "# Compare the calculated t-statistic with the critical t-value\n",
    "if abs(t_statistic) > critical_t_value:\n",
    "    print(\"Reject the null hypothesis. Caffeine has a significant effect on reaction time.\")\n",
    "else:\n",
    "    print(\"Fail to reject the null hypothesis. There is no significant effect of caffeine on reaction time.\")\n"
   ]
  },
  {
   "cell_type": "markdown",
   "metadata": {},
   "source": [
    "# **COMPLETE**"
   ]
  }
 ],
 "metadata": {
  "kernelspec": {
   "display_name": "Python 3",
   "language": "python",
   "name": "python3"
  },
  "language_info": {
   "codemirror_mode": {
    "name": "ipython",
    "version": 3
   },
   "file_extension": ".py",
   "mimetype": "text/x-python",
   "name": "python",
   "nbconvert_exporter": "python",
   "pygments_lexer": "ipython3",
   "version": "3.12.1"
  }
 },
 "nbformat": 4,
 "nbformat_minor": 2
}
