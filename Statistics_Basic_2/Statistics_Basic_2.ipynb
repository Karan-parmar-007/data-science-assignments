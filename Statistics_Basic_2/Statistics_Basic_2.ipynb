{
 "cells": [
  {
   "cell_type": "markdown",
   "metadata": {},
   "source": [
    "# **Statistics Basic-2**"
   ]
  },
  {
   "cell_type": "markdown",
   "metadata": {},
   "source": [
    "### **Q1. What are the three measures of central tendency?**"
   ]
  },
  {
   "cell_type": "markdown",
   "metadata": {},
   "source": [
    "The three measures of central tendency are:\n",
    "\n",
    "1. **Mean**: The arithmetic average of a set of values, calculated by summing all the values and dividing by the number of values.\n",
    "2. **Median**: The middle value in a set of ordered values, such that half the values are above it and half are below it. If there is an even number of values, the median is the average of the two middle values.\n",
    "3. **Mode**: The value that appears most frequently in a set of values. A data set may have one mode, more than one mode, or no mode at all if no number repeats.\n",
    "\n",
    "These measures provide different perspectives on the central point of a data set."
   ]
  },
  {
   "cell_type": "markdown",
   "metadata": {},
   "source": [
    "### **Q2. What is the difference between the mean, median, and mode? How are they used to measure the central tendency of a dataset?**"
   ]
  },
  {
   "cell_type": "markdown",
   "metadata": {},
   "source": [
    "The mean, median, and mode are all measures of central tendency, each providing a different method to represent the center of a dataset. Here are the key differences and their uses:\n",
    "\n",
    "1. **Mean**:\n",
    "    - **Definition**: The mean is the arithmetic average of all the values in a dataset. It is calculated by summing all the values and then dividing by the number of values.\n",
    "    - **Usage**: The mean is useful for datasets with values that are evenly distributed without extreme outliers. It takes all values into account, which can provide a balanced measure of central tendency.\n",
    "    - **Sensitivity**: It is sensitive to outliers and skewed data, which can distort the mean.\n",
    "\n",
    "2. **Median**:\n",
    "    - **Definition**: The median is the middle value of a dataset when the values are arranged in ascending or descending order. If there is an even number of values, the median is the average of the two middle values.\n",
    "    - **Calculation**: Order the values and find the middle one (or the average of the two middle ones).\n",
    "    - **Usage**: The median is useful for skewed distributions or datasets with outliers because it is not affected by extreme values. It represents the point at which half the values are above and half are below.\n",
    "    - **Sensitivity**: It is robust to outliers and skewed data.\n",
    "\n",
    "3. **Mode**:\n",
    "    - **Definition**: The mode is the value that appears most frequently in a dataset. A dataset can have one mode (unimodal), more than one mode (bimodal or multimodal), or no mode if no value repeats.\n",
    "    - **Calculation**: Identify the value(s) that occur most frequently.\n",
    "    - **Usage**: The mode is useful for categorical data or for identifying the most common value in a dataset. It can provide insights into the frequency distribution of the data.\n",
    "    - **Sensitivity**: It is not affected by outliers but may not be a useful measure for all types of data, especially if the data set has many unique values or no repeating values.\n",
    "\n",
    "### Summary of Uses:\n",
    "- **Mean**: Best for datasets without outliers or skewed data; provides a comprehensive measure considering all data points.\n",
    "- **Median**: Best for skewed distributions or data with outliers; represents the middle point of the dataset.\n",
    "- **Mode**: Best for categorical data or for identifying the most frequent value in a dataset; useful for understanding frequency distribution.\n",
    "\n",
    "Each measure gives a different perspective on the central tendency, and the choice of which to use depends on the nature of the dataset and the specific analysis goals."
   ]
  },
  {
   "cell_type": "markdown",
   "metadata": {},
   "source": [
    "### **Q3. Measure the three measures of central tendency for the given height data:**\n",
    "[178,177,176,177,178.2,178,175,179,180,175,178.9,176.2,177,172.5,178,176.5]"
   ]
  },
  {
   "cell_type": "code",
   "execution_count": 2,
   "metadata": {},
   "outputs": [
    {
     "name": "stdout",
     "output_type": "stream",
     "text": [
      "Mean: 177.01875\n",
      "Median: 177.0\n",
      "Mode: 177.0 (appears 3 times)\n"
     ]
    }
   ],
   "source": [
    "import numpy as np\n",
    "from scipy import stats\n",
    "\n",
    "height_data = [178, 177, 176, 177, 178.2, 178, 175, 179, 180, 175, 178.9, 176.2, 177, 172.5, 178, 176.5]\n",
    "\n",
    "mean_height = np.mean(height_data)\n",
    "\n",
    "median_height = np.median(height_data)\n",
    "\n",
    "mode_height = stats.mode(height_data, keepdims=True)\n",
    "\n",
    "print(f\"Mean: {mean_height}\")\n",
    "print(f\"Median: {median_height}\")\n",
    "print(f\"Mode: {mode_height.mode[0]} (appears {mode_height.count[0]} times)\")\n"
   ]
  },
  {
   "cell_type": "markdown",
   "metadata": {},
   "source": [
    "### **Q4. Find the standard deviation for the given data:**\n",
    "[178,177,176,177,178.2,178,175,179,180,175,178.9,176.2,177,172.5,178,176.5]"
   ]
  },
  {
   "cell_type": "code",
   "execution_count": 5,
   "metadata": {},
   "outputs": [
    {
     "name": "stdout",
     "output_type": "stream",
     "text": [
      "Standard Deviation: 1.7885814036548633\n"
     ]
    }
   ],
   "source": [
    "import numpy as np\n",
    "\n",
    "data = [178, 177, 176, 177, 178.2, 178, 175, 179, 180, 175, 178.9, 176.2, 177, 172.5, 178, 176.5]\n",
    "\n",
    "standard_deviation = np.std(data)  \n",
    "\n",
    "print(f\"Standard Deviation: {standard_deviation}\")\n"
   ]
  },
  {
   "cell_type": "markdown",
   "metadata": {},
   "source": [
    "### **Q5. How are measures of dispersion such as range, variance, and standard deviation used to describe the spread of a dataset? Provide an example.**"
   ]
  },
  {
   "cell_type": "markdown",
   "metadata": {},
   "source": [
    "Measures of dispersion, such as range, variance, and standard deviation, are used to describe the spread or variability of a dataset. They provide insights into how much the data points differ from the central tendency (mean, median, or mode) and from each other. Here's how each measure is used:\n",
    "\n",
    "1. **Range**:\n",
    "    - **Definition**: The range is the difference between the highest and lowest values in a dataset.\n",
    "    - **Usage**: It gives a quick sense of the spread but does not provide information about the distribution of values within that range.\n",
    "    - **Example**: For the dataset \\([178, 177, 176, 177, 178.2, 178, 175, 179, 180, 175, 178.9, 176.2, 177, 172.5, 178, 176.5]\\), the range is \\(180 - 172.5 = 7.5\\).\n",
    "\n",
    "2. **Variance**:\n",
    "    - **Definition**: Variance measures the average squared deviation of each data point from the mean. It gives an idea of how much the data points vary from the mean.\n",
    "    - **Usage**: It is useful for understanding the degree of spread in the data, with larger variance indicating greater dispersion.\n",
    "\n",
    "    - **Example**: For the same dataset, calculating variance involves finding the mean first and then averaging the squared differences from the mean.\n",
    "\n",
    "3. **Standard Deviation**:\n",
    "    - **Definition**: Standard deviation is the square root of the variance. It is expressed in the same units as the data, making it easier to interpret.\n",
    "    - **Usage**: It provides a measure of the average distance of each data point from the mean. A smaller standard deviation indicates that the data points are close to the mean, while a larger standard deviation indicates greater spread.\n",
    "    - **Example**: For the dataset \\([178, 177, 176, 177, 178.2, 178, 175, 179, 180, 175, 178.9, 176.2, 177, 172.5, 178, 176.5]\\), we previously calculated the standard deviation to be approximately 1.7886.\n",
    "\n",
    "### Example Calculation:\n",
    "\n",
    "Consider the dataset \\([178, 177, 176, 177, 178.2, 178, 175, 179, 180, 175, 178.9, 176.2, 177, 172.5, 178, 176.5]\\):\n",
    "\n",
    "1. **Range**:\n",
    "    - Highest value: 180\n",
    "    - Lowest value: 172.5\n",
    "    - Range: 180 - 172.5 = 7.5\n",
    "\n",
    "2. **Variance**:\n",
    "    - Mean: 177.01875\n",
    "    - Variance: 3.198\n",
    "\n",
    "3. **Standard Deviation**:\n",
    "    - Standard Deviation: 1.7886\n",
    "\n",
    "These measures help describe the spread of the dataset, providing insight into the variability and distribution of the data points around the central tendency."
   ]
  },
  {
   "cell_type": "markdown",
   "metadata": {},
   "source": [
    "### **Q6. What is a Venn diagram?**"
   ]
  },
  {
   "cell_type": "markdown",
   "metadata": {},
   "source": [
    "A Venn diagram is a visual representation used to show the relationships between different sets. It consists of overlapping circles, each representing a set. The areas where the circles overlap represent the common elements shared by the sets, while the areas where the circles do not overlap represent elements unique to each set.\n",
    "\n",
    "### Key Features of a Venn Diagram:\n",
    "- **Circles**: Each circle represents a different set.\n",
    "- **Overlapping Regions**: The intersections of circles represent the common elements between the sets.\n",
    "- **Non-overlapping Regions**: These areas indicate elements that are unique to a particular set.\n",
    "\n",
    "### Uses of Venn Diagrams:\n",
    "- **Set Theory**: Illustrating relationships and operations between sets, such as unions, intersections, and differences.\n",
    "- **Logic and Probability**: Showing logical relations and probabilities of events.\n",
    "- **Data Science**: Visualizing similarities and differences between data groups.\n",
    "- **Problem Solving**: Identifying commonalities and differences among concepts or groups.\n",
    "\n",
    "### Example:\n",
    "Consider three sets:\n",
    "- \\(A = \\{1, 2, 3, 4\\}\\)\n",
    "- \\(B = \\{3, 4, 5, 6\\}\\)\n",
    "- \\(C = \\{4, 6, 7, 8\\}\\)\n",
    "\n",
    "A Venn diagram for these sets would have three overlapping circles. The intersections would show:\n",
    "- \\(A intersection B = \\{3, 4\\}\\)\n",
    "- \\(A intersection C = \\{4\\}\\)\n",
    "- \\(B intersection C = \\{4, 6\\}\\)\n",
    "- \\(A intersection B intersection C = \\{4\\}\\)\n",
    "\n",
    "The areas outside the intersections would show the elements unique to each set:\n",
    "- Unique to \\(A\\): \\{1, 2\\}\n",
    "- Unique to \\(B\\): \\{5\\}\n",
    "- Unique to \\(C\\): \\{7, 8\\}\n",
    "\n",
    "Venn diagrams are powerful tools for visualizing and analyzing the relationships between multiple sets, making complex information easier to understand."
   ]
  },
  {
   "cell_type": "markdown",
   "metadata": {},
   "source": [
    "### **Q7. For the two given sets A = (2,3,4,5,6,7) & B = (0,2,6,8,10). Find:**\n",
    "(i) A intersection B\n",
    "\n",
    "(ii) A ⋃ B"
   ]
  },
  {
   "cell_type": "code",
   "execution_count": 7,
   "metadata": {},
   "outputs": [
    {
     "name": "stdout",
     "output_type": "stream",
     "text": [
      "A ∩ B: {2, 6}\n",
      "A ⋃ B: {0, 2, 3, 4, 5, 6, 7, 8, 10}\n"
     ]
    }
   ],
   "source": [
    "A = {2, 3, 4, 5, 6, 7}\n",
    "B = {0, 2, 6, 8, 10}\n",
    "\n",
    "intersection = A & B\n",
    "\n",
    "union = A | B\n",
    "\n",
    "print(f\"A ∩ B: {intersection}\")\n",
    "print(f\"A ⋃ B: {union}\")\n"
   ]
  },
  {
   "cell_type": "markdown",
   "metadata": {},
   "source": [
    "### **Q8. What do you understand about skewness in data?**"
   ]
  },
  {
   "cell_type": "markdown",
   "metadata": {},
   "source": [
    "Skewness in data refers to the measure of asymmetry in the distribution of values in a dataset. It indicates the extent to which the data deviates from a symmetrical, bell-shaped distribution (normal distribution). Skewness can be positive, negative, or zero, and it helps in understanding the direction and magnitude of the skew.\n",
    "\n",
    "### Types of Skewness:\n",
    "\n",
    "1. **Positive Skewness (Right Skewness)**:\n",
    "    - **Description**: The tail on the right side of the distribution is longer or fatter than the left side.\n",
    "    - **Characteristics**: Most data points are concentrated on the left, with a few larger values stretching the tail to the right.\n",
    "    - **Implications**: The mean is typically greater than the median.\n",
    "    - **Example**: Income distribution in many societies, where most people earn below average, but a few high earners increase the mean.\n",
    "\n",
    "2. **Negative Skewness (Left Skewness)**:\n",
    "    - **Description**: The tail on the left side of the distribution is longer or fatter than the right side.\n",
    "    - **Characteristics**: Most data points are concentrated on the right, with a few smaller values stretching the tail to the left.\n",
    "    - **Implications**: The mean is typically less than the median.\n",
    "    - **Example**: Age of retirement, where most people retire at an age close to the upper limit, but a few retire earlier.\n",
    "\n",
    "3. **Zero Skewness (Symmetrical Distribution)**:\n",
    "    - **Description**: The distribution is symmetrical, with tails on both sides of the mean being mirror images of each other.\n",
    "    - **Characteristics**: The mean, median, and mode are all equal.\n",
    "    - **Example**: Heights of adult men in a well-defined population tend to be symmetrically distributed around the average height.\n",
    "\n",
    "### Measuring Skewness:\n",
    "Skewness can be quantified using statistical formulas. A common measure is the sample skewness, calculated as:\n",
    "\n",
    "\n",
    "### Importance of Skewness:\n",
    "- **Data Analysis**: Understanding skewness helps in choosing the appropriate statistical methods and transformations for analysis.\n",
    "- **Data Interpretation**: Skewness provides insights into the underlying patterns and potential anomalies in the data.\n",
    "- **Decision Making**: In fields like finance, skewness helps in assessing the risk and return profiles of investments.\n",
    "\n",
    "### Example:\n",
    "Consider a dataset of exam scores:\n",
    "- **Positive Skewness**: Most students scored between 50 and 70, but a few scored above 90.\n",
    "- **Negative Skewness**: Most students scored between 70 and 90, but a few scored below 50.\n",
    "- **Zero Skewness**: Scores are evenly distributed around the mean, with equal numbers of students scoring above and below the mean.\n",
    "\n",
    "Understanding skewness helps in better interpreting the distribution of data and making informed decisions based on its characteristics."
   ]
  },
  {
   "cell_type": "markdown",
   "metadata": {},
   "source": [
    "### **Q9. If a data is right skewed then what will be the position of median with respect to mean?**"
   ]
  },
  {
   "cell_type": "markdown",
   "metadata": {},
   "source": [
    "In a right-skewed distribution, the tail on the right-hand side of the distribution is longer or fatter than the tail on the left-hand side. In this case, the mean is typically larger than the median because the mean is influenced by extreme values in the longer right tail.\n",
    "\n",
    "So, with respect to the mean:\n",
    "\n",
    "- In a right-skewed distribution, the median will be to the left of the mean.\n",
    "- In a left-skewed distribution, it will be the opposite; the mean will be to the right of the median."
   ]
  },
  {
   "cell_type": "markdown",
   "metadata": {},
   "source": [
    "### **Q10. Explain the difference between covariance and correlation. How are these measures used in statistical analysis?**"
   ]
  },
  {
   "cell_type": "markdown",
   "metadata": {},
   "source": [
    "Covariance and correlation are both measures used to quantify the relationship between two variables in statistics, but they have some key differences.\n",
    "\n",
    "1. **Covariance**:\n",
    "   - Covariance measures the degree to which two variables change together. \n",
    "   - It indicates the direction of the linear relationship between variables. A positive covariance means that as one variable increases, the other tends to also increase, while a negative covariance means that as one variable increases, the other tends to decrease.\n",
    "   - However, covariance doesn't provide a standardized measure, so it can be difficult to interpret. It's influenced by the scale of the variables, making it hard to compare covariances across different datasets.\n",
    "\n",
    "2. **Correlation**:\n",
    "   - Correlation is a standardized measure of the relationship between two variables.\n",
    "   - It ranges from -1 to 1, where:\n",
    "      - 1 indicates a perfect positive linear relationship,\n",
    "      - -1 indicates a perfect negative linear relationship, and\n",
    "      - 0 indicates no linear relationship.\n",
    "   - Correlation standardizes the covariance by dividing it by the product of the standard deviations of the two variables, making it unitless and easier to interpret.\n",
    "   - Correlation also indicates the strength and direction of the linear relationship between variables, similar to covariance.\n",
    "\n",
    "In statistical analysis:\n",
    "- Covariance is used to understand how two variables change together. For example, it can be used to study the relationship between the returns of two different stocks in finance.\n",
    "- Correlation is often preferred over covariance because it provides a standardized measure that is easier to interpret and compare. It's widely used in various fields, such as finance, economics, social sciences, and more, to understand the strength and direction of relationships between variables while controlling for differences in scale."
   ]
  },
  {
   "cell_type": "markdown",
   "metadata": {},
   "source": [
    "### **Q11. What is the formula for calculating the sample mean? Provide an example calculation for a dataset.**"
   ]
  },
  {
   "attachments": {
    "image.png": {
     "image/png": "[encoded data removed]"
    }
   },
   "cell_type": "markdown",
   "metadata": {},
   "source": [
    "The formula for calculating the sample mean, denoted by \\(\\bar{x}\\), is:\n",
    "\n",
    "\n",
    "![image.png](attachment:image.png)\n",
    "\n",
    "\n",
    "Here's an example calculation:\n",
    "\n",
    "Let's say we have the following dataset representing the scores of 5 students in a test: \n",
    "\n",
    "[75, 80, 85, 90, 95]\n",
    "\n",
    "To find the sample mean, we sum up all the scores and divide by the total number of scores:\n",
    "\n",
    "\n",
    "\\bar{x} = 75 + 80 + 85 + 90 + 95 / 5 =  85\n",
    "\n",
    "\n",
    "So, the sample mean score for this dataset is 85."
   ]
  },
  {
   "cell_type": "markdown",
   "metadata": {},
   "source": [
    "### **Q12. For a normal distribution data what is the relationship between its measure of central tendency?**"
   ]
  },
  {
   "cell_type": "markdown",
   "metadata": {},
   "source": [
    "For a normal distribution, the measures of central tendency, namely the mean, median, and mode, are all equal and located at the center of the distribution.\n",
    "\n",
    "- **Mean**: In a normal distribution, the mean is the arithmetic average of all the data points. It represents the balance point of the distribution.\n",
    "- **Median**: The median is the middle value of the dataset when arranged in ascending or descending order. In a normal distribution, the median is also equal to the mean.\n",
    "- **Mode**: The mode is the value that appears most frequently in the dataset. In a normal distribution, the mode is also equal to the mean and median.\n",
    "\n",
    "In summary, for a normal distribution:\n",
    "\n",
    "Mean = Median = Mode\n",
    "\n",
    "This relationship holds true regardless of the shape, spread, or scale of the normal distribution."
   ]
  },
  {
   "cell_type": "markdown",
   "metadata": {},
   "source": [
    "### **Q13. How is covariance different from correlation?**"
   ]
  },
  {
   "cell_type": "markdown",
   "metadata": {},
   "source": [
    "Covariance and correlation are both measures used to quantify the relationship between two variables, but they have some key differences:\n",
    "\n",
    "1. **Definition**:\n",
    "   - **Covariance**: Covariance measures the degree to which two variables change together. It indicates the direction of the linear relationship between variables. A positive covariance means that as one variable increases, the other tends to also increase, while a negative covariance means that as one variable increases, the other tends to decrease.\n",
    "   - **Correlation**: Correlation is a standardized measure of the relationship between two variables. It ranges from -1 to 1, where 1 indicates a perfect positive linear relationship, -1 indicates a perfect negative linear relationship, and 0 indicates no linear relationship. Correlation standardizes the covariance by dividing it by the product of the standard deviations of the two variables, making it unitless and easier to interpret.\n",
    "\n",
    "2. **Scale**:\n",
    "   - **Covariance** is influenced by the scale of the variables. Therefore, it can be difficult to interpret covariances across different datasets.\n",
    "   - **Correlation** is unitless and does not depend on the scale of the variables, making it easier to compare relationships between variables.\n",
    "\n",
    "3. **Interpretation**:\n",
    "   - **Covariance** provides a measure of the direction of the relationship between two variables but does not indicate the strength or magnitude of the relationship.\n",
    "   - **Correlation** not only indicates the direction but also the strength and direction of the linear relationship between variables.\n",
    "\n",
    "4. **Range**:\n",
    "   - **Covariance** can range from negative infinity to positive infinity.\n",
    "   - **Correlation** ranges from -1 to 1, with -1 indicating a perfect negative linear relationship, 1 indicating a perfect positive linear relationship, and 0 indicating no linear relationship.\n",
    "\n",
    "In summary, while both covariance and correlation measure the relationship between two variables, correlation provides a standardized measure that is easier to interpret and compare across different datasets, as it is unitless and always ranges between -1 and 1."
   ]
  },
  {
   "cell_type": "markdown",
   "metadata": {},
   "source": [
    "### **Q14. How do outliers affect measures of central tendency and dispersion? Provide an example.**"
   ]
  },
  {
   "cell_type": "markdown",
   "metadata": {},
   "source": [
    "Outliers can significantly impact measures of central tendency and dispersion:\n",
    "\n",
    "1. **Measures of Central Tendency**:\n",
    "   - **Mean**: Outliers can greatly influence the mean, pulling it towards their extreme values. A single outlier can distort the mean significantly, especially in smaller datasets.\n",
    "   - **Median**: The median is less affected by outliers compared to the mean. Since it represents the middle value when the data is sorted, outliers have less influence on its value.\n",
    "   - **Mode**: Outliers do not affect the mode directly because it represents the most frequently occurring value in the dataset. However, if an outlier appears frequently, it can create a new mode or change the existing mode.\n",
    "\n",
    "2. **Measures of Dispersion**:\n",
    "   - **Range**: Outliers can increase the range of the dataset, as they contribute to the maximum or minimum values.\n",
    "   - **Standard Deviation/Variance**: Outliers can significantly affect the standard deviation and variance, especially when using the sample-based formulas. They can inflate the measure of spread because the squared differences between each data point and the mean are used in the calculation.\n",
    "   - **Interquartile Range (IQR)**: The presence of outliers can affect the spread of the middle 50% of the data (the IQR). Outliers can increase the range between the first and third quartiles, leading to a wider IQR.\n",
    "\n",
    "**Example**:\n",
    "Consider a dataset of exam scores:\n",
    "\n",
    "[65, 70, 75, 80, 85, 90, 95, 100, 105]\n",
    "\n",
    "Adding an outlier, say 150, would significantly affect various measures:\n",
    "\n",
    "- **Mean**: Without the outlier: 720/9 = 80. With the outlier:870/10 = 87.\n",
    "- **Median**: Without the outlier: 85. With the outlier: 87.5.\n",
    "- **Standard Deviation**: Without the outlier: approximately 14.85. With the outlier: approximately 27.36.\n",
    "- **Range**: Without the outlier: 105 - 65 = 40. With the outlier: 150 - 65 = 85.\n",
    "\n",
    "In this example, the outlier has shifted both the mean and median upwards, increased the standard deviation, and widened the range of the dataset."
   ]
  },
  {
   "cell_type": "markdown",
   "metadata": {},
   "source": [
    "# *Complete*"
   ]
  },
  {
   "cell_type": "markdown",
   "metadata": {},
   "source": []
  }
 ],
 "metadata": {
  "kernelspec": {
   "display_name": "Python 3",
   "language": "python",
   "name": "python3"
  },
  "language_info": {
   "codemirror_mode": {
    "name": "ipython",
    "version": 3
   },
   "file_extension": ".py",
   "mimetype": "text/x-python",
   "name": "python",
   "nbconvert_exporter": "python",
   "pygments_lexer": "ipython3",
   "version": "3.12.1"
  }
 },
 "nbformat": 4,
 "nbformat_minor": 2
}
