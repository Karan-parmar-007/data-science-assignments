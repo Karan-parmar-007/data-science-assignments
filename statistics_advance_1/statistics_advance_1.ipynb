{
 "cells": [
  {
   "cell_type": "markdown",
   "metadata": {},
   "source": [
    "# **Statistics Advance 1**"
   ]
  },
  {
   "cell_type": "markdown",
   "metadata": {},
   "source": [
    "### **Q1. What is the Probability density function?**"
   ]
  },
  {
   "cell_type": "markdown",
   "metadata": {},
   "source": [
    "The Probability Density Function (PDF) is a fundamental concept in probability theory and statistics, particularly in the context of continuous random variables. It describes the likelihood of a random variable to take on a particular value.\n",
    "\n",
    "The Probability Density Function is a crucial tool in understanding the distribution of continuous random variables. It allows us to quantify and calculate the likelihood of different outcomes within a continuous range and provides insights into the behavior and properties of the random variable in question."
   ]
  },
  {
   "cell_type": "markdown",
   "metadata": {},
   "source": [
    "### **Q2. What are the types of Probability distribution?**"
   ]
  },
  {
   "cell_type": "markdown",
   "metadata": {},
   "source": [
    "Probability distributions can be broadly categorized into two main types: discrete and continuous distributions. Each type includes various specific distributions that are commonly used in statistics and probability theory. Here is an overview of the main types and some examples of each.\n",
    "\n",
    "### 1. Discrete Probability Distributions\n",
    "Discrete probability distributions describe the probabilities of the outcomes of a discrete random variable (a variable that can take on a countable number of distinct values).\n",
    "\n",
    "#### Examples:\n",
    "1. **Binomial Distribution**:\n",
    "   - **Description**: Represents the number of successes in a fixed number of independent Bernoulli trials (yes/no experiments) with the same probability of success.\n",
    "   - **Example**: Flipping a coin 10 times and counting the number of heads.\n",
    "   \n",
    "2. **Poisson Distribution**:\n",
    "   - **Description**: Describes the number of events occurring within a fixed interval of time or space when the events happen independently at a constant rate.\n",
    "   - **Example**: Number of emails received in an hour.\n",
    "\n",
    "3. **Geometric Distribution**:\n",
    "   - **Description**: Represents the number of trials needed to get the first success in a series of independent Bernoulli trials.\n",
    "   - **Example**: Number of coin flips needed to get the first head.\n",
    "\n",
    "4. **Negative Binomial Distribution**:\n",
    "   - **Description**: Generalization of the geometric distribution, representing the number of trials needed to achieve a specified number of successes.\n",
    "   - **Example**: Number of trials needed to get 5 heads when flipping a coin.\n",
    "\n",
    "5. **Hypergeometric Distribution**:\n",
    "   - **Description**: Describes the number of successes in a sequence of draws from a finite population without replacement.\n",
    "   - **Example**: Number of red balls drawn from a bag containing a mix of red and blue balls.\n",
    "\n",
    "### 2. Continuous Probability Distributions\n",
    "Continuous probability distributions describe the probabilities of the outcomes of a continuous random variable (a variable that can take on an infinite number of values within a given range).\n",
    "\n",
    "#### Examples:\n",
    "1. **Normal Distribution (Gaussian Distribution)**:\n",
    "   - **Description**: A symmetric, bell-shaped distribution characterized by its mean and standard deviation.\n",
    "   - **Example**: Heights of people in a population.\n",
    "\n",
    "2. **Exponential Distribution**:\n",
    "   - **Description**: Describes the time between events in a Poisson process, where events occur continuously and independently at a constant rate.\n",
    "   - **Example**: Time between arrivals of customers at a bank.\n",
    "\n",
    "3. **Uniform Distribution**:\n",
    "   - **Description**: All outcomes in a specified range are equally likely.\n",
    "   - **Example**: Rolling a fair die.\n",
    "\n",
    "4. **Beta Distribution**:\n",
    "   - **Description**: A family of continuous distributions defined on the interval [0, 1], often used to model probabilities and proportions.\n",
    "   - **Example**: Probabilities of success in a binomial distribution with unknown probability of success.\n",
    "\n",
    "5. **Gamma Distribution**:\n",
    "   - **Description**: Generalizes the exponential distribution and is used to model waiting times for multiple events to occur.\n",
    "   - **Example**: Waiting time until the 3rd earthquake occurs.\n",
    "\n",
    "6. **Chi-Square Distribution**:\n",
    "   - **Description**: A special case of the gamma distribution, often used in hypothesis testing and confidence interval estimation.\n",
    "   - **Example**: Distribution of a test statistic in a chi-square test.\n",
    "\n",
    "7. **Log-Normal Distribution**:\n",
    "   - **Description**: The distribution of a variable whose logarithm is normally distributed.\n",
    "   - **Example**: Distribution of incomes.\n",
    "\n",
    "### Summary\n",
    "Understanding these types of probability distributions is crucial for statistical analysis, modeling, and hypothesis testing in various fields, including finance, science, engineering, and social sciences. Each distribution has its unique properties and applications, making them valuable tools for interpreting and analyzing data."
   ]
  },
  {
   "cell_type": "markdown",
   "metadata": {},
   "source": [
    "### **Q3. Write a Python function to calculate the probability density function of a normal distribution with given mean and standard deviation at a given point.**"
   ]
  },
  {
   "cell_type": "code",
   "execution_count": 1,
   "metadata": {},
   "outputs": [
    {
     "name": "stdout",
     "output_type": "stream",
     "text": [
      "The PDF of the normal distribution at x = 1.0 is 0.24197072451914337\n"
     ]
    }
   ],
   "source": [
    "import math\n",
    "\n",
    "def normal_pdf(x, mean, std_dev):\n",
    "\n",
    "    variance = std_dev ** 2\n",
    "    denominator = math.sqrt(2 * math.pi * variance)\n",
    "    numerator = math.exp(-((x - mean) ** 2) / (2 * variance))\n",
    "    return numerator / denominator\n",
    "\n",
    "# Example usage\n",
    "x = 1.0\n",
    "mean = 0.0\n",
    "std_dev = 1.0\n",
    "pdf_value = normal_pdf(x, mean, std_dev)\n",
    "print(f\"The PDF of the normal distribution at x = {x} is {pdf_value}\")\n"
   ]
  },
  {
   "cell_type": "markdown",
   "metadata": {},
   "source": [
    "### **Q4. What are the properties of Binomial distribution? Give two examples of events where binomial distribution can be applied.**"
   ]
  },
  {
   "cell_type": "markdown",
   "metadata": {},
   "source": [
    "The binomial distribution is a discrete probability distribution that describes the number of successes in a fixed number of independent Bernoulli trials, each with the same probability of success. Here are its key properties and some examples of events where it can be applied.\n",
    "\n",
    "### Properties of Binomial Distribution:\n",
    "1. **Fixed Number of Trials (n)**:\n",
    "   - The experiment consists of \\( n \\) identical trials.\n",
    "\n",
    "2. **Two Possible Outcomes**:\n",
    "   - Each trial has only two possible outcomes: success (with probability \\( p \\)) and failure (with probability \\( q = 1 - p \\)).\n",
    "\n",
    "3. **Constant Probability**:\n",
    "   - The probability of success \\( p \\) is constant for each trial.\n",
    "\n",
    "4. **Independent Trials**:\n",
    "   - Each trial is independent of the others, meaning the outcome of one trial does not affect the outcome of another.\n",
    "\n",
    "5. **Random Variable (X)**:\n",
    "   - The random variable \\( X \\) represents the number of successes in \\( n \\) trials.\n",
    "\n",
    "6. **Probability Mass Function (PMF)**:\n",
    "   - The probability of getting exactly \\( k \\) successes in \\( n \\) trials is given by the formula:\n",
    "     \\[\n",
    "     P(X = k) = \\binom{n}{k} p^k (1 - p)^{n - k}\n",
    "     \\]\n",
    "     where \\( \\binom{n}{k} \\) is the binomial coefficient, calculated as:\n",
    "     \\[\n",
    "     \\binom{n}{k} = \\frac{n!}{k!(n - k)!}\n",
    "     \\]\n",
    "\n",
    "7. **Mean and Variance**:\n",
    "   - The mean (expected value) of the binomial distribution is \\( \\mu = np \\).\n",
    "   - The variance of the binomial distribution is \\( \\sigma^2 = np(1 - p) \\).\n",
    "\n",
    "### Examples of Events where Binomial Distribution can be Applied:\n",
    "\n",
    "1. **Quality Control in Manufacturing**:\n",
    "   - Suppose a factory produces light bulbs, and the probability that a randomly selected bulb is defective is \\( p = 0.02 \\). If a quality control inspector selects 50 bulbs at random, the number of defective bulbs in this sample can be modeled using a binomial distribution with \\( n = 50 \\) and \\( p = 0.02 \\).\n",
    "\n",
    "2. **Survey Responses**:\n",
    "   - Consider a survey where each respondent is asked if they prefer a new product over an old one. Assume the probability that a respondent prefers the new product is \\( p = 0.6 \\). If 100 people are surveyed, the number of people who prefer the new product follows a binomial distribution with \\( n = 100 \\) and \\( p = 0.6 \\).\n",
    "\n",
    "### Summary:\n",
    "The binomial distribution is useful in scenarios where there are a fixed number of trials, each with two possible outcomes, a constant probability of success, and independent trials. It is widely used in quality control, survey analysis, and any other context where such conditions are met."
   ]
  },
  {
   "cell_type": "markdown",
   "metadata": {},
   "source": [
    "### **Q5. Generate a random sample of size 1000 from a binomial distribution with probability of success 0.4 and plot a histogram of the results using matplotlib.**"
   ]
  },
  {
   "cell_type": "code",
   "execution_count": 6,
   "metadata": {},
   "outputs": [
    {
     "data": {
      "image/png": "[encoded data removed]",
      "text/plain": [
       "<Figure size 1000x600 with 1 Axes>"
      ]
     },
     "metadata": {},
     "output_type": "display_data"
    }
   ],
   "source": [
    "import numpy as np\n",
    "import matplotlib.pyplot as plt\n",
    "\n",
    "# Parameters for the binomial distribution\n",
    "n_trials = 10  # number of trials in each experiment\n",
    "p_success = 0.4  # probability of success in each trial\n",
    "sample_size = 1000  # number of experiments\n",
    "\n",
    "# Generate a random sample from the binomial distribution\n",
    "sample = np.random.binomial(n=n_trials, p=p_success, size=sample_size)\n",
    "\n",
    "# Plot the histogram of the results\n",
    "plt.figure(figsize=(10, 6))\n",
    "plt.hist(sample, bins=range(n_trials+2), edgecolor='black', alpha=0.7)\n",
    "plt.title('Histogram of Binomial Distribution (n=10, p=0.4)')\n",
    "plt.xlabel('Number of Successes')\n",
    "plt.ylabel('Frequency')\n",
    "plt.grid(True)\n",
    "plt.show()\n"
   ]
  },
  {
   "cell_type": "markdown",
   "metadata": {},
   "source": [
    "### **Q6. Write a Python function to calculate the cumulative distribution function of a Poisson distribution with given mean at a given point.**"
   ]
  },
  {
   "cell_type": "code",
   "execution_count": 7,
   "metadata": {},
   "outputs": [
    {
     "name": "stdout",
     "output_type": "stream",
     "text": [
      "The CDF of the Poisson distribution at k = 5 with mean λ = 3.0 is 0.9161\n"
     ]
    }
   ],
   "source": [
    "import math\n",
    "\n",
    "def poisson_cdf(k, lam):\n",
    "\n",
    "    cdf = 0\n",
    "    for i in range(0, k + 1):\n",
    "        cdf += (math.exp(-lam) * lam**i) / math.factorial(i)\n",
    "    return cdf\n",
    "\n",
    "# Example usage\n",
    "k = 5\n",
    "lam = 3.0\n",
    "cdf_value = poisson_cdf(k, lam)\n",
    "print(f\"The CDF of the Poisson distribution at k = {k} with mean λ = {lam} is {cdf_value:.4f}\")\n"
   ]
  },
  {
   "cell_type": "markdown",
   "metadata": {},
   "source": [
    "### **Q7. How Binomial distribution different from Poisson distribution?**"
   ]
  },
  {
   "cell_type": "markdown",
   "metadata": {},
   "source": [
    "The Binomial and Poisson distributions are both discrete probability distributions, but they differ in their applications, assumptions, and properties. Here are the key differences between the two:\n",
    "\n",
    "1. Nature of Experiments:\n",
    "Binomial Distribution:\n",
    "Used for experiments with a fixed number of independent trials.\n",
    "Each trial has exactly two possible outcomes: success or failure.\n",
    "The probability of success \n",
    "𝑝\n",
    "p is constant for each trial.\n",
    "Poisson Distribution:\n",
    "Used for modeling the number of events occurring within a fixed interval of time or space.\n",
    "Assumes events occur independently and the average rate (mean number of events) \n",
    "𝜆\n",
    "λ is constant.\n",
    "There is no fixed number of trials; rather, it focuses on the number of events in a continuous domain."
   ]
  },
  {
   "cell_type": "markdown",
   "metadata": {},
   "source": [
    "### **Q8. Generate a random sample of size 1000 from a Poisson distribution with mean 5 and calculate the sample mean and variance.**"
   ]
  },
  {
   "cell_type": "code",
   "execution_count": 8,
   "metadata": {},
   "outputs": [
    {
     "name": "stdout",
     "output_type": "stream",
     "text": [
      "Sample Mean: 4.97\n",
      "Sample Variance: 4.947100000000001\n"
     ]
    }
   ],
   "source": [
    "import numpy as np\n",
    "\n",
    "# Generate a random sample from a Poisson distribution\n",
    "sample_size = 1000\n",
    "mean = 5\n",
    "sample = np.random.poisson(lam=mean, size=sample_size)\n",
    "\n",
    "# Calculate sample mean and variance\n",
    "sample_mean = np.mean(sample)\n",
    "sample_variance = np.var(sample)\n",
    "\n",
    "print(\"Sample Mean:\", sample_mean)\n",
    "print(\"Sample Variance:\", sample_variance)\n"
   ]
  },
  {
   "cell_type": "markdown",
   "metadata": {},
   "source": [
    "### **Q9. How mean and variance are related in Binomial distribution and Poisson distribution?**"
   ]
  },
  {
   "cell_type": "markdown",
   "metadata": {},
   "source": [
    "In both the Binomial distribution and the Poisson distribution:\n",
    "\n",
    "### Mean (Expected Value):\n",
    "- The mean represents the average or expected value of the distribution.\n",
    "- It indicates the central tendency of the distribution.\n",
    "- In the Binomial distribution, the mean \\( \\mu \\) is equal to \\( n \\times p \\), where \\( n \\) is the number of trials and \\( p \\) is the probability of success.\n",
    "- In the Poisson distribution, the mean \\( \\lambda \\) is equal to the average rate or intensity parameter of the distribution.\n",
    "\n",
    "### Variance:\n",
    "- Variance measures the spread or dispersion of the distribution around the mean.\n",
    "- It quantifies how much the values in the distribution deviate from the mean.\n",
    "- In the Binomial distribution, the variance \\( \\sigma^2 \\) is equal to \\( n \\times p \\times (1 - p) \\), where \\( n \\) is the number of trials and \\( p \\) is the probability of success.\n",
    "- In the Poisson distribution, the variance \\( \\sigma^2 \\) is equal to the mean \\( \\lambda \\).\n",
    "\n",
    "### Relationship:\n",
    "- In the Binomial distribution, the variance is directly proportional to both the number of trials \\( n \\) and the probability of success \\( p \\).\n",
    "- In the Poisson distribution, the variance is equal to the mean \\( \\lambda \\), and there is no other parameter involved.\n",
    "\n",
    "### Summary:\n",
    "- In the Binomial distribution, the variance depends on both the number of trials and the probability of success.\n",
    "- In the Poisson distribution, the variance is equal to the mean, indicating a specific relationship between the spread and the average rate of occurrence."
   ]
  },
  {
   "cell_type": "markdown",
   "metadata": {},
   "source": [
    "### **Q10. In normal distribution with respect to mean position, where does the least frequent data appear?**"
   ]
  },
  {
   "cell_type": "markdown",
   "metadata": {},
   "source": [
    "In a normal distribution, the least frequent data points appear in the tails of the distribution, farthest away from the mean.\n",
    "\n",
    "### Explanation:\n",
    "\n",
    "1. **Symmetry around the Mean**:\n",
    "   - In a normal distribution, the data is symmetrically distributed around the mean.\n",
    "   - The mean represents the center of the distribution, and the distribution is symmetrically spread out on both sides of the mean.\n",
    "\n",
    "2. **Tails of the Distribution**:\n",
    "   - The tails of the distribution are the extreme ends or outermost regions.\n",
    "   - As you move away from the mean towards the tails, the frequency of occurrence of data points decreases.\n",
    "   - The tails contain the least frequent data points in the distribution.\n",
    "\n",
    "3. **Probability Density**:\n",
    "   - In a normal distribution, the probability density decreases as you move away from the mean towards the tails.\n",
    "   - The density of data points is highest around the mean and gradually decreases towards the tails.\n",
    "\n",
    "4. **Inflection Points**:\n",
    "   - The inflection points of a normal distribution occur at \\( \\pm 1 \\) standard deviation away from the mean.\n",
    "   - Beyond these inflection points, the curvature of the distribution changes, indicating the transition from the central region to the tails.\n",
    "\n",
    "### Conclusion:\n",
    "In summary, in a normal distribution, the least frequent data points appear in the tails of the distribution, which are the extreme ends farthest away from the mean. The highest frequency of data points occurs around the mean, and the frequency gradually decreases as you move towards the tails."
   ]
  },
  {
   "cell_type": "markdown",
   "metadata": {},
   "source": [
    "# **Complete**"
   ]
  }
 ],
 "metadata": {
  "kernelspec": {
   "display_name": "Python 3",
   "language": "python",
   "name": "python3"
  },
  "language_info": {
   "codemirror_mode": {
    "name": "ipython",
    "version": 3
   },
   "file_extension": ".py",
   "mimetype": "text/x-python",
   "name": "python",
   "nbconvert_exporter": "python",
   "pygments_lexer": "ipython3",
   "version": "3.12.1"
  }
 },
 "nbformat": 4,
 "nbformat_minor": 2
}
