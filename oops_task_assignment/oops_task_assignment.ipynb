{
 "cells": [
  {
   "cell_type": "markdown",
   "metadata": {},
   "source": [
    "OOPS Task Assignment - Karan Parmar"
   ]
  },
  {
   "cell_type": "markdown",
   "metadata": {},
   "source": [
    "Q1. Create a vehicle class with an init method having instance variables as name_of_vehicle, max_speed and average_of_vehicle."
   ]
  },
  {
   "cell_type": "code",
   "execution_count": 2,
   "metadata": {},
   "outputs": [],
   "source": [
    "class vehicle:\n",
    "    def __init__(self, name_of_vehicle, max_speed, average_of_vehicle):\n",
    "        self.name_of_vehicle = name_of_vehicle\n",
    "        self.max_speed = max_speed\n",
    "        self.average_of_vehicle = average_of_vehicle        "
   ]
  },
  {
   "cell_type": "markdown",
   "metadata": {},
   "source": [
    "Q2. Create a child class car from the vehicle class created in Que 1, which will inherit the vehicle class. Create a method named seating _ capacity which takes capacity as an argument and returns the name of the vehicle and its seating capacity."
   ]
  },
  {
   "cell_type": "code",
   "execution_count": 5,
   "metadata": {},
   "outputs": [
    {
     "data": {
      "text/plain": [
       "'the Tata Nexon has a seating capacity of 5 people'"
      ]
     },
     "execution_count": 5,
     "metadata": {},
     "output_type": "execute_result"
    }
   ],
   "source": [
    "class child_class(vehicle):\n",
    "    def seating_capacity(self,seating_capacity):\n",
    "        return f'the {self.name_of_vehicle} has a seating capacity of {seating_capacity} people'\n",
    "    \n",
    "new_car = child_class('Tata Nexon', 210, 20)\n",
    "new_car.seating_capacity(5)"
   ]
  },
  {
   "cell_type": "markdown",
   "metadata": {},
   "source": [
    "Q3. What is multiple inheritance? Write a python code to demonstrate multiple inheritance."
   ]
  },
  {
   "cell_type": "markdown",
   "metadata": {},
   "source": [
    "When a class inherits two different classes and can use all the methods of this inherited classes is called multiple inheritance"
   ]
  },
  {
   "cell_type": "code",
   "execution_count": 8,
   "metadata": {},
   "outputs": [
    {
     "name": "stdout",
     "output_type": "stream",
     "text": [
      "this is the tree from class 1\n",
      "this is water from class 2\n"
     ]
    }
   ],
   "source": [
    "class tree:\n",
    "    def class1(self):\n",
    "        return \"this is the tree from class 1\"\n",
    "    \n",
    "class water:\n",
    "    def class2(self):\n",
    "        return \"this is water from class 2\"\n",
    "    \n",
    "class soil(tree, water):\n",
    "    pass\n",
    "\n",
    "grow = soil()\n",
    "\n",
    "print(grow.class1())\n",
    "print(grow.class2())"
   ]
  },
  {
   "cell_type": "markdown",
   "metadata": {},
   "source": [
    "Q4. What are getter and setter in python? Create a class and create a getter and a setter method in this class."
   ]
  },
  {
   "cell_type": "markdown",
   "metadata": {},
   "source": [
    "When we dont want the user to directly access the class methods, we use the process of encapsulation and when we use encapsulation our goal is to prevent user from even interacting the main objects of these methods. In order to achieve this we create  getter and setter methods, getter method fetches the value from the class and provides the user, while setter method sets the new value of the class object "
   ]
  },
  {
   "cell_type": "code",
   "execution_count": 15,
   "metadata": {},
   "outputs": [
    {
     "name": "stdout",
     "output_type": "stream",
     "text": [
      "5\n",
      "successfully updated\n",
      "6\n"
     ]
    }
   ],
   "source": [
    "class tree:\n",
    "    def __init__(self, name, years_to_grow, life):\n",
    "        self.__name = name\n",
    "        self.__years_to_grow = years_to_grow\n",
    "        self.__life = life\n",
    "\n",
    "    def set_years_to_grow(self, num):\n",
    "        self.__years_to_grow = num if num>=1 else 3\n",
    "        return \"successfully updated\"\n",
    "\n",
    "    def get_years_to_grow(self):\n",
    "        return self.__years_to_grow\n",
    "    \n",
    "tree1 = tree('mango', 5, 20)\n",
    "print(tree1.get_years_to_grow())\n",
    "print(tree1.set_years_to_grow(6))\n",
    "print(tree1.get_years_to_grow())"
   ]
  },
  {
   "cell_type": "markdown",
   "metadata": {},
   "source": [
    "Q5.What is method overriding in python? Write a python code to demonstrate method overriding."
   ]
  },
  {
   "cell_type": "markdown",
   "metadata": {},
   "source": [
    "When a child class or subclass overwrites a method of the main class than it is called as overriding. In overriding the method only changes for the subclass inside itself, it dosenot change the main method of the class or inside any other subclass"
   ]
  },
  {
   "cell_type": "code",
   "execution_count": 16,
   "metadata": {},
   "outputs": [
    {
     "name": "stdout",
     "output_type": "stream",
     "text": [
      "Animal speaks\n",
      "Dog barks\n",
      "Cat meows\n"
     ]
    }
   ],
   "source": [
    "class Animal:\n",
    "    def speak(self):\n",
    "        print(\"Animal speaks\")\n",
    "\n",
    "class Dog(Animal):\n",
    "    def speak(self):\n",
    "        print(\"Dog barks\")\n",
    "\n",
    "class Cat(Animal):\n",
    "    def speak(self):\n",
    "        print(\"Cat meows\")\n",
    "\n",
    "animal = Animal()\n",
    "dog = Dog()\n",
    "cat = Cat()\n",
    "\n",
    "animal.speak()\n",
    "dog.speak()\n",
    "cat.speak()\n"
   ]
  },
  {
   "cell_type": "markdown",
   "metadata": {},
   "source": [
    "Complete YAY!"
   ]
  },
  {
   "cell_type": "code",
   "execution_count": null,
   "metadata": {},
   "outputs": [],
   "source": []
  }
 ],
 "metadata": {
  "kernelspec": {
   "display_name": "Python 3",
   "language": "python",
   "name": "python3"
  },
  "language_info": {
   "codemirror_mode": {
    "name": "ipython",
    "version": 3
   },
   "file_extension": ".py",
   "mimetype": "text/x-python",
   "name": "python",
   "nbconvert_exporter": "python",
   "pygments_lexer": "ipython3",
   "version": "3.11.4"
  }
 },
 "nbformat": 4,
 "nbformat_minor": 2
}
