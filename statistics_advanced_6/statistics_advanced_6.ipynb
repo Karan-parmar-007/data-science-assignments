{
 "cells": [
  {
   "cell_type": "markdown",
   "metadata": {},
   "source": [
    "# **Statistic Advanced 6**"
   ]
  },
  {
   "cell_type": "markdown",
   "metadata": {},
   "source": [
    "Q1: Explain the assumptions required to use ANOVA and provide examples of violations that could impact the validity of the results."
   ]
  },
  {
   "cell_type": "markdown",
   "metadata": {},
   "source": [
    "#### Assumptions Required for ANOVA:\n",
    "\n",
    "1. **Independence of Observations**:\n",
    "    - Each observation should be independent of the others. This means that the data collected from different groups should not influence each other.\n",
    "    - **Violation Example**: If multiple measurements are taken from the same subject or if there is some inherent connection between groups (like repeated measures without proper adjustments), this assumption is violated.\n",
    "\n",
    "2. **Normality**:\n",
    "    - The data within each group should be approximately normally distributed.\n",
    "    - **Violation Example**: If the data is heavily skewed or has outliers, the normality assumption might be violated. For instance, if you are comparing the income levels of different groups and the income data is skewed, this could impact the results of ANOVA.\n",
    "\n",
    "3. **Homogeneity of Variances (Homoscedasticity)**:\n",
    "    - The variance among the groups should be approximately equal.\n",
    "    - **Violation Example**: If one group has much higher variability in scores than another group, this assumption is violated. For instance, comparing the test scores of different teaching methods where one method results in highly variable scores compared to the others.\n",
    "\n",
    "4. **Fixed Effects Model**:\n",
    "    - The levels of the factor(s) are fixed and not random.\n",
    "    - **Violation Example**: If the levels of the factor are randomly chosen and not fixed, this assumption is violated.\n",
    "\n",
    "#### Examples of Violations and Their Impact:\n",
    "\n",
    "1. **Independence Violation**:\n",
    "    - **Example**: Measuring the same set of students multiple times without proper adjustments.\n",
    "    - **Impact**: This can lead to an inflation of type I error rates (false positives), where the test indicates a significant effect when there isn't one.\n",
    "\n",
    "2. **Normality Violation**:\n",
    "    - **Example**: Analyzing reaction times that are positively skewed without transformation.\n",
    "    - **Impact**: ANOVA is robust to some deviations from normality, but severe violations can lead to incorrect conclusions, particularly in small sample sizes.\n",
    "\n",
    "3. **Homogeneity of Variances Violation**:\n",
    "    - **Example**: Comparing the effectiveness of three drugs where one drug has highly variable side effects compared to the others.\n",
    "    - **Impact**: Violations of this assumption can lead to inaccurate F-statistics and p-values, potentially leading to incorrect inferences about group differences.\n",
    "\n",
    "4. **Fixed Effects Violation**:\n",
    "    - **Example**: If the groups being compared are not fixed but randomly selected from a larger population.\n",
    "    - **Impact**: This affects the generalizability of the results. Inferences drawn may not apply to the larger population, leading to misleading conclusions.\n",
    "\n",
    "To mitigate the impact of these violations, researchers can:\n",
    "- Use transformations to normalize data.\n",
    "- Apply robust statistical techniques like Welch's ANOVA when variances are unequal.\n",
    "- Use non-parametric tests like the Kruskal-Wallis test if normality is severely violated.\n",
    "- Ensure proper experimental design to maintain independence of observations.\n",
    "\n",
    "Understanding and checking these assumptions before performing ANOVA is crucial to ensure the validity and reliability of the results."
   ]
  },
  {
   "cell_type": "markdown",
   "metadata": {},
   "source": [
    "Q2: What are the three types of ANOVA, and in what situations would each be used?"
   ]
  },
  {
   "cell_type": "markdown",
   "metadata": {},
   "source": [
    "One-Way ANOVA:\n",
    "\n",
    "Situation: Used when comparing the means of three or more independent groups based on a single factor.\n",
    "Example: Comparing the average test scores of students from three different teaching methods.\n",
    "Two-Way ANOVA:\n",
    "\n",
    "Situation: Used when comparing the means of groups based on two independent factors. It can also assess the interaction between the two factors.\n",
    "Example: Studying the effect of different teaching methods and different study times on test scores.\n",
    "Repeated Measures ANOVA:\n",
    "\n",
    "Situation: Used when the same subjects are measured multiple times under different conditions.\n",
    "Example: Measuring the blood pressure of patients before, during, and after administering a drug."
   ]
  },
  {
   "cell_type": "markdown",
   "metadata": {},
   "source": [
    "Q3: What is the partitioning of variance in ANOVA, and why is it important to understand this concept?"
   ]
  },
  {
   "cell_type": "markdown",
   "metadata": {},
   "source": [
    "Partitioning of Variance:\n",
    "\n",
    "Total Sum of Squares (SST): Represents the total variance in the data.\n",
    "Explained Sum of Squares (SSE): Represents the variance explained by the groups.\n",
    "Residual Sum of Squares (SSR): Represents the variance within the groups (error).\n",
    "Importance:\n",
    "\n",
    "Understanding how variance is partitioned helps in determining whether the differences between group means are significant or if they could have occurred by chance.\n",
    "It aids in calculating the F-statistic, which is used to test the null hypothesis in ANOVA."
   ]
  },
  {
   "cell_type": "markdown",
   "metadata": {},
   "source": [
    "Q4: How would you calculate the total sum of squares (SST), explained sum of squares (SSE), and residual sum of squares (SSR) in a one-way ANOVA using Python?"
   ]
  },
  {
   "cell_type": "code",
   "execution_count": 1,
   "metadata": {},
   "outputs": [
    {
     "name": "stdout",
     "output_type": "stream",
     "text": [
      "SST: 6.417333333333333, SSE: 5.937333333333333, SSR: 0.4799999999999999\n"
     ]
    }
   ],
   "source": [
    "import numpy as np\n",
    "import pandas as pd\n",
    "from scipy import stats\n",
    "\n",
    "# Sample data (replace with actual data)\n",
    "group1 = [2.1, 2.5, 2.3, 2.8, 2.7]\n",
    "group2 = [3.2, 3.3, 3.1, 3.0, 3.4]\n",
    "group3 = [1.5, 1.7, 1.6, 1.8, 1.7]\n",
    "\n",
    "# Combine the data\n",
    "data = group1 + group2 + group3\n",
    "groups = ['group1']*len(group1) + ['group2']*len(group2) + ['group3']*len(group3)\n",
    "\n",
    "df = pd.DataFrame({'group': groups, 'value': data})\n",
    "\n",
    "# Calculate group means and overall mean\n",
    "group_means = df.groupby('group')['value'].mean()\n",
    "overall_mean = df['value'].mean()\n",
    "\n",
    "# Total Sum of Squares (SST)\n",
    "sst = sum((df['value'] - overall_mean)**2)\n",
    "\n",
    "# Explained Sum of Squares (SSE)\n",
    "sse = sum(df.groupby('group').size() * (group_means - overall_mean)**2)\n",
    "\n",
    "# Residual Sum of Squares (SSR)\n",
    "ssr = sum((df['value'] - df['group'].map(group_means))**2)\n",
    "\n",
    "print(f\"SST: {sst}, SSE: {sse}, SSR: {ssr}\")\n"
   ]
  },
  {
   "cell_type": "markdown",
   "metadata": {},
   "source": [
    "Q5: In a two-way ANOVA, how would you calculate the main effects and interaction effects using Python?"
   ]
  },
  {
   "cell_type": "code",
   "execution_count": 2,
   "metadata": {},
   "outputs": [
    {
     "name": "stdout",
     "output_type": "stream",
     "text": [
      "                          sum_sq   df         F    PR(>F)\n",
      "C(FactorA)             20.416667  1.0  2.070423  0.200233\n",
      "C(FactorB)              0.416667  1.0  0.042254  0.843934\n",
      "C(FactorA):C(FactorB)   0.416667  1.0  0.042254  0.843934\n",
      "Residual               59.166667  6.0       NaN       NaN\n"
     ]
    }
   ],
   "source": [
    "import pandas as pd\n",
    "import statsmodels.api as sm\n",
    "from statsmodels.formula.api import ols\n",
    "\n",
    "# Sample data (replace with actual data)\n",
    "data = {\n",
    "    'FactorA': ['A1', 'A1', 'A1', 'A2', 'A2', 'A2', 'A1', 'A1', 'A2', 'A2'],\n",
    "    'FactorB': ['B1', 'B2', 'B2', 'B1', 'B2', 'B1', 'B1', 'B2', 'B2', 'B1'],\n",
    "    'Value': [20, 21, 19, 23, 22, 25, 24, 26, 27, 28]\n",
    "}\n",
    "\n",
    "df = pd.DataFrame(data)\n",
    "\n",
    "# Fit the two-way ANOVA model\n",
    "model = ols('Value ~ C(FactorA) + C(FactorB) + C(FactorA):C(FactorB)', data=df).fit()\n",
    "anova_table = sm.stats.anova_lm(model, typ=2)\n",
    "\n",
    "print(anova_table)\n"
   ]
  },
  {
   "cell_type": "markdown",
   "metadata": {},
   "source": [
    "Q6: Suppose you conducted a one-way ANOVA and obtained an F-statistic of 5.23 and a p-value of 0.02. What can you conclude about the differences between the groups, and how would you interpret these results?"
   ]
  },
  {
   "cell_type": "markdown",
   "metadata": {},
   "source": [
    "Conclusion:\n",
    "\n",
    "Since the p-value (0.02) is less than the significance level (0.05), we reject the null hypothesis.\n",
    "Interpretation:\n",
    "\n",
    "There are significant differences between the group means. This means that at least one group mean is significantly different from the others."
   ]
  },
  {
   "cell_type": "markdown",
   "metadata": {},
   "source": [
    "Q7: In a repeated measures ANOVA, how would you handle missing data, and what are the potential consequences of using different methods to handle missing data?"
   ]
  },
  {
   "cell_type": "markdown",
   "metadata": {},
   "source": [
    "Handling Missing Data:\n",
    "\n",
    "Listwise Deletion: Removing any case with missing data.\n",
    "Pairwise Deletion: Using all available data without excluding entire cases.\n",
    "Mean Substitution: Replacing missing values with the mean of the available data.\n",
    "Multiple Imputation: Using statistical methods to estimate and replace missing data.\n",
    "Consequences:\n",
    "\n",
    "Listwise Deletion: Can reduce the sample size and statistical power.\n",
    "Pairwise Deletion: Can lead to biased estimates if the data are not missing completely at random.\n",
    "Mean Substitution: Can underestimate the variability and lead to biased estimates.\n",
    "Multiple Imputation: Provides more accurate estimates but is computationally intensive."
   ]
  },
  {
   "cell_type": "markdown",
   "metadata": {},
   "source": [
    "Q8: What are some common post-hoc tests used after ANOVA, and when would you use each one? Provide an example of a situation where a post-hoc test might be necessary."
   ]
  },
  {
   "cell_type": "markdown",
   "metadata": {},
   "source": [
    "Common Post-Hoc Tests:\n",
    "\n",
    "Tukey's HSD: Used to compare all possible pairs of means. Example: Comparing the means of multiple teaching methods.\n",
    "Bonferroni Correction: Used to adjust the significance level when multiple comparisons are made. Example: Comparing the means of different drug treatments while controlling for Type I error.\n",
    "Scheffé Test: Used when all possible contrasts between means need to be tested. Example: Comparing the means of different diet plans with unequal sample sizes.\n",
    "Situation for Post-Hoc Test:\n",
    "\n",
    "After finding a significant F-statistic in ANOVA, to determine which specific groups are significantly different from each other."
   ]
  },
  {
   "cell_type": "markdown",
   "metadata": {},
   "source": [
    "Q9: Conduct a one-way ANOVA using Python to determine if there are any significant differences between the mean weight loss of three diets: A, B, and C. Report the F-statistic and p-value, and interpret the results."
   ]
  },
  {
   "cell_type": "code",
   "execution_count": 3,
   "metadata": {},
   "outputs": [
    {
     "name": "stdout",
     "output_type": "stream",
     "text": [
      "F-statistic: 402.41039790879984, P-value: 2.4157375915394667e-34\n",
      "Reject the null hypothesis. There are significant differences between the mean weight loss of the three diets.\n"
     ]
    }
   ],
   "source": [
    "import numpy as np\n",
    "import scipy.stats as stats\n",
    "\n",
    "# Sample data (replace with actual data)\n",
    "diet_A = [2.1, 2.5, 2.3, 2.8, 2.7, 2.2, 2.4, 2.6, 2.5, 2.7, 2.3, 2.8, 2.9, 2.5, 2.6, 2.8, 2.7, 2.9, 2.4, 2.5]\n",
    "diet_B = [3.2, 3.3, 3.1, 3.0, 3.4, 3.3, 3.1, 3.2, 3.5, 3.1, 3.2, 3.0, 3.4, 3.3, 3.2, 3.5, 3.3, 3.1, 3.2, 3.4]\n",
    "diet_C = [1.5, 1.7, 1.6, 1.8, 1.7, 1.5, 1.6, 1.8, 1.7, 1.9, 1.6, 1.8, 1.7, 1.5, 1.6, 1.9, 1.7, 1.8, 1.6, 1.7]\n",
    "\n",
    "# Conduct one-way ANOVA\n",
    "f_stat, p_val = stats.f_oneway(diet_A, diet_B, diet_C)\n",
    "\n",
    "print(f\"F-statistic: {f_stat}, P-value: {p_val}\")\n",
    "\n",
    "# Interpretation\n",
    "if p_val < 0.05:\n",
    "    print(\"Reject the null hypothesis. There are significant differences between the mean weight loss of the three diets.\")\n",
    "else:\n",
    "    print(\"Fail to reject the null hypothesis. There are no significant differences between the mean weight loss of the three diets.\")\n"
   ]
  },
  {
   "cell_type": "markdown",
   "metadata": {},
   "source": [
    "Q10: Conduct a two-way ANOVA using Python to determine if there are any main effects or interaction effects between the software programs and employee experience level (novice vs. experienced)."
   ]
  },
  {
   "cell_type": "code",
   "execution_count": 4,
   "metadata": {},
   "outputs": [
    {
     "name": "stdout",
     "output_type": "stream",
     "text": [
      "                               sum_sq    df           F        PR(>F)\n",
      "C(Program)                 168.233333   2.0   23.919431  3.638865e-08\n",
      "C(Experience)             1050.016667   1.0  298.582938  1.166851e-23\n",
      "C(Program):C(Experience)   340.833333   2.0   48.459716  8.882029e-13\n",
      "Residual                   189.900000  54.0         NaN           NaN\n",
      "\n",
      "Interpretation:\n",
      "There is a significant effect of C(Program).\n",
      "There is a significant effect of C(Experience).\n",
      "There is a significant effect of C(Program):C(Experience).\n"
     ]
    }
   ],
   "source": [
    "import pandas as pd\n",
    "import statsmodels.api as sm\n",
    "from statsmodels.formula.api import ols\n",
    "\n",
    "# Sample data (replace with actual data)\n",
    "data = {\n",
    "    'Program': ['A']*10 + ['B']*10 + ['C']*10 + ['A']*10 + ['B']*10 + ['C']*10,\n",
    "    'Experience': ['Novice']*30 + ['Experienced']*30,\n",
    "    'Time': [30, 35, 28, 31, 32, 34, 29, 27, 33, 30, 25, 30, 26, 28, 27, 26, 29, 31, 30, 28, 20, 22, 21, 23, 24, 22, 25, 21, 23, 20, 15, 18, 14, 16, 17, 15, 18, 14, 19, 16, 19, 21, 18, 22, 23, 19, 20, 21, 23, 22, 18, 17, 19, 20, 18, 19, 21, 20, 18, 19]\n",
    "}\n",
    "\n",
    "# Create DataFrame\n",
    "df = pd.DataFrame(data)\n",
    "\n",
    "# Fit the two-way ANOVA model\n",
    "model = ols('Time ~ C(Program) + C(Experience) + C(Program):C(Experience)', data=df).fit()\n",
    "anova_table = sm.stats.anova_lm(model, typ=2)\n",
    "\n",
    "print(anova_table)\n",
    "\n",
    "# Interpretation\n",
    "print(\"\\nInterpretation:\")\n",
    "for factor in ['C(Program)', 'C(Experience)', 'C(Program):C(Experience)']:\n",
    "    if anova_table['PR(>F)'][factor] < 0.05:\n",
    "        print(f\"There is a significant effect of {factor}.\")\n",
    "    else:\n",
    "        print(f\"There is no significant effect of {factor}.\")\n"
   ]
  },
  {
   "cell_type": "markdown",
   "metadata": {},
   "source": [
    "Q11: Conduct a two-sample t-test using Python to determine if there are any significant differences in test scores between the control group and the experimental group."
   ]
  },
  {
   "cell_type": "code",
   "execution_count": 5,
   "metadata": {},
   "outputs": [
    {
     "name": "stdout",
     "output_type": "stream",
     "text": [
      "T-statistic: -20.041339095162105, P-value: 9.451070788284656e-28\n",
      "Reject the null hypothesis. There are significant differences in test scores between the control and experimental groups.\n"
     ]
    }
   ],
   "source": [
    "import numpy as np\n",
    "import scipy.stats as stats\n",
    "\n",
    "# Sample data (replace with actual data)\n",
    "control_group = [75, 78, 72, 74, 76, 73, 71, 79, 77, 74, 73, 72, 76, 78, 75, 74, 77, 79, 72, 76, 73, 75, 77, 74, 73, 72, 76, 78, 75, 74]\n",
    "experimental_group = [82, 85, 83, 84, 86, 85, 84, 83, 85, 82, 84, 83, 85, 86, 84, 85, 83, 84, 85, 83, 84, 85, 86, 84, 85, 83, 84, 85, 83, 84]\n",
    "\n",
    "# Conduct two-sample t-test\n",
    "t_stat, p_val = stats.ttest_ind(control_group, experimental_group)\n",
    "\n",
    "print(f\"T-statistic: {t_stat}, P-value: {p_val}\")\n",
    "\n",
    "# Interpretation\n",
    "if p_val < 0.05:\n",
    "    print(\"Reject the null hypothesis. There are significant differences in test scores between the control and experimental groups.\")\n",
    "else:\n",
    "    print(\"Fail to reject the null hypothesis. There are no significant differences in test scores between the control and experimental groups.\")\n"
   ]
  },
  {
   "cell_type": "markdown",
   "metadata": {},
   "source": [
    "Q12: Conduct a repeated measures ANOVA using Python to determine if there are any significant differences in sales between the three stores."
   ]
  },
  {
   "cell_type": "code",
   "execution_count": 6,
   "metadata": {},
   "outputs": [
    {
     "name": "stdout",
     "output_type": "stream",
     "text": [
      "               Anova\n",
      "===================================\n",
      "      F Value Num DF  Den DF Pr > F\n",
      "-----------------------------------\n",
      "Store  0.1132 2.0000 58.0000 0.8932\n",
      "===================================\n",
      "\n",
      "\n",
      "Interpretation:\n",
      "Fail to reject the null hypothesis. There are no significant differences in sales between the three stores.\n"
     ]
    },
    {
     "name": "stderr",
     "output_type": "stream",
     "text": [
      "C:\\Users\\ASUS\\AppData\\Local\\Temp\\ipykernel_32012\\2461073053.py:26: FutureWarning: Series.__getitem__ treating keys as positions is deprecated. In a future version, integer keys will always be treated as labels (consistent with DataFrame behavior). To access a value by position, use `ser.iloc[pos]`\n",
      "  if res.anova_table['Pr > F'][0] < 0.05:\n"
     ]
    }
   ],
   "source": [
    "import pandas as pd\n",
    "import statsmodels.api as sm\n",
    "from statsmodels.formula.api import ols\n",
    "from statsmodels.stats.anova import AnovaRM\n",
    "\n",
    "# Sample data (replace with actual data)\n",
    "data = {\n",
    "    'Day': list(range(1, 31)) * 3,\n",
    "    'Store': ['A']*30 + ['B']*30 + ['C']*30,\n",
    "    'Sales': [200, 220, 210, 215, 230, 225, 220, 210, 215, 225, 230, 240, 220, 215, 225, 230, 235, 240, 225, 230, 240, 235, 230, 225, 220, 215, 225, 230, 220, 215,\n",
    "              210, 215, 220, 225, 230, 235, 240, 225, 230, 235, 220, 215, 210, 220, 225, 230, 215, 220, 225, 210, 220, 225, 230, 240, 220, 215, 230, 225, 230, 235,\n",
    "              210, 215, 220, 210, 215, 220, 225, 230, 235, 240, 230, 225, 220, 215, 230, 225, 220, 230, 225, 220, 215, 210, 220, 215, 220, 225, 230, 235, 240, 225]\n",
    "}\n",
    "\n",
    "# Create DataFrame\n",
    "df = pd.DataFrame(data)\n",
    "\n",
    "# Fit the repeated measures ANOVA model\n",
    "aovrm = AnovaRM(df, 'Sales', 'Day', within=['Store'])\n",
    "res = aovrm.fit()\n",
    "\n",
    "print(res)\n",
    "\n",
    "# Interpretation\n",
    "print(\"\\nInterpretation:\")\n",
    "if res.anova_table['Pr > F'][0] < 0.05:\n",
    "    print(\"Reject the null hypothesis. There are significant differences in sales between the three stores.\")\n",
    "else:\n",
    "    print(\"Fail to reject the null hypothesis. There are no significant differences in sales between the three stores.\")\n"
   ]
  },
  {
   "cell_type": "markdown",
   "metadata": {},
   "source": [
    "# **Complete**"
   ]
  }
 ],
 "metadata": {
  "kernelspec": {
   "display_name": "base",
   "language": "python",
   "name": "python3"
  },
  "language_info": {
   "codemirror_mode": {
    "name": "ipython",
    "version": 3
   },
   "file_extension": ".py",
   "mimetype": "text/x-python",
   "name": "python",
   "nbconvert_exporter": "python",
   "pygments_lexer": "ipython3",
   "version": "3.11.5"
  }
 },
 "nbformat": 4,
 "nbformat_minor": 2
}
